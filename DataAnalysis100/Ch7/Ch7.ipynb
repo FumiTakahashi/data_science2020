{
  "nbformat": 4,
  "nbformat_minor": 0,
  "metadata": {
    "colab": {
      "name": "Ch7.ipynb",
      "provenance": [],
      "collapsed_sections": [],
      "toc_visible": true
    },
    "kernelspec": {
      "name": "python3",
      "display_name": "Python 3"
    }
  },
  "cells": [
    {
      "cell_type": "markdown",
      "metadata": {
        "id": "hF9w_hKpovlH"
      },
      "source": [
        "## 第７章: ロジスティックネットワークの最適設計を行う１０本ノック"
      ]
    },
    {
      "cell_type": "markdown",
      "metadata": {
        "id": "C1U1k1kdogS1"
      },
      "source": [
        "> ## 準備"
      ]
    },
    {
      "cell_type": "code",
      "metadata": {
        "id": "rSLa9Tm6nsRy",
        "outputId": "ee882755-eeab-471b-fef3-b68ee81a3075",
        "colab": {
          "base_uri": "https://localhost:8080/",
          "height": 33
        }
      },
      "source": [
        "# フォルダーに移動\n",
        "% cd /content/drive/My Drive/Colab Notebooks/deeplab/data_analysis_100/"
      ],
      "execution_count": 1,
      "outputs": [
        {
          "output_type": "stream",
          "text": [
            "/content/drive/My Drive/Colab Notebooks/deeplab/data_analysis_100\n"
          ],
          "name": "stdout"
        }
      ]
    },
    {
      "cell_type": "code",
      "metadata": {
        "id": "_abNG3Bwofsm",
        "outputId": "5594bb1d-a0b6-4b93-9227-e3751368fa84",
        "colab": {
          "base_uri": "https://localhost:8080/",
          "height": 180
        }
      },
      "source": [
        "% ls サンプルコード_20200325/7章"
      ],
      "execution_count": 2,
      "outputs": [
        {
          "output_type": "stream",
          "text": [
            "'7章 ロジスティクスネットワークの最適設計を行う10本ノック_answer.ipynb'\n",
            "'7章 ロジスティクスネットワークの最適設計を行う10本ノック.ipynb'\n",
            " demand.csv\n",
            " product_plan.csv\n",
            " product_plan_material.csv\n",
            " product_plan_profit.csv\n",
            " product_plan_stock.csv\n",
            " supply.csv\n",
            " trans_cost.csv\n",
            " trans_route_pos.csv\n"
          ],
          "name": "stdout"
        }
      ]
    },
    {
      "cell_type": "code",
      "metadata": {
        "id": "NbqXtCGbou_J",
        "outputId": "62c52897-0071-4359-cab7-26a0d39ba97b",
        "colab": {
          "base_uri": "https://localhost:8080/",
          "height": 147
        }
      },
      "source": [
        "# 日本語フォント用\n",
        "!pip install japanize-matplotlib"
      ],
      "execution_count": 3,
      "outputs": [
        {
          "output_type": "stream",
          "text": [
            "Requirement already satisfied: japanize-matplotlib in /usr/local/lib/python3.6/dist-packages (1.1.2)\n",
            "Requirement already satisfied: matplotlib in /usr/local/lib/python3.6/dist-packages (from japanize-matplotlib) (3.2.2)\n",
            "Requirement already satisfied: pyparsing!=2.0.4,!=2.1.2,!=2.1.6,>=2.0.1 in /usr/local/lib/python3.6/dist-packages (from matplotlib->japanize-matplotlib) (2.4.7)\n",
            "Requirement already satisfied: cycler>=0.10 in /usr/local/lib/python3.6/dist-packages (from matplotlib->japanize-matplotlib) (0.10.0)\n",
            "Requirement already satisfied: numpy>=1.11 in /usr/local/lib/python3.6/dist-packages (from matplotlib->japanize-matplotlib) (1.18.5)\n",
            "Requirement already satisfied: python-dateutil>=2.1 in /usr/local/lib/python3.6/dist-packages (from matplotlib->japanize-matplotlib) (2.8.1)\n",
            "Requirement already satisfied: kiwisolver>=1.0.1 in /usr/local/lib/python3.6/dist-packages (from matplotlib->japanize-matplotlib) (1.2.0)\n",
            "Requirement already satisfied: six in /usr/local/lib/python3.6/dist-packages (from cycler>=0.10->matplotlib->japanize-matplotlib) (1.15.0)\n"
          ],
          "name": "stdout"
        }
      ]
    },
    {
      "cell_type": "code",
      "metadata": {
        "id": "4s27T44doxmv",
        "outputId": "1dc0202d-f11d-4330-a964-c356565cbd59",
        "colab": {
          "base_uri": "https://localhost:8080/",
          "height": 66
        }
      },
      "source": [
        "# Load libraries\n",
        "\n",
        "import pandas as pd\n",
        "import numpy as np\n",
        "import matplotlib.pyplot as plt\n",
        "import japanize_matplotlib\n",
        "import seaborn as sns\n",
        "%matplotlib inline"
      ],
      "execution_count": 4,
      "outputs": [
        {
          "output_type": "stream",
          "text": [
            "/usr/local/lib/python3.6/dist-packages/japanize_matplotlib/japanize_matplotlib.py:15: MatplotlibDeprecationWarning: \n",
            "The createFontList function was deprecated in Matplotlib 3.2 and will be removed two minor releases later. Use FontManager.addfont instead.\n",
            "  font_list = font_manager.createFontList(font_files)\n"
          ],
          "name": "stderr"
        }
      ]
    },
    {
      "cell_type": "code",
      "metadata": {
        "id": "uoAbwqzmqMNv"
      },
      "source": [
        "# Ignore warnings\n",
        "import warnings\n",
        "warnings.filterwarnings('ignore')"
      ],
      "execution_count": 5,
      "outputs": []
    },
    {
      "cell_type": "code",
      "metadata": {
        "id": "b29zzUciozcl"
      },
      "source": [
        "# Config\n",
        "PATH = './サンプルコード_20200325/7章/'"
      ],
      "execution_count": 6,
      "outputs": []
    },
    {
      "cell_type": "code",
      "metadata": {
        "id": "WjyQj5l7ZHiq",
        "outputId": "1be09566-c429-4598-da06-03e902ffd0c7",
        "colab": {
          "base_uri": "https://localhost:8080/",
          "height": 147
        }
      },
      "source": [
        "# データのロード\n",
        "from os import listdir\n",
        "for file in listdir(PATH):\n",
        "  if file.endswith('.csv'):\n",
        "    file_name = 'df_{}'.format(file.replace('.csv', ''))\n",
        "    globals()[file_name] = pd.read_csv(PATH+file)\n",
        "    print(file_name)"
      ],
      "execution_count": 7,
      "outputs": [
        {
          "output_type": "stream",
          "text": [
            "df_product_plan_stock\n",
            "df_trans_cost\n",
            "df_demand\n",
            "df_product_plan_material\n",
            "df_supply\n",
            "df_trans_route_pos\n",
            "df_product_plan\n",
            "df_product_plan_profit\n"
          ],
          "name": "stdout"
        }
      ]
    },
    {
      "cell_type": "markdown",
      "metadata": {
        "id": "HFkbazo0o5kH"
      },
      "source": [
        "> ## ノック61:輸送晨適化問題を解いてみよう"
      ]
    },
    {
      "cell_type": "markdown",
      "metadata": {
        "id": "wPqNhQY2ri8R"
      },
      "source": [
        "pulp と ortoolpy は初めて使うので、基本教科書通りに進めます。"
      ]
    },
    {
      "cell_type": "markdown",
      "metadata": {
        "id": "o1hNYR7xuo9A"
      },
      "source": [
        "### pulp\n",
        "- https://docs.pyq.jp/python/math_opt/pulp.html\n",
        "- https://qiita.com/mzmttks/items/82ea3a51e4dbea8fbc17"
      ]
    },
    {
      "cell_type": "code",
      "metadata": {
        "id": "iXT0L_csvsWk",
        "outputId": "4b27ead1-de27-400c-b3f3-2b8ab6894dd6",
        "colab": {
          "base_uri": "https://localhost:8080/",
          "height": 163
        }
      },
      "source": [
        "! pip install pulp\n",
        "! pip install ortoolpy"
      ],
      "execution_count": 8,
      "outputs": [
        {
          "output_type": "stream",
          "text": [
            "Requirement already satisfied: pulp in /usr/local/lib/python3.6/dist-packages (2.3)\n",
            "Requirement already satisfied: amply>=0.1.2 in /usr/local/lib/python3.6/dist-packages (from pulp) (0.1.4)\n",
            "Requirement already satisfied: pyparsing in /usr/local/lib/python3.6/dist-packages (from amply>=0.1.2->pulp) (2.4.7)\n",
            "Requirement already satisfied: docutils>=0.3 in /usr/local/lib/python3.6/dist-packages (from amply>=0.1.2->pulp) (0.16)\n",
            "Requirement already satisfied: ortoolpy in /usr/local/lib/python3.6/dist-packages (0.2.30)\n",
            "Requirement already satisfied: pulp in /usr/local/lib/python3.6/dist-packages (from ortoolpy) (2.3)\n",
            "Requirement already satisfied: amply>=0.1.2 in /usr/local/lib/python3.6/dist-packages (from pulp->ortoolpy) (0.1.4)\n",
            "Requirement already satisfied: pyparsing in /usr/local/lib/python3.6/dist-packages (from amply>=0.1.2->pulp->ortoolpy) (2.4.7)\n",
            "Requirement already satisfied: docutils>=0.3 in /usr/local/lib/python3.6/dist-packages (from amply>=0.1.2->pulp->ortoolpy) (0.16)\n"
          ],
          "name": "stdout"
        }
      ]
    },
    {
      "cell_type": "code",
      "metadata": {
        "id": "zVCbrKBsvedz"
      },
      "source": [
        "# libraryの読み込み\n",
        "from pulp import LpVariable, lpSum, value\n",
        "from ortoolpy import model_min, addvars, addvals\n",
        "from itertools import product"
      ],
      "execution_count": 9,
      "outputs": []
    },
    {
      "cell_type": "code",
      "metadata": {
        "id": "bv-KZ1r8daWH",
        "outputId": "b651403b-13db-4ffc-f763-ba54b5fbd5cd",
        "colab": {
          "base_uri": "https://localhost:8080/",
          "height": 162
        }
      },
      "source": [
        "df_trans_cost.set_index('工場', drop=True, inplace=True)\n",
        "df_trans_cost"
      ],
      "execution_count": 10,
      "outputs": [
        {
          "output_type": "execute_result",
          "data": {
            "text/html": [
              "<div>\n",
              "<style scoped>\n",
              "    .dataframe tbody tr th:only-of-type {\n",
              "        vertical-align: middle;\n",
              "    }\n",
              "\n",
              "    .dataframe tbody tr th {\n",
              "        vertical-align: top;\n",
              "    }\n",
              "\n",
              "    .dataframe thead th {\n",
              "        text-align: right;\n",
              "    }\n",
              "</style>\n",
              "<table border=\"1\" class=\"dataframe\">\n",
              "  <thead>\n",
              "    <tr style=\"text-align: right;\">\n",
              "      <th></th>\n",
              "      <th>F1</th>\n",
              "      <th>F2</th>\n",
              "      <th>F3</th>\n",
              "      <th>F4</th>\n",
              "    </tr>\n",
              "    <tr>\n",
              "      <th>工場</th>\n",
              "      <th></th>\n",
              "      <th></th>\n",
              "      <th></th>\n",
              "      <th></th>\n",
              "    </tr>\n",
              "  </thead>\n",
              "  <tbody>\n",
              "    <tr>\n",
              "      <th>W1</th>\n",
              "      <td>10</td>\n",
              "      <td>10</td>\n",
              "      <td>11</td>\n",
              "      <td>27</td>\n",
              "    </tr>\n",
              "    <tr>\n",
              "      <th>W2</th>\n",
              "      <td>18</td>\n",
              "      <td>21</td>\n",
              "      <td>12</td>\n",
              "      <td>14</td>\n",
              "    </tr>\n",
              "    <tr>\n",
              "      <th>W3</th>\n",
              "      <td>15</td>\n",
              "      <td>12</td>\n",
              "      <td>14</td>\n",
              "      <td>12</td>\n",
              "    </tr>\n",
              "  </tbody>\n",
              "</table>\n",
              "</div>"
            ],
            "text/plain": [
              "    F1  F2  F3  F4\n",
              "工場                \n",
              "W1  10  10  11  27\n",
              "W2  18  21  12  14\n",
              "W3  15  12  14  12"
            ]
          },
          "metadata": {
            "tags": []
          },
          "execution_count": 10
        }
      ]
    },
    {
      "cell_type": "code",
      "metadata": {
        "id": "UppVr3RYd6iH",
        "outputId": "5e77c3a2-c357-4051-f5d8-14e23189f172",
        "colab": {
          "base_uri": "https://localhost:8080/",
          "height": 76
        }
      },
      "source": [
        "df_demand"
      ],
      "execution_count": 11,
      "outputs": [
        {
          "output_type": "execute_result",
          "data": {
            "text/html": [
              "<div>\n",
              "<style scoped>\n",
              "    .dataframe tbody tr th:only-of-type {\n",
              "        vertical-align: middle;\n",
              "    }\n",
              "\n",
              "    .dataframe tbody tr th {\n",
              "        vertical-align: top;\n",
              "    }\n",
              "\n",
              "    .dataframe thead th {\n",
              "        text-align: right;\n",
              "    }\n",
              "</style>\n",
              "<table border=\"1\" class=\"dataframe\">\n",
              "  <thead>\n",
              "    <tr style=\"text-align: right;\">\n",
              "      <th></th>\n",
              "      <th>F1</th>\n",
              "      <th>F2</th>\n",
              "      <th>F3</th>\n",
              "      <th>F4</th>\n",
              "    </tr>\n",
              "  </thead>\n",
              "  <tbody>\n",
              "    <tr>\n",
              "      <th>0</th>\n",
              "      <td>28</td>\n",
              "      <td>29</td>\n",
              "      <td>31</td>\n",
              "      <td>25</td>\n",
              "    </tr>\n",
              "  </tbody>\n",
              "</table>\n",
              "</div>"
            ],
            "text/plain": [
              "   F1  F2  F3  F4\n",
              "0  28  29  31  25"
            ]
          },
          "metadata": {
            "tags": []
          },
          "execution_count": 11
        }
      ]
    },
    {
      "cell_type": "code",
      "metadata": {
        "id": "7fEdgrI6d-vf",
        "outputId": "6565abb3-0c13-4408-9b4b-d13e7dc35fb8",
        "colab": {
          "base_uri": "https://localhost:8080/",
          "height": 76
        }
      },
      "source": [
        "df_supply"
      ],
      "execution_count": 12,
      "outputs": [
        {
          "output_type": "execute_result",
          "data": {
            "text/html": [
              "<div>\n",
              "<style scoped>\n",
              "    .dataframe tbody tr th:only-of-type {\n",
              "        vertical-align: middle;\n",
              "    }\n",
              "\n",
              "    .dataframe tbody tr th {\n",
              "        vertical-align: top;\n",
              "    }\n",
              "\n",
              "    .dataframe thead th {\n",
              "        text-align: right;\n",
              "    }\n",
              "</style>\n",
              "<table border=\"1\" class=\"dataframe\">\n",
              "  <thead>\n",
              "    <tr style=\"text-align: right;\">\n",
              "      <th></th>\n",
              "      <th>W1</th>\n",
              "      <th>W2</th>\n",
              "      <th>W3</th>\n",
              "    </tr>\n",
              "  </thead>\n",
              "  <tbody>\n",
              "    <tr>\n",
              "      <th>0</th>\n",
              "      <td>35</td>\n",
              "      <td>41</td>\n",
              "      <td>42</td>\n",
              "    </tr>\n",
              "  </tbody>\n",
              "</table>\n",
              "</div>"
            ],
            "text/plain": [
              "   W1  W2  W3\n",
              "0  35  41  42"
            ]
          },
          "metadata": {
            "tags": []
          },
          "execution_count": 12
        }
      ]
    },
    {
      "cell_type": "code",
      "metadata": {
        "id": "v5XE2YZtrQp6",
        "outputId": "d1e1c731-ff61-4b45-9b3d-914943dc0e9f",
        "colab": {
          "base_uri": "https://localhost:8080/",
          "height": 115
        }
      },
      "source": [
        "# pupl は初めて使うライブラリなので、自分用にコメント色々書いてます。見辛くてすみません。\n",
        "\n",
        "np.random.seed(0)\n",
        "n_wh = len(df_trans_cost.index)\n",
        "n_fc= len(df_trans_cost.columns)\n",
        "pr = list(product(range(n_wh), range(n_fc)))\n",
        "\n",
        "# 最小化したい目的関数のインスタンスを定義\n",
        "m1 = model_min()\n",
        "\n",
        "# 変数の定義 (LpVariable(変数名, バウンド))\n",
        "v1 = {(i, j): LpVariable('v%d_%d'%(i,j), lowBound=0) for i, j in pr}\n",
        "\n",
        "# 目的変数の定義 (各輸送ルートのコストと最適化したい変数の積の和)\n",
        "m1 += lpSum(df_trans_cost.iloc[i][j]*v1[i,j] for i, j in pr)\n",
        "\n",
        "# 制約条件の定義\n",
        "# 供給側 (各倉庫の供給量上限を下回っているか)\n",
        "for i in range(n_wh):\n",
        "  m1 += lpSum(v1[i, j] for j in range(n_fc)) <= df_supply.iloc[0][i]\n",
        "# 需要側 (各向上の最低需要量を上回っているか)\n",
        "for j in range(n_fc):\n",
        "  m1 += lpSum(v1[i, j] for i in range(n_wh)) >= df_demand.iloc[0][j]\n",
        "\n",
        "# 最適化\n",
        "m1.solve()\n",
        "\n",
        "# 総輸送コスト計算\n",
        "df_trans_cost_sol = df_trans_cost.copy()\n",
        "total_cost = 0\n",
        "\n",
        "for k,x in v1.items():\n",
        "    i,j = k[0],k[1]\n",
        "    df_trans_cost_sol.iloc[i][j] = value(x)\n",
        "    total_cost += df_trans_cost.iloc[i][j]*value(x)\n",
        "\n",
        "    \n",
        "print(df_trans_cost_sol)\n",
        "print(\"総輸送コスト:\"+str(total_cost))\n"
      ],
      "execution_count": 13,
      "outputs": [
        {
          "output_type": "stream",
          "text": [
            "    F1  F2  F3  F4\n",
            "工場                \n",
            "W1  28   7   0   0\n",
            "W2   0   0  31   5\n",
            "W3   0  22   0  20\n",
            "総輸送コスト:1296.0\n"
          ],
          "name": "stdout"
        }
      ]
    },
    {
      "cell_type": "markdown",
      "metadata": {
        "id": "syVG_DHlQ6wz"
      },
      "source": [
        "コストはChapter6で手動で計算した1493より 203低く抑えられている。"
      ]
    },
    {
      "cell_type": "markdown",
      "metadata": {
        "id": "gDKB9uxtpD3l"
      },
      "source": [
        "> ## ノック62:最適輸送ルートをネットワークで確認しよう"
      ]
    },
    {
      "cell_type": "code",
      "metadata": {
        "id": "v2qkU636XMmh",
        "outputId": "ff5321b9-7702-4a72-de99-42c8cf0fe4cb",
        "colab": {
          "base_uri": "https://localhost:8080/",
          "height": 318
        }
      },
      "source": [
        "import networkx as nx\n",
        "\n",
        "\n",
        "G = nx.Graph()\n",
        "pos = {}\n",
        "\n",
        "list_F = df_trans_cost.columns\n",
        "list_W = df_trans_cost.index\n",
        "list_FW = df_trans_route_pos.columns\n",
        "\n",
        "# ノードと座標の追加\n",
        "for col in list_FW:\n",
        "  G.add_node(col)\n",
        "  pos[col] = (df_trans_route_pos[col][0], df_trans_route_pos[col][1])\n",
        "\n",
        "# エッジと重みの追加\n",
        "edge_weights = []\n",
        "\n",
        "for w in list_W:\n",
        "  for f in list_F:\n",
        "    G.add_edge(w, f)\n",
        "    edge_weights.append(df_trans_cost_sol[f][w]*0.1)\n",
        "\n",
        "# 描画\n",
        "nx.draw(G, pos, with_labels=True, font_size=16, node_size = 1000, node_color='k', font_color='w', width=edge_weights)\n",
        "\n",
        "# 表示\n",
        "plt.show()"
      ],
      "execution_count": 14,
      "outputs": [
        {
          "output_type": "display_data",
          "data": {
            "image/png": "[encoded data removed]",
            "text/plain": [
              "<Figure size 432x288 with 1 Axes>"
            ]
          },
          "metadata": {
            "tags": []
          }
        }
      ]
    },
    {
      "cell_type": "code",
      "metadata": {
        "id": "hPDY3VLSNYGX",
        "outputId": "d7a51121-93ba-4054-d779-5fda62fba59d",
        "colab": {
          "base_uri": "https://localhost:8080/",
          "height": 305
        }
      },
      "source": [
        "# Chapter 6 で手動で計算したルート\n",
        "from IPython.display import Image\n",
        "Image( './サンプルコード_20200325/6章/Ch6_manual_route.png')"
      ],
      "execution_count": 15,
      "outputs": [
        {
          "output_type": "execute_result",
          "data": {
            "image/png": "[encoded data removed]",
            "text/plain": [
              "<IPython.core.display.Image object>"
            ]
          },
          "metadata": {
            "tags": []
          },
          "execution_count": 15
        }
      ]
    },
    {
      "cell_type": "markdown",
      "metadata": {
        "id": "O06iZQgcPsdS"
      },
      "source": [
        "- 基本的にW1がF1に、W2からF3に、W3からF2への輸送が多いのは変わらないが、いくつかのルートがなくなった。\n",
        "- 輸送元はある程度まとめた方が良さそう。"
      ]
    },
    {
      "cell_type": "markdown",
      "metadata": {
        "id": "F6tS0QFTpEGe"
      },
      "source": [
        "> ## ノック63:最適輸送ルートが制約条件内に収まっているかどうかを確認しよう"
      ]
    },
    {
      "cell_type": "code",
      "metadata": {
        "id": "IOo3mG2GBJgD"
      },
      "source": [
        "# 工場からの需要量\n",
        "def check_demand_condition(df_trans_route, df_demand):\n",
        "  demand_flag = {}\n",
        "  for i in range(len(df_demand.columns)):\n",
        "    temp_sum = sum(df_trans_route[df_demand.columns[i]])\n",
        "    if temp_sum>=df_demand.iloc[0][i]:\n",
        "      demand_flag[df_demand.columns[i]] = 1\n",
        "    else:\n",
        "      demand_flag[df_demand.columns[i]] = 0\n",
        "  print('需要条件計算結果： ', demand_flag)\n",
        "\n",
        "# 倉庫からの供給量\n",
        "def check_supply_condition(df_trans_route, df_supply):\n",
        "  supply_flag = {}\n",
        "  for i in range(len(df_supply.columns)):\n",
        "    temp_sum = sum(df_trans_route.loc[df_supply.columns[i]])\n",
        "    if temp_sum<=df_supply.iloc[0][i]:\n",
        "      supply_flag[df_supply.columns[i]] = 1\n",
        "    else:\n",
        "      supply_flag[df_supply.columns[i]] = 0\n",
        "  print('供給条件計算結果： ', supply_flag)"
      ],
      "execution_count": 16,
      "outputs": []
    },
    {
      "cell_type": "code",
      "metadata": {
        "id": "bhryfYZNS6qO",
        "outputId": "b254b3aa-0665-4fe1-e0a0-420431db1fff",
        "colab": {
          "base_uri": "https://localhost:8080/",
          "height": 50
        }
      },
      "source": [
        "check_demand_condition(df_trans_cost_sol, df_demand)\n",
        "check_supply_condition(df_trans_cost_sol, df_supply)"
      ],
      "execution_count": 17,
      "outputs": [
        {
          "output_type": "stream",
          "text": [
            "需要条件計算結果：  {'F1': 1, 'F2': 1, 'F3': 1, 'F4': 1}\n",
            "供給条件計算結果：  {'W1': 1, 'W2': 1, 'W3': 1}\n"
          ],
          "name": "stdout"
        }
      ]
    },
    {
      "cell_type": "markdown",
      "metadata": {
        "id": "BO3vjRLxTeyh"
      },
      "source": [
        "需要側も供給側も条件が満たされているのを確認"
      ]
    },
    {
      "cell_type": "markdown",
      "metadata": {
        "id": "ej80D7iQpEN9"
      },
      "source": [
        "> ## ノック64::生産計画に関するデータを読み込んでみよう"
      ]
    },
    {
      "cell_type": "code",
      "metadata": {
        "id": "smkHUSkuUtPL",
        "outputId": "de523dd0-ea95-45f2-c924-a99a17c4ac76",
        "colab": {
          "base_uri": "https://localhost:8080/",
          "height": 133
        }
      },
      "source": [
        "# 製品ごとの原料\n",
        "df_product_plan_material.set_index('製品', drop = True, inplace=True)\n",
        "df_product_plan_material"
      ],
      "execution_count": 18,
      "outputs": [
        {
          "output_type": "execute_result",
          "data": {
            "text/html": [
              "<div>\n",
              "<style scoped>\n",
              "    .dataframe tbody tr th:only-of-type {\n",
              "        vertical-align: middle;\n",
              "    }\n",
              "\n",
              "    .dataframe tbody tr th {\n",
              "        vertical-align: top;\n",
              "    }\n",
              "\n",
              "    .dataframe thead th {\n",
              "        text-align: right;\n",
              "    }\n",
              "</style>\n",
              "<table border=\"1\" class=\"dataframe\">\n",
              "  <thead>\n",
              "    <tr style=\"text-align: right;\">\n",
              "      <th></th>\n",
              "      <th>原料1</th>\n",
              "      <th>原料2</th>\n",
              "      <th>原料3</th>\n",
              "    </tr>\n",
              "    <tr>\n",
              "      <th>製品</th>\n",
              "      <th></th>\n",
              "      <th></th>\n",
              "      <th></th>\n",
              "    </tr>\n",
              "  </thead>\n",
              "  <tbody>\n",
              "    <tr>\n",
              "      <th>製品1</th>\n",
              "      <td>1</td>\n",
              "      <td>4</td>\n",
              "      <td>3</td>\n",
              "    </tr>\n",
              "    <tr>\n",
              "      <th>製品2</th>\n",
              "      <td>2</td>\n",
              "      <td>4</td>\n",
              "      <td>1</td>\n",
              "    </tr>\n",
              "  </tbody>\n",
              "</table>\n",
              "</div>"
            ],
            "text/plain": [
              "     原料1  原料2  原料3\n",
              "製品                \n",
              "製品1    1    4    3\n",
              "製品2    2    4    1"
            ]
          },
          "metadata": {
            "tags": []
          },
          "execution_count": 18
        }
      ]
    },
    {
      "cell_type": "code",
      "metadata": {
        "id": "-nsFqwQgUyz3",
        "outputId": "9461cede-4105-42b4-b388-3bbbb7621694",
        "colab": {
          "base_uri": "https://localhost:8080/",
          "height": 105
        }
      },
      "source": [
        "# 原料の在庫状況\n",
        "df_product_plan_stock.set_index('項目', drop=True, inplace=True)\n",
        "df_product_plan_stock"
      ],
      "execution_count": 19,
      "outputs": [
        {
          "output_type": "execute_result",
          "data": {
            "text/html": [
              "<div>\n",
              "<style scoped>\n",
              "    .dataframe tbody tr th:only-of-type {\n",
              "        vertical-align: middle;\n",
              "    }\n",
              "\n",
              "    .dataframe tbody tr th {\n",
              "        vertical-align: top;\n",
              "    }\n",
              "\n",
              "    .dataframe thead th {\n",
              "        text-align: right;\n",
              "    }\n",
              "</style>\n",
              "<table border=\"1\" class=\"dataframe\">\n",
              "  <thead>\n",
              "    <tr style=\"text-align: right;\">\n",
              "      <th></th>\n",
              "      <th>原料1</th>\n",
              "      <th>原料2</th>\n",
              "      <th>原料3</th>\n",
              "    </tr>\n",
              "    <tr>\n",
              "      <th>項目</th>\n",
              "      <th></th>\n",
              "      <th></th>\n",
              "      <th></th>\n",
              "    </tr>\n",
              "  </thead>\n",
              "  <tbody>\n",
              "    <tr>\n",
              "      <th>在庫</th>\n",
              "      <td>40</td>\n",
              "      <td>80</td>\n",
              "      <td>50</td>\n",
              "    </tr>\n",
              "  </tbody>\n",
              "</table>\n",
              "</div>"
            ],
            "text/plain": [
              "    原料1  原料2  原料3\n",
              "項目               \n",
              "在庫   40   80   50"
            ]
          },
          "metadata": {
            "tags": []
          },
          "execution_count": 19
        }
      ]
    },
    {
      "cell_type": "code",
      "metadata": {
        "id": "gz7PFgOyUvUt",
        "outputId": "3c371fd3-b54e-41c5-adf3-4fc55bb8e4fb",
        "colab": {
          "base_uri": "https://localhost:8080/",
          "height": 133
        }
      },
      "source": [
        "# 製品ごとの利益\n",
        "df_product_plan_profit.set_index('製品', drop=True, inplace=True)\n",
        "df_product_plan_profit"
      ],
      "execution_count": 20,
      "outputs": [
        {
          "output_type": "execute_result",
          "data": {
            "text/html": [
              "<div>\n",
              "<style scoped>\n",
              "    .dataframe tbody tr th:only-of-type {\n",
              "        vertical-align: middle;\n",
              "    }\n",
              "\n",
              "    .dataframe tbody tr th {\n",
              "        vertical-align: top;\n",
              "    }\n",
              "\n",
              "    .dataframe thead th {\n",
              "        text-align: right;\n",
              "    }\n",
              "</style>\n",
              "<table border=\"1\" class=\"dataframe\">\n",
              "  <thead>\n",
              "    <tr style=\"text-align: right;\">\n",
              "      <th></th>\n",
              "      <th>利益</th>\n",
              "    </tr>\n",
              "    <tr>\n",
              "      <th>製品</th>\n",
              "      <th></th>\n",
              "    </tr>\n",
              "  </thead>\n",
              "  <tbody>\n",
              "    <tr>\n",
              "      <th>製品1</th>\n",
              "      <td>5.0</td>\n",
              "    </tr>\n",
              "    <tr>\n",
              "      <th>製品2</th>\n",
              "      <td>4.0</td>\n",
              "    </tr>\n",
              "  </tbody>\n",
              "</table>\n",
              "</div>"
            ],
            "text/plain": [
              "      利益\n",
              "製品      \n",
              "製品1  5.0\n",
              "製品2  4.0"
            ]
          },
          "metadata": {
            "tags": []
          },
          "execution_count": 20
        }
      ]
    },
    {
      "cell_type": "code",
      "metadata": {
        "id": "cijgDcCNU3yP",
        "outputId": "b20b5cea-2a2e-484c-a6cf-b446be4c6873",
        "colab": {
          "base_uri": "https://localhost:8080/",
          "height": 133
        }
      },
      "source": [
        "# 製品ごとの生産量\n",
        "df_product_plan.set_index('製品', drop=True,  inplace=True)\n",
        "df_product_plan"
      ],
      "execution_count": 21,
      "outputs": [
        {
          "output_type": "execute_result",
          "data": {
            "text/html": [
              "<div>\n",
              "<style scoped>\n",
              "    .dataframe tbody tr th:only-of-type {\n",
              "        vertical-align: middle;\n",
              "    }\n",
              "\n",
              "    .dataframe tbody tr th {\n",
              "        vertical-align: top;\n",
              "    }\n",
              "\n",
              "    .dataframe thead th {\n",
              "        text-align: right;\n",
              "    }\n",
              "</style>\n",
              "<table border=\"1\" class=\"dataframe\">\n",
              "  <thead>\n",
              "    <tr style=\"text-align: right;\">\n",
              "      <th></th>\n",
              "      <th>生産量</th>\n",
              "    </tr>\n",
              "    <tr>\n",
              "      <th>製品</th>\n",
              "      <th></th>\n",
              "    </tr>\n",
              "  </thead>\n",
              "  <tbody>\n",
              "    <tr>\n",
              "      <th>製品1</th>\n",
              "      <td>16</td>\n",
              "    </tr>\n",
              "    <tr>\n",
              "      <th>製品2</th>\n",
              "      <td>0</td>\n",
              "    </tr>\n",
              "  </tbody>\n",
              "</table>\n",
              "</div>"
            ],
            "text/plain": [
              "      生産量\n",
              "製品       \n",
              "製品1    16\n",
              "製品2     0"
            ]
          },
          "metadata": {
            "tags": []
          },
          "execution_count": 21
        }
      ]
    },
    {
      "cell_type": "markdown",
      "metadata": {
        "id": "eCd57F8tpERE"
      },
      "source": [
        "> ## ノック65:利益を計算する関数を作ってみよう"
      ]
    },
    {
      "cell_type": "code",
      "metadata": {
        "id": "PKW3v2-DfMFV"
      },
      "source": [
        "# 総利益を計算する関数\n",
        "def calc_profit(df_profit, df_plan):\n",
        "  return sum(df_profit.iloc[:, 0]*df_plan.iloc[:,0])"
      ],
      "execution_count": 22,
      "outputs": []
    },
    {
      "cell_type": "code",
      "metadata": {
        "id": "X9cCcCWjfKnr",
        "outputId": "90292d99-cdda-46da-a595-805fc3ffe452",
        "colab": {
          "base_uri": "https://localhost:8080/",
          "height": 33
        }
      },
      "source": [
        "print('総利益: ' + str(calc_profit(df_product_plan_profit, df_product_plan)))"
      ],
      "execution_count": 23,
      "outputs": [
        {
          "output_type": "stream",
          "text": [
            "総利益: 80.0\n"
          ],
          "name": "stdout"
        }
      ]
    },
    {
      "cell_type": "markdown",
      "metadata": {
        "id": "C-zlFixlpKSZ"
      },
      "source": [
        "> ## ノック66:生産最適化問題を解いてみよう"
      ]
    },
    {
      "cell_type": "markdown",
      "metadata": {
        "id": "2pc2NFDiyZXs"
      },
      "source": [
        "pulp を使って利益が最大となる生産量を求める."
      ]
    },
    {
      "cell_type": "code",
      "metadata": {
        "id": "Xn6lm744iYYP",
        "outputId": "5c57a59c-0a64-4a7b-dbb9-04406161104f",
        "colab": {
          "base_uri": "https://localhost:8080/",
          "height": 33
        }
      },
      "source": [
        "from pulp import LpVariable, lpSum, value\n",
        "from ortoolpy import model_max, addvars, addvals\n",
        "\n",
        "# 最大化する目的関数\n",
        "m = model_max()\n",
        "\n",
        "# 求めたい変数の定義 (生産量)\n",
        "v1 = {(i): LpVariable('v%d'%(i), lowBound=0) for i in range(len(df_product_plan_profit))}\n",
        "\n",
        "# 最大化する値の定義 (生産量*個別利益)\n",
        "m += lpSum(df_product_plan_profit.iloc[i]*v1[i] for i in range(len(df_product_plan_profit)))\n",
        "\n",
        "# 制約条件の定義\n",
        "# 生産量に対して必要な材料が在庫量を下回っているか\n",
        "for i in range(len(df_product_plan_material.columns)):\n",
        "  m+= lpSum(df_product_plan_material.iloc[j, i]*v1[j] for j in range(len(df_product_plan_profit)))<=df_product_plan_stock.iloc[:, i]\n",
        "\n",
        "# 最適化\n",
        "m.solve()"
      ],
      "execution_count": 24,
      "outputs": [
        {
          "output_type": "execute_result",
          "data": {
            "text/plain": [
              "1"
            ]
          },
          "metadata": {
            "tags": []
          },
          "execution_count": 24
        }
      ]
    },
    {
      "cell_type": "code",
      "metadata": {
        "id": "AcVflE_9oA-s",
        "outputId": "2731f058-18f4-4773-cc79-b724554c85ea",
        "colab": {
          "base_uri": "https://localhost:8080/",
          "height": 98
        }
      },
      "source": [
        "df_product_plan_sol = df_product_plan.copy()\n",
        "for k, x in v1.items():\n",
        "  df_product_plan_sol.iloc[k] = value(x)\n",
        "print(df_product_plan_sol)\n",
        "print('総利益: '+str(calc_profit(df_product_plan_profit, df_product_plan_sol)))"
      ],
      "execution_count": 25,
      "outputs": [
        {
          "output_type": "stream",
          "text": [
            "      生産量\n",
            "製品       \n",
            "製品1  15.0\n",
            "製品2   5.0\n",
            "総利益: 95.0\n"
          ],
          "name": "stdout"
        }
      ]
    },
    {
      "cell_type": "markdown",
      "metadata": {
        "id": "sIoGB26UpBC-"
      },
      "source": [
        "製品１だけを生産した場合に比べて15万円増収。"
      ]
    },
    {
      "cell_type": "code",
      "metadata": {
        "id": "4Bi3PVZn6uaV",
        "outputId": "1b3a1c2f-b311-4afe-f992-b6380a95a7f8",
        "colab": {
          "base_uri": "https://localhost:8080/",
          "height": 357
        }
      },
      "source": [
        "# 材料の分配を可視化してみる\n",
        "\n",
        "G = nx.Graph()\n",
        "pos = {}\n",
        "\n",
        "list_M = list(df_product_plan_material.columns)\n",
        "list_P = list(df_product_plan_material.index)\n",
        "\n",
        "# ノードと座標の追加\n",
        "# M: 原料  \n",
        "# P:  製品\n",
        "for i in range(len(list_M)):\n",
        "  G.add_node('M%d'%(i+1))\n",
        "  pos['M%d'%(i+1)] = (0, i)\n",
        "for i in range(len(list_P)):\n",
        "  G.add_node('P%d'%(i+1))\n",
        "  pos['P%d'%(i+1)] = (1, i)\n",
        "\n",
        "# エッジと重みの追加\n",
        "edge_weights_opt = []\n",
        "edge_weights_pre = []\n",
        "\n",
        "for i in range(len(list_M)):\n",
        "  for j in range(len(list_P)):\n",
        "    m = list_M[i]\n",
        "    p = list_P[j]\n",
        "    G.add_edge('M%d'%(i+1), 'P%d'%(j+1))\n",
        "    edge_weights_opt.append(df_product_plan_sol.loc[p][0]*df_product_plan_material.loc[p][m]*0.1)\n",
        "    edge_weights_pre.append(df_product_plan.loc[p][0]*df_product_plan_material.loc[p][m]*0.1)\n",
        "\n",
        "# 描画\n",
        "fig, axes = plt.subplots(1, 2, figsize=(10, 6))\n",
        "nx.draw(G, pos, with_labels=True, font_size=14, node_size = 800, node_color='k', font_color='w', width=edge_weights_pre, ax=axes[0])\n",
        "nx.draw(G, pos, with_labels=True, font_size=14, node_size = 800, node_color='b', font_color='w', width=edge_weights_opt, ax=axes[1])\n",
        "\n",
        "# 表示\n",
        "plt.show()"
      ],
      "execution_count": 26,
      "outputs": [
        {
          "output_type": "display_data",
          "data": {
            "image/png": "[encoded data removed]",
            "text/plain": [
              "<Figure size 720x432 with 2 Axes>"
            ]
          },
          "metadata": {
            "tags": []
          }
        }
      ]
    },
    {
      "cell_type": "markdown",
      "metadata": {
        "id": "f_FAEBeeaKaR"
      },
      "source": [
        "左:  最適化前 ,  右: 最適化後\n",
        "\n"
      ]
    },
    {
      "cell_type": "markdown",
      "metadata": {
        "id": "gNLqh0x7pKa3"
      },
      "source": [
        "> ## ノック67:最摘生産計画が制約条件内に収まっているかどうかを確認しよう"
      ]
    },
    {
      "cell_type": "code",
      "metadata": {
        "id": "dsiewuEgpvhU"
      },
      "source": [
        "def check_stock_condition(df_product_plan_stock, df_product_plan_material, df_product_plan):\n",
        "  flag = {f:0 for f in df_product_plan_stock.columns}\n",
        "  for material in df_product_plan_stock.columns:\n",
        "    temp_sum = 0\n",
        "    for product in df_product_plan_material.index:\n",
        "      temp_sum += df_product_plan_material.loc[product][material]*df_product_plan.loc[product][0]\n",
        "\n",
        "    if(temp_sum <= float(df_product_plan_stock[material][0])):\n",
        "      flag[material] = 1\n",
        "    print(material + '    使用量： ' + str(temp_sum) + ', 在庫：' + str(float(df_product_plan_stock[material])))\n",
        "  return flag\n"
      ],
      "execution_count": 27,
      "outputs": []
    },
    {
      "cell_type": "code",
      "metadata": {
        "id": "a3Kr0GIntNY2",
        "outputId": "85b43352-e53b-46b5-c3b6-745dffb0d3ca",
        "colab": {
          "base_uri": "https://localhost:8080/",
          "height": 82
        }
      },
      "source": [
        "check_stock_condition(df_product_plan_stock, df_product_plan_material, df_product_plan_sol)"
      ],
      "execution_count": 28,
      "outputs": [
        {
          "output_type": "stream",
          "text": [
            "原料1    使用量： 25.0, 在庫：40.0\n",
            "原料2    使用量： 80.0, 在庫：80.0\n",
            "原料3    使用量： 50.0, 在庫：50.0\n"
          ],
          "name": "stdout"
        },
        {
          "output_type": "execute_result",
          "data": {
            "text/plain": [
              "{'原料1': 1, '原料2': 1, '原料3': 1}"
            ]
          },
          "metadata": {
            "tags": []
          },
          "execution_count": 28
        }
      ]
    },
    {
      "cell_type": "markdown",
      "metadata": {
        "id": "r45a4MAXpKe-"
      },
      "source": [
        "> ## ノック68:ロジスティクスネットワーク設計問題を解いてみよう\n"
      ]
    },
    {
      "cell_type": "markdown",
      "metadata": {
        "id": "xUk7ZeJk1Jfn"
      },
      "source": [
        "- 目的：輸送コストと生産コストの合計を最小化\n",
        "- 制約：需要を販売数を下回らないようにする"
      ]
    },
    {
      "cell_type": "markdown",
      "metadata": {
        "id": "oWwmKZXqeqBl"
      },
      "source": [
        "ortoolpyライブラリの logistics_networksという機能を使っていきます。\n",
        "#### ortoolpy公式Doc\n",
        "https://pydoc.net/ortoolpy/0.2.10/ortoolpy.etc/\n",
        "- はじめて ortoolpy 使いましたが、他にも色々最適化問題ソルバが揃ってて面白そう。\n"
      ]
    },
    {
      "cell_type": "code",
      "metadata": {
        "id": "SK8h7SG-0CcP",
        "outputId": "705fde48-9acd-4d8f-c82c-022932a4ab93",
        "colab": {
          "base_uri": "https://localhost:8080/",
          "height": 602
        }
      },
      "source": [
        "\n",
        "# 問題設定\n",
        "products = list('AB')\n",
        "shops = list('PQ')\n",
        "factories = list('XY')\n",
        "lane = (2,2)\n",
        "\n",
        "\"\"\"\n",
        "https://pydoc.net/ortoolpy/0.2.10/ortoolpy.etc/\n",
        "line 816\n",
        "\n",
        "logistics_network():\n",
        "    tbde: 需要地 製品 需要\n",
        "    tbdi: 需要地 工場 輸送費\n",
        "    tbfa: 工場 製品 生産費 (下限) (上限)\n",
        "    出力: 解の有無, 輸送表, 生産表\n",
        "\"\"\"\n",
        "\n",
        "# 輸送費表 \n",
        "tbdi = pd.DataFrame(((j,k) for j in shops for k in factories), columns=['需要地','工場'])\n",
        "tbdi['輸送費'] = [1,2,3,1]\n",
        "print('輸送表')\n",
        "print(tbdi)\n",
        "\n",
        "# 需要表 \n",
        "tbde = pd.DataFrame(((j,i) for j in shops for i in products), columns=['需要地','製品'])\n",
        "tbde['需要'] = [10,10,20,20]\n",
        "print('需要表')\n",
        "print(tbde)\n",
        "\n",
        "# 生産表 \n",
        "tbfa = pd.DataFrame(((k,l,i,0,np.inf) for k,nl in zip (factories,lane) for l in range(nl) for i in products), \n",
        "                    columns=['工場','レーン','製品','下限','上限'])\n",
        "tbfa['生産費'] = [1,np.nan,np.nan,1,3,np.nan,5,3]\n",
        "tbfa.dropna(inplace=True)\n",
        "tbfa.loc[4,'上限']=10\n",
        "print('生産表')\n",
        "print(tbfa)\n",
        "\n",
        "from ortoolpy import logistics_network\n",
        "_, tbdi2, _ = logistics_network(tbde,tbdi,tbfa)\n",
        "print('生産票(最適化後)')\n",
        "print(tbfa)\n",
        "print('輸送表(最適化後)')\n",
        "print(tbdi2)\n"
      ],
      "execution_count": 29,
      "outputs": [
        {
          "output_type": "stream",
          "text": [
            "輸送表\n",
            "  需要地 工場  輸送費\n",
            "0   P  X    1\n",
            "1   P  Y    2\n",
            "2   Q  X    3\n",
            "3   Q  Y    1\n",
            "需要表\n",
            "  需要地 製品  需要\n",
            "0   P  A  10\n",
            "1   P  B  10\n",
            "2   Q  A  20\n",
            "3   Q  B  20\n",
            "生産表\n",
            "  工場  レーン 製品  下限    上限  生産費\n",
            "0  X    0  A   0   inf  1.0\n",
            "3  X    1  B   0   inf  1.0\n",
            "4  Y    0  A   0  10.0  3.0\n",
            "6  Y    1  A   0   inf  5.0\n",
            "7  Y    1  B   0   inf  3.0\n",
            "生産票(最適化後)\n",
            "  工場  レーン 製品  下限    上限  生産費     VarY  ValY\n",
            "0  X    0  A   0   inf  1.0  v000009  20.0\n",
            "3  X    1  B   0   inf  1.0  v000010  10.0\n",
            "4  Y    0  A   0  10.0  3.0  v000011  10.0\n",
            "6  Y    1  A   0   inf  5.0  v000012   0.0\n",
            "7  Y    1  B   0   inf  3.0  v000013  20.0\n",
            "輸送表(最適化後)\n",
            "  需要地 工場  輸送費 製品     VarX  ValX\n",
            "0   P  X    1  A  v000001  10.0\n",
            "1   P  X    1  B  v000002  10.0\n",
            "2   Q  X    3  A  v000003  10.0\n",
            "3   Q  X    3  B  v000004   0.0\n",
            "4   P  Y    2  A  v000005   0.0\n",
            "5   P  Y    2  B  v000006   0.0\n",
            "6   Q  Y    1  A  v000007  10.0\n",
            "7   Q  Y    1  B  v000008  20.0\n"
          ],
          "name": "stdout"
        }
      ]
    },
    {
      "cell_type": "markdown",
      "metadata": {
        "id": "NHTL8NwGpKhy"
      },
      "source": [
        "> ## ノック69:最適ネットワークにおける輸送コストとその内訳を計算しよう\n"
      ]
    },
    {
      "cell_type": "code",
      "metadata": {
        "id": "wCkAcgB6ivj0",
        "outputId": "e031e18f-1edc-4684-a32b-fd2c51c58634",
        "colab": {
          "base_uri": "https://localhost:8080/",
          "height": 50
        }
      },
      "source": [
        "# 輸送コスト:  輸送費*輸送製品個数\n",
        "\n",
        "trans_cost = 0\n",
        "for i in range(len(tbdi2.index)):\n",
        "    trans_cost += tbdi2[\"輸送費\"].iloc[i]*tbdi2[\"ValX\"].iloc[i]\n",
        "print(\"総輸送コスト:\"+str(trans_cost))\n",
        "print('(単位：万円)')"
      ],
      "execution_count": 30,
      "outputs": [
        {
          "output_type": "stream",
          "text": [
            "総輸送コスト:80.0\n",
            "(単位：万円)\n"
          ],
          "name": "stdout"
        }
      ]
    },
    {
      "cell_type": "code",
      "metadata": {
        "id": "XSWEsgIXm2wa",
        "outputId": "9dec65f4-0bcf-49f8-9ade-b957a442354d",
        "colab": {
          "base_uri": "https://localhost:8080/",
          "height": 277
        }
      },
      "source": [
        "tbdi2"
      ],
      "execution_count": 31,
      "outputs": [
        {
          "output_type": "execute_result",
          "data": {
            "text/html": [
              "<div>\n",
              "<style scoped>\n",
              "    .dataframe tbody tr th:only-of-type {\n",
              "        vertical-align: middle;\n",
              "    }\n",
              "\n",
              "    .dataframe tbody tr th {\n",
              "        vertical-align: top;\n",
              "    }\n",
              "\n",
              "    .dataframe thead th {\n",
              "        text-align: right;\n",
              "    }\n",
              "</style>\n",
              "<table border=\"1\" class=\"dataframe\">\n",
              "  <thead>\n",
              "    <tr style=\"text-align: right;\">\n",
              "      <th></th>\n",
              "      <th>需要地</th>\n",
              "      <th>工場</th>\n",
              "      <th>輸送費</th>\n",
              "      <th>製品</th>\n",
              "      <th>VarX</th>\n",
              "      <th>ValX</th>\n",
              "    </tr>\n",
              "  </thead>\n",
              "  <tbody>\n",
              "    <tr>\n",
              "      <th>0</th>\n",
              "      <td>P</td>\n",
              "      <td>X</td>\n",
              "      <td>1</td>\n",
              "      <td>A</td>\n",
              "      <td>v000001</td>\n",
              "      <td>10.0</td>\n",
              "    </tr>\n",
              "    <tr>\n",
              "      <th>1</th>\n",
              "      <td>P</td>\n",
              "      <td>X</td>\n",
              "      <td>1</td>\n",
              "      <td>B</td>\n",
              "      <td>v000002</td>\n",
              "      <td>10.0</td>\n",
              "    </tr>\n",
              "    <tr>\n",
              "      <th>2</th>\n",
              "      <td>Q</td>\n",
              "      <td>X</td>\n",
              "      <td>3</td>\n",
              "      <td>A</td>\n",
              "      <td>v000003</td>\n",
              "      <td>10.0</td>\n",
              "    </tr>\n",
              "    <tr>\n",
              "      <th>3</th>\n",
              "      <td>Q</td>\n",
              "      <td>X</td>\n",
              "      <td>3</td>\n",
              "      <td>B</td>\n",
              "      <td>v000004</td>\n",
              "      <td>0.0</td>\n",
              "    </tr>\n",
              "    <tr>\n",
              "      <th>4</th>\n",
              "      <td>P</td>\n",
              "      <td>Y</td>\n",
              "      <td>2</td>\n",
              "      <td>A</td>\n",
              "      <td>v000005</td>\n",
              "      <td>0.0</td>\n",
              "    </tr>\n",
              "    <tr>\n",
              "      <th>5</th>\n",
              "      <td>P</td>\n",
              "      <td>Y</td>\n",
              "      <td>2</td>\n",
              "      <td>B</td>\n",
              "      <td>v000006</td>\n",
              "      <td>0.0</td>\n",
              "    </tr>\n",
              "    <tr>\n",
              "      <th>6</th>\n",
              "      <td>Q</td>\n",
              "      <td>Y</td>\n",
              "      <td>1</td>\n",
              "      <td>A</td>\n",
              "      <td>v000007</td>\n",
              "      <td>10.0</td>\n",
              "    </tr>\n",
              "    <tr>\n",
              "      <th>7</th>\n",
              "      <td>Q</td>\n",
              "      <td>Y</td>\n",
              "      <td>1</td>\n",
              "      <td>B</td>\n",
              "      <td>v000008</td>\n",
              "      <td>20.0</td>\n",
              "    </tr>\n",
              "  </tbody>\n",
              "</table>\n",
              "</div>"
            ],
            "text/plain": [
              "  需要地 工場  輸送費 製品     VarX  ValX\n",
              "0   P  X    1  A  v000001  10.0\n",
              "1   P  X    1  B  v000002  10.0\n",
              "2   Q  X    3  A  v000003  10.0\n",
              "3   Q  X    3  B  v000004   0.0\n",
              "4   P  Y    2  A  v000005   0.0\n",
              "5   P  Y    2  B  v000006   0.0\n",
              "6   Q  Y    1  A  v000007  10.0\n",
              "7   Q  Y    1  B  v000008  20.0"
            ]
          },
          "metadata": {
            "tags": []
          },
          "execution_count": 31
        }
      ]
    },
    {
      "cell_type": "markdown",
      "metadata": {
        "id": "ipN6vy5cpPbB"
      },
      "source": [
        "> ## ノック70:最適ネットワークにおける生産コストとその内訳を計算しよう"
      ]
    },
    {
      "cell_type": "code",
      "metadata": {
        "id": "OgZLN72ZpRKy",
        "outputId": "8792873e-f99b-4209-9d1d-d58194eda276",
        "colab": {
          "base_uri": "https://localhost:8080/",
          "height": 50
        }
      },
      "source": [
        "# 総生産コスト：生産費*生産製品個数\n",
        "\n",
        "product_cost = 0\n",
        "for i in range(len(tbfa.index)):\n",
        "    product_cost += tbfa[\"生産費\"].iloc[i]*tbfa[\"ValY\"].iloc[i]\n",
        "print(\"総生産コスト:\"+str(product_cost))\n",
        "print('(単位：万円)')"
      ],
      "execution_count": 32,
      "outputs": [
        {
          "output_type": "stream",
          "text": [
            "総生産コスト:120.0\n",
            "(単位：万円)\n"
          ],
          "name": "stdout"
        }
      ]
    },
    {
      "cell_type": "code",
      "metadata": {
        "id": "xPGPzTndm76G",
        "outputId": "9f142724-d64e-4cbd-b61d-0e506fe9c4a1",
        "colab": {
          "base_uri": "https://localhost:8080/",
          "height": 191
        }
      },
      "source": [
        "tbfa"
      ],
      "execution_count": 33,
      "outputs": [
        {
          "output_type": "execute_result",
          "data": {
            "text/html": [
              "<div>\n",
              "<style scoped>\n",
              "    .dataframe tbody tr th:only-of-type {\n",
              "        vertical-align: middle;\n",
              "    }\n",
              "\n",
              "    .dataframe tbody tr th {\n",
              "        vertical-align: top;\n",
              "    }\n",
              "\n",
              "    .dataframe thead th {\n",
              "        text-align: right;\n",
              "    }\n",
              "</style>\n",
              "<table border=\"1\" class=\"dataframe\">\n",
              "  <thead>\n",
              "    <tr style=\"text-align: right;\">\n",
              "      <th></th>\n",
              "      <th>工場</th>\n",
              "      <th>レーン</th>\n",
              "      <th>製品</th>\n",
              "      <th>下限</th>\n",
              "      <th>上限</th>\n",
              "      <th>生産費</th>\n",
              "      <th>VarY</th>\n",
              "      <th>ValY</th>\n",
              "    </tr>\n",
              "  </thead>\n",
              "  <tbody>\n",
              "    <tr>\n",
              "      <th>0</th>\n",
              "      <td>X</td>\n",
              "      <td>0</td>\n",
              "      <td>A</td>\n",
              "      <td>0</td>\n",
              "      <td>inf</td>\n",
              "      <td>1.0</td>\n",
              "      <td>v000009</td>\n",
              "      <td>20.0</td>\n",
              "    </tr>\n",
              "    <tr>\n",
              "      <th>3</th>\n",
              "      <td>X</td>\n",
              "      <td>1</td>\n",
              "      <td>B</td>\n",
              "      <td>0</td>\n",
              "      <td>inf</td>\n",
              "      <td>1.0</td>\n",
              "      <td>v000010</td>\n",
              "      <td>10.0</td>\n",
              "    </tr>\n",
              "    <tr>\n",
              "      <th>4</th>\n",
              "      <td>Y</td>\n",
              "      <td>0</td>\n",
              "      <td>A</td>\n",
              "      <td>0</td>\n",
              "      <td>10.0</td>\n",
              "      <td>3.0</td>\n",
              "      <td>v000011</td>\n",
              "      <td>10.0</td>\n",
              "    </tr>\n",
              "    <tr>\n",
              "      <th>6</th>\n",
              "      <td>Y</td>\n",
              "      <td>1</td>\n",
              "      <td>A</td>\n",
              "      <td>0</td>\n",
              "      <td>inf</td>\n",
              "      <td>5.0</td>\n",
              "      <td>v000012</td>\n",
              "      <td>0.0</td>\n",
              "    </tr>\n",
              "    <tr>\n",
              "      <th>7</th>\n",
              "      <td>Y</td>\n",
              "      <td>1</td>\n",
              "      <td>B</td>\n",
              "      <td>0</td>\n",
              "      <td>inf</td>\n",
              "      <td>3.0</td>\n",
              "      <td>v000013</td>\n",
              "      <td>20.0</td>\n",
              "    </tr>\n",
              "  </tbody>\n",
              "</table>\n",
              "</div>"
            ],
            "text/plain": [
              "  工場  レーン 製品  下限    上限  生産費     VarY  ValY\n",
              "0  X    0  A   0   inf  1.0  v000009  20.0\n",
              "3  X    1  B   0   inf  1.0  v000010  10.0\n",
              "4  Y    0  A   0  10.0  3.0  v000011  10.0\n",
              "6  Y    1  A   0   inf  5.0  v000012   0.0\n",
              "7  Y    1  B   0   inf  3.0  v000013  20.0"
            ]
          },
          "metadata": {
            "tags": []
          },
          "execution_count": 33
        }
      ]
    }
  ]
}