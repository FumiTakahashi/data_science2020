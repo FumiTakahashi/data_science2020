{
  "nbformat": 4,
  "nbformat_minor": 0,
  "metadata": {
    "colab": {
      "name": "Ch1.ipynb",
      "provenance": []
    },
    "kernelspec": {
      "name": "python3",
      "display_name": "Python 3"
    }
  },
  "cells": [
    {
      "cell_type": "markdown",
      "metadata": {
        "id": "xvQz2fdZQVoZ",
        "colab_type": "text"
      },
      "source": [
        "# 第1部 基礎編：データ加工\n",
        "## 第1章:ウェブからの注文数を分析する10本ノック"
      ]
    },
    {
      "cell_type": "markdown",
      "metadata": {
        "id": "1wy9JUBPQxf_",
        "colab_type": "text"
      },
      "source": [
        "> ## 準備"
      ]
    },
    {
      "cell_type": "code",
      "metadata": {
        "id": "VDjyuLQ1ijHX",
        "colab_type": "code",
        "colab": {
          "base_uri": "https://localhost:8080/",
          "height": 33
        },
        "outputId": "0c80ef5a-48e4-43d5-a236-8c37c79289cb"
      },
      "source": [
        "# フォルダーに移動\n",
        "% cd /content/drive/My Drive/Colab Notebooks/deeplab/data_analysis_100/"
      ],
      "execution_count": 18,
      "outputs": [
        {
          "output_type": "stream",
          "text": [
            "/content/drive/My Drive/Colab Notebooks/deeplab/data_analysis_100\n"
          ],
          "name": "stdout"
        }
      ]
    },
    {
      "cell_type": "code",
      "metadata": {
        "id": "F1r3u2Kyi3vd",
        "colab_type": "code",
        "colab": {
          "base_uri": "https://localhost:8080/",
          "height": 147
        },
        "outputId": "8147c3b4-53e0-41a4-c742-b3608f83df4a"
      },
      "source": [
        "% ls サンプルコード_20200325/1章"
      ],
      "execution_count": 20,
      "outputs": [
        {
          "output_type": "stream",
          "text": [
            "1章_ウェブからの注文数を分析する１０本ノック_answer.ipynb\n",
            "1章_ウェブからの注文数を分析する１０本ノック.ipynb\n",
            "customer_master.csv\n",
            "item_master.csv\n",
            "transaction_1.csv\n",
            "transaction_2.csv\n",
            "transaction_detail_1.csv\n",
            "transaction_detail_2.csv\n"
          ],
          "name": "stdout"
        }
      ]
    },
    {
      "cell_type": "code",
      "metadata": {
        "id": "anER7SdlkXJt",
        "colab_type": "code",
        "colab": {}
      },
      "source": [
        "# 日本語フォント用\n",
        "!pip install japanize-matplotlib"
      ],
      "execution_count": null,
      "outputs": []
    },
    {
      "cell_type": "code",
      "metadata": {
        "id": "t4dkgxM2jo2_",
        "colab_type": "code",
        "colab": {}
      },
      "source": [
        "# Load libraries\n",
        "\n",
        "import pandas as pd\n",
        "import numpy as np\n",
        "import matplotlib.pyplot as plt\n",
        "import japanize_matplotlib\n",
        "import seaborn as sns\n",
        "%matplotlib inline\n"
      ],
      "execution_count": 220,
      "outputs": []
    },
    {
      "cell_type": "code",
      "metadata": {
        "id": "zrCR0p1_muyA",
        "colab_type": "code",
        "colab": {}
      },
      "source": [
        "# Ignore warnings\n",
        "import warnings\n",
        "warnings.filterwarnings('ignore')"
      ],
      "execution_count": null,
      "outputs": []
    },
    {
      "cell_type": "code",
      "metadata": {
        "id": "mAjhyCkRSCVo",
        "colab_type": "code",
        "colab": {}
      },
      "source": [
        "# Config\n",
        "PATH = './サンプルコード_20200325/1章/'\n"
      ],
      "execution_count": 22,
      "outputs": []
    },
    {
      "cell_type": "markdown",
      "metadata": {
        "id": "WHpdPU2jSQUM",
        "colab_type": "text"
      },
      "source": [
        "> ## ノック 1: データを読み込んでみよう"
      ]
    },
    {
      "cell_type": "code",
      "metadata": {
        "id": "HajqU4BUYgr5",
        "colab_type": "code",
        "colab": {}
      },
      "source": [
        "# 欠損値チェック\n",
        "def count_null(df):\n",
        "  print(df.isnull().sum())\n",
        "  print(\"shape: \", df.shape)"
      ],
      "execution_count": 83,
      "outputs": []
    },
    {
      "cell_type": "code",
      "metadata": {
        "id": "XYGd-BhmltO7",
        "colab_type": "code",
        "colab": {
          "base_uri": "https://localhost:8080/",
          "height": 191
        },
        "outputId": "46a0c791-fbbf-452a-f638-871b29cee14d"
      },
      "source": [
        "customer_master = pd.read_csv(PATH + 'customer_master.csv')\n",
        "customer_master.head()"
      ],
      "execution_count": 67,
      "outputs": [
        {
          "output_type": "execute_result",
          "data": {
            "text/html": [
              "<div>\n",
              "<style scoped>\n",
              "    .dataframe tbody tr th:only-of-type {\n",
              "        vertical-align: middle;\n",
              "    }\n",
              "\n",
              "    .dataframe tbody tr th {\n",
              "        vertical-align: top;\n",
              "    }\n",
              "\n",
              "    .dataframe thead th {\n",
              "        text-align: right;\n",
              "    }\n",
              "</style>\n",
              "<table border=\"1\" class=\"dataframe\">\n",
              "  <thead>\n",
              "    <tr style=\"text-align: right;\">\n",
              "      <th></th>\n",
              "      <th>customer_id</th>\n",
              "      <th>customer_name</th>\n",
              "      <th>registration_date</th>\n",
              "      <th>customer_name_kana</th>\n",
              "      <th>email</th>\n",
              "      <th>gender</th>\n",
              "      <th>age</th>\n",
              "      <th>birth</th>\n",
              "      <th>pref</th>\n",
              "    </tr>\n",
              "  </thead>\n",
              "  <tbody>\n",
              "    <tr>\n",
              "      <th>0</th>\n",
              "      <td>IK152942</td>\n",
              "      <td>平田 裕次郎</td>\n",
              "      <td>2019-01-01 00:25:33</td>\n",
              "      <td>ひらた ゆうじろう</td>\n",
              "      <td>hirata_yuujirou@example.com</td>\n",
              "      <td>M</td>\n",
              "      <td>29</td>\n",
              "      <td>1990/6/10</td>\n",
              "      <td>石川県</td>\n",
              "    </tr>\n",
              "    <tr>\n",
              "      <th>1</th>\n",
              "      <td>TS808488</td>\n",
              "      <td>田村 詩織</td>\n",
              "      <td>2019-01-01 01:13:45</td>\n",
              "      <td>たむら しおり</td>\n",
              "      <td>tamura_shiori@example.com</td>\n",
              "      <td>F</td>\n",
              "      <td>33</td>\n",
              "      <td>1986/5/20</td>\n",
              "      <td>東京都</td>\n",
              "    </tr>\n",
              "    <tr>\n",
              "      <th>2</th>\n",
              "      <td>AS834628</td>\n",
              "      <td>久野 由樹</td>\n",
              "      <td>2019-01-01 02:00:14</td>\n",
              "      <td>ひさの ゆき</td>\n",
              "      <td>hisano_yuki@example.com</td>\n",
              "      <td>F</td>\n",
              "      <td>63</td>\n",
              "      <td>1956/1/2</td>\n",
              "      <td>茨城県</td>\n",
              "    </tr>\n",
              "    <tr>\n",
              "      <th>3</th>\n",
              "      <td>AS345469</td>\n",
              "      <td>鶴岡 薫</td>\n",
              "      <td>2019-01-01 04:48:22</td>\n",
              "      <td>つるおか かおる</td>\n",
              "      <td>tsuruoka_kaoru@example.com</td>\n",
              "      <td>M</td>\n",
              "      <td>74</td>\n",
              "      <td>1945/3/25</td>\n",
              "      <td>東京都</td>\n",
              "    </tr>\n",
              "    <tr>\n",
              "      <th>4</th>\n",
              "      <td>GD892565</td>\n",
              "      <td>大内 高史</td>\n",
              "      <td>2019-01-01 04:54:51</td>\n",
              "      <td>おおうち たかし</td>\n",
              "      <td>oouchi_takashi@example.com</td>\n",
              "      <td>M</td>\n",
              "      <td>54</td>\n",
              "      <td>1965/8/5</td>\n",
              "      <td>千葉県</td>\n",
              "    </tr>\n",
              "  </tbody>\n",
              "</table>\n",
              "</div>"
            ],
            "text/plain": [
              "  customer_id customer_name    registration_date  ... age      birth pref\n",
              "0    IK152942        平田 裕次郎  2019-01-01 00:25:33  ...  29  1990/6/10  石川県\n",
              "1    TS808488         田村 詩織  2019-01-01 01:13:45  ...  33  1986/5/20  東京都\n",
              "2    AS834628         久野 由樹  2019-01-01 02:00:14  ...  63   1956/1/2  茨城県\n",
              "3    AS345469          鶴岡 薫  2019-01-01 04:48:22  ...  74  1945/3/25  東京都\n",
              "4    GD892565         大内 高史  2019-01-01 04:54:51  ...  54   1965/8/5  千葉県\n",
              "\n",
              "[5 rows x 9 columns]"
            ]
          },
          "metadata": {
            "tags": []
          },
          "execution_count": 67
        }
      ]
    },
    {
      "cell_type": "code",
      "metadata": {
        "id": "l02qQ6AETgYl",
        "colab_type": "code",
        "colab": {
          "base_uri": "https://localhost:8080/",
          "height": 196
        },
        "outputId": "a895b994-83f8-4452-90c2-a9ad490f9e8d"
      },
      "source": [
        "count_null(customer_master)"
      ],
      "execution_count": 82,
      "outputs": [
        {
          "output_type": "stream",
          "text": [
            "customer_id           0\n",
            "customer_name         0\n",
            "registration_date     0\n",
            "customer_name_kana    0\n",
            "email                 0\n",
            "gender                0\n",
            "age                   0\n",
            "birth                 0\n",
            "pref                  0\n",
            "dtype: int64\n",
            "shape:  (5000, 9)\n"
          ],
          "name": "stdout"
        }
      ]
    },
    {
      "cell_type": "code",
      "metadata": {
        "id": "bv80VG1YnDi2",
        "colab_type": "code",
        "colab": {
          "base_uri": "https://localhost:8080/",
          "height": 191
        },
        "outputId": "b0680195-d58d-4bad-beed-fc9c3b033ca7"
      },
      "source": [
        "item_master = pd.read_csv(PATH + 'item_master.csv')\n",
        "item_master.head()"
      ],
      "execution_count": 24,
      "outputs": [
        {
          "output_type": "execute_result",
          "data": {
            "text/html": [
              "<div>\n",
              "<style scoped>\n",
              "    .dataframe tbody tr th:only-of-type {\n",
              "        vertical-align: middle;\n",
              "    }\n",
              "\n",
              "    .dataframe tbody tr th {\n",
              "        vertical-align: top;\n",
              "    }\n",
              "\n",
              "    .dataframe thead th {\n",
              "        text-align: right;\n",
              "    }\n",
              "</style>\n",
              "<table border=\"1\" class=\"dataframe\">\n",
              "  <thead>\n",
              "    <tr style=\"text-align: right;\">\n",
              "      <th></th>\n",
              "      <th>item_id</th>\n",
              "      <th>item_name</th>\n",
              "      <th>item_price</th>\n",
              "    </tr>\n",
              "  </thead>\n",
              "  <tbody>\n",
              "    <tr>\n",
              "      <th>0</th>\n",
              "      <td>S001</td>\n",
              "      <td>PC-A</td>\n",
              "      <td>50000</td>\n",
              "    </tr>\n",
              "    <tr>\n",
              "      <th>1</th>\n",
              "      <td>S002</td>\n",
              "      <td>PC-B</td>\n",
              "      <td>85000</td>\n",
              "    </tr>\n",
              "    <tr>\n",
              "      <th>2</th>\n",
              "      <td>S003</td>\n",
              "      <td>PC-C</td>\n",
              "      <td>120000</td>\n",
              "    </tr>\n",
              "    <tr>\n",
              "      <th>3</th>\n",
              "      <td>S004</td>\n",
              "      <td>PC-D</td>\n",
              "      <td>180000</td>\n",
              "    </tr>\n",
              "    <tr>\n",
              "      <th>4</th>\n",
              "      <td>S005</td>\n",
              "      <td>PC-E</td>\n",
              "      <td>210000</td>\n",
              "    </tr>\n",
              "  </tbody>\n",
              "</table>\n",
              "</div>"
            ],
            "text/plain": [
              "  item_id item_name  item_price\n",
              "0    S001      PC-A       50000\n",
              "1    S002      PC-B       85000\n",
              "2    S003      PC-C      120000\n",
              "3    S004      PC-D      180000\n",
              "4    S005      PC-E      210000"
            ]
          },
          "metadata": {
            "tags": []
          },
          "execution_count": 24
        }
      ]
    },
    {
      "cell_type": "code",
      "metadata": {
        "id": "kJtNP24vTk4I",
        "colab_type": "code",
        "colab": {
          "base_uri": "https://localhost:8080/",
          "height": 98
        },
        "outputId": "4c77a70d-c778-4073-edf7-6a3829018a59"
      },
      "source": [
        "count_null(item_master)"
      ],
      "execution_count": 84,
      "outputs": [
        {
          "output_type": "stream",
          "text": [
            "item_id       0\n",
            "item_name     0\n",
            "item_price    0\n",
            "dtype: int64\n",
            "shape:  (5, 3)\n"
          ],
          "name": "stdout"
        }
      ]
    },
    {
      "cell_type": "code",
      "metadata": {
        "id": "NmqiATU3lt3F",
        "colab_type": "code",
        "colab": {
          "base_uri": "https://localhost:8080/",
          "height": 191
        },
        "outputId": "504605c3-7951-49e6-8685-8c88fa307cf4"
      },
      "source": [
        "transaction_1 = pd.read_csv(PATH + 'transaction_1.csv')\n",
        "transaction_1.head()"
      ],
      "execution_count": 25,
      "outputs": [
        {
          "output_type": "execute_result",
          "data": {
            "text/html": [
              "<div>\n",
              "<style scoped>\n",
              "    .dataframe tbody tr th:only-of-type {\n",
              "        vertical-align: middle;\n",
              "    }\n",
              "\n",
              "    .dataframe tbody tr th {\n",
              "        vertical-align: top;\n",
              "    }\n",
              "\n",
              "    .dataframe thead th {\n",
              "        text-align: right;\n",
              "    }\n",
              "</style>\n",
              "<table border=\"1\" class=\"dataframe\">\n",
              "  <thead>\n",
              "    <tr style=\"text-align: right;\">\n",
              "      <th></th>\n",
              "      <th>transaction_id</th>\n",
              "      <th>price</th>\n",
              "      <th>payment_date</th>\n",
              "      <th>customer_id</th>\n",
              "    </tr>\n",
              "  </thead>\n",
              "  <tbody>\n",
              "    <tr>\n",
              "      <th>0</th>\n",
              "      <td>T0000000113</td>\n",
              "      <td>210000</td>\n",
              "      <td>2019-02-01 01:36:57</td>\n",
              "      <td>PL563502</td>\n",
              "    </tr>\n",
              "    <tr>\n",
              "      <th>1</th>\n",
              "      <td>T0000000114</td>\n",
              "      <td>50000</td>\n",
              "      <td>2019-02-01 01:37:23</td>\n",
              "      <td>HD678019</td>\n",
              "    </tr>\n",
              "    <tr>\n",
              "      <th>2</th>\n",
              "      <td>T0000000115</td>\n",
              "      <td>120000</td>\n",
              "      <td>2019-02-01 02:34:19</td>\n",
              "      <td>HD298120</td>\n",
              "    </tr>\n",
              "    <tr>\n",
              "      <th>3</th>\n",
              "      <td>T0000000116</td>\n",
              "      <td>210000</td>\n",
              "      <td>2019-02-01 02:47:23</td>\n",
              "      <td>IK452215</td>\n",
              "    </tr>\n",
              "    <tr>\n",
              "      <th>4</th>\n",
              "      <td>T0000000117</td>\n",
              "      <td>170000</td>\n",
              "      <td>2019-02-01 04:33:46</td>\n",
              "      <td>PL542865</td>\n",
              "    </tr>\n",
              "  </tbody>\n",
              "</table>\n",
              "</div>"
            ],
            "text/plain": [
              "  transaction_id   price         payment_date customer_id\n",
              "0    T0000000113  210000  2019-02-01 01:36:57    PL563502\n",
              "1    T0000000114   50000  2019-02-01 01:37:23    HD678019\n",
              "2    T0000000115  120000  2019-02-01 02:34:19    HD298120\n",
              "3    T0000000116  210000  2019-02-01 02:47:23    IK452215\n",
              "4    T0000000117  170000  2019-02-01 04:33:46    PL542865"
            ]
          },
          "metadata": {
            "tags": []
          },
          "execution_count": 25
        }
      ]
    },
    {
      "cell_type": "code",
      "metadata": {
        "id": "ytU78KMgTnQF",
        "colab_type": "code",
        "colab": {
          "base_uri": "https://localhost:8080/",
          "height": 115
        },
        "outputId": "a18066b1-fcc4-4ca7-c3ea-a78eeee47581"
      },
      "source": [
        "count_null(transaction_1)"
      ],
      "execution_count": 85,
      "outputs": [
        {
          "output_type": "stream",
          "text": [
            "transaction_id    0\n",
            "price             0\n",
            "payment_date      0\n",
            "customer_id       0\n",
            "dtype: int64\n",
            "shape:  (5000, 4)\n"
          ],
          "name": "stdout"
        }
      ]
    },
    {
      "cell_type": "code",
      "metadata": {
        "id": "0Y1_O3ghn1Ht",
        "colab_type": "code",
        "colab": {
          "base_uri": "https://localhost:8080/",
          "height": 191
        },
        "outputId": "1b1d9747-dc22-4e65-9c5d-af88c33cf638"
      },
      "source": [
        "transaction_2 = pd.read_csv(PATH + 'transaction_2.csv')\n",
        "transaction = pd.concat([transaction_1, transaction_2], axis = 0, ignore_index = True)\n",
        "transaction.head()"
      ],
      "execution_count": 86,
      "outputs": [
        {
          "output_type": "execute_result",
          "data": {
            "text/html": [
              "<div>\n",
              "<style scoped>\n",
              "    .dataframe tbody tr th:only-of-type {\n",
              "        vertical-align: middle;\n",
              "    }\n",
              "\n",
              "    .dataframe tbody tr th {\n",
              "        vertical-align: top;\n",
              "    }\n",
              "\n",
              "    .dataframe thead th {\n",
              "        text-align: right;\n",
              "    }\n",
              "</style>\n",
              "<table border=\"1\" class=\"dataframe\">\n",
              "  <thead>\n",
              "    <tr style=\"text-align: right;\">\n",
              "      <th></th>\n",
              "      <th>transaction_id</th>\n",
              "      <th>price</th>\n",
              "      <th>payment_date</th>\n",
              "      <th>customer_id</th>\n",
              "    </tr>\n",
              "  </thead>\n",
              "  <tbody>\n",
              "    <tr>\n",
              "      <th>0</th>\n",
              "      <td>T0000000113</td>\n",
              "      <td>210000</td>\n",
              "      <td>2019-02-01 01:36:57</td>\n",
              "      <td>PL563502</td>\n",
              "    </tr>\n",
              "    <tr>\n",
              "      <th>1</th>\n",
              "      <td>T0000000114</td>\n",
              "      <td>50000</td>\n",
              "      <td>2019-02-01 01:37:23</td>\n",
              "      <td>HD678019</td>\n",
              "    </tr>\n",
              "    <tr>\n",
              "      <th>2</th>\n",
              "      <td>T0000000115</td>\n",
              "      <td>120000</td>\n",
              "      <td>2019-02-01 02:34:19</td>\n",
              "      <td>HD298120</td>\n",
              "    </tr>\n",
              "    <tr>\n",
              "      <th>3</th>\n",
              "      <td>T0000000116</td>\n",
              "      <td>210000</td>\n",
              "      <td>2019-02-01 02:47:23</td>\n",
              "      <td>IK452215</td>\n",
              "    </tr>\n",
              "    <tr>\n",
              "      <th>4</th>\n",
              "      <td>T0000000117</td>\n",
              "      <td>170000</td>\n",
              "      <td>2019-02-01 04:33:46</td>\n",
              "      <td>PL542865</td>\n",
              "    </tr>\n",
              "  </tbody>\n",
              "</table>\n",
              "</div>"
            ],
            "text/plain": [
              "  transaction_id   price         payment_date customer_id\n",
              "0    T0000000113  210000  2019-02-01 01:36:57    PL563502\n",
              "1    T0000000114   50000  2019-02-01 01:37:23    HD678019\n",
              "2    T0000000115  120000  2019-02-01 02:34:19    HD298120\n",
              "3    T0000000116  210000  2019-02-01 02:47:23    IK452215\n",
              "4    T0000000117  170000  2019-02-01 04:33:46    PL542865"
            ]
          },
          "metadata": {
            "tags": []
          },
          "execution_count": 86
        }
      ]
    },
    {
      "cell_type": "code",
      "metadata": {
        "id": "r3D-QlKMUF4R",
        "colab_type": "code",
        "colab": {
          "base_uri": "https://localhost:8080/",
          "height": 115
        },
        "outputId": "8ba42572-b138-4872-8b42-18f1a3a299a3"
      },
      "source": [
        "count_null(transaction_2)"
      ],
      "execution_count": 87,
      "outputs": [
        {
          "output_type": "stream",
          "text": [
            "transaction_id    0\n",
            "price             0\n",
            "payment_date      0\n",
            "customer_id       0\n",
            "dtype: int64\n",
            "shape:  (1786, 4)\n"
          ],
          "name": "stdout"
        }
      ]
    },
    {
      "cell_type": "code",
      "metadata": {
        "id": "0x4QI0bHm9Uc",
        "colab_type": "code",
        "colab": {
          "base_uri": "https://localhost:8080/",
          "height": 191
        },
        "outputId": "bbedf893-7b66-4c98-9f37-39323835cc8c"
      },
      "source": [
        "transaction_detail_1 = pd.read_csv(PATH + 'transaction_detail_1.csv')\n",
        "transaction_detail_1.head()"
      ],
      "execution_count": 88,
      "outputs": [
        {
          "output_type": "execute_result",
          "data": {
            "text/html": [
              "<div>\n",
              "<style scoped>\n",
              "    .dataframe tbody tr th:only-of-type {\n",
              "        vertical-align: middle;\n",
              "    }\n",
              "\n",
              "    .dataframe tbody tr th {\n",
              "        vertical-align: top;\n",
              "    }\n",
              "\n",
              "    .dataframe thead th {\n",
              "        text-align: right;\n",
              "    }\n",
              "</style>\n",
              "<table border=\"1\" class=\"dataframe\">\n",
              "  <thead>\n",
              "    <tr style=\"text-align: right;\">\n",
              "      <th></th>\n",
              "      <th>detail_id</th>\n",
              "      <th>transaction_id</th>\n",
              "      <th>item_id</th>\n",
              "      <th>quantity</th>\n",
              "    </tr>\n",
              "  </thead>\n",
              "  <tbody>\n",
              "    <tr>\n",
              "      <th>0</th>\n",
              "      <td>0</td>\n",
              "      <td>T0000000113</td>\n",
              "      <td>S005</td>\n",
              "      <td>1</td>\n",
              "    </tr>\n",
              "    <tr>\n",
              "      <th>1</th>\n",
              "      <td>1</td>\n",
              "      <td>T0000000114</td>\n",
              "      <td>S001</td>\n",
              "      <td>1</td>\n",
              "    </tr>\n",
              "    <tr>\n",
              "      <th>2</th>\n",
              "      <td>2</td>\n",
              "      <td>T0000000115</td>\n",
              "      <td>S003</td>\n",
              "      <td>1</td>\n",
              "    </tr>\n",
              "    <tr>\n",
              "      <th>3</th>\n",
              "      <td>3</td>\n",
              "      <td>T0000000116</td>\n",
              "      <td>S005</td>\n",
              "      <td>1</td>\n",
              "    </tr>\n",
              "    <tr>\n",
              "      <th>4</th>\n",
              "      <td>4</td>\n",
              "      <td>T0000000117</td>\n",
              "      <td>S002</td>\n",
              "      <td>2</td>\n",
              "    </tr>\n",
              "  </tbody>\n",
              "</table>\n",
              "</div>"
            ],
            "text/plain": [
              "   detail_id transaction_id item_id  quantity\n",
              "0          0    T0000000113    S005         1\n",
              "1          1    T0000000114    S001         1\n",
              "2          2    T0000000115    S003         1\n",
              "3          3    T0000000116    S005         1\n",
              "4          4    T0000000117    S002         2"
            ]
          },
          "metadata": {
            "tags": []
          },
          "execution_count": 88
        }
      ]
    },
    {
      "cell_type": "code",
      "metadata": {
        "id": "jtCQ57PzTrWu",
        "colab_type": "code",
        "colab": {
          "base_uri": "https://localhost:8080/",
          "height": 115
        },
        "outputId": "0f9215de-8b27-4689-c1c6-a5e04870f841"
      },
      "source": [
        "count_null(transaction_detail_1)"
      ],
      "execution_count": 89,
      "outputs": [
        {
          "output_type": "stream",
          "text": [
            "detail_id         0\n",
            "transaction_id    0\n",
            "item_id           0\n",
            "quantity          0\n",
            "dtype: int64\n",
            "shape:  (5000, 4)\n"
          ],
          "name": "stdout"
        }
      ]
    },
    {
      "cell_type": "code",
      "metadata": {
        "id": "F6WzKoM8ULfK",
        "colab_type": "code",
        "colab": {
          "base_uri": "https://localhost:8080/",
          "height": 191
        },
        "outputId": "4f040be7-acc5-4a26-9887-e42f97b31dac"
      },
      "source": [
        "transaction_detail_2 = pd.read_csv(PATH + 'transaction_detail_2.csv')\n",
        "transaction_detail_2.head()"
      ],
      "execution_count": 90,
      "outputs": [
        {
          "output_type": "execute_result",
          "data": {
            "text/html": [
              "<div>\n",
              "<style scoped>\n",
              "    .dataframe tbody tr th:only-of-type {\n",
              "        vertical-align: middle;\n",
              "    }\n",
              "\n",
              "    .dataframe tbody tr th {\n",
              "        vertical-align: top;\n",
              "    }\n",
              "\n",
              "    .dataframe thead th {\n",
              "        text-align: right;\n",
              "    }\n",
              "</style>\n",
              "<table border=\"1\" class=\"dataframe\">\n",
              "  <thead>\n",
              "    <tr style=\"text-align: right;\">\n",
              "      <th></th>\n",
              "      <th>detail_id</th>\n",
              "      <th>transaction_id</th>\n",
              "      <th>item_id</th>\n",
              "      <th>quantity</th>\n",
              "    </tr>\n",
              "  </thead>\n",
              "  <tbody>\n",
              "    <tr>\n",
              "      <th>0</th>\n",
              "      <td>5000</td>\n",
              "      <td>T0000004870</td>\n",
              "      <td>S002</td>\n",
              "      <td>3</td>\n",
              "    </tr>\n",
              "    <tr>\n",
              "      <th>1</th>\n",
              "      <td>5001</td>\n",
              "      <td>T0000004871</td>\n",
              "      <td>S003</td>\n",
              "      <td>1</td>\n",
              "    </tr>\n",
              "    <tr>\n",
              "      <th>2</th>\n",
              "      <td>5002</td>\n",
              "      <td>T0000004872</td>\n",
              "      <td>S001</td>\n",
              "      <td>2</td>\n",
              "    </tr>\n",
              "    <tr>\n",
              "      <th>3</th>\n",
              "      <td>5003</td>\n",
              "      <td>T0000004873</td>\n",
              "      <td>S004</td>\n",
              "      <td>1</td>\n",
              "    </tr>\n",
              "    <tr>\n",
              "      <th>4</th>\n",
              "      <td>5004</td>\n",
              "      <td>T0000004874</td>\n",
              "      <td>S003</td>\n",
              "      <td>2</td>\n",
              "    </tr>\n",
              "  </tbody>\n",
              "</table>\n",
              "</div>"
            ],
            "text/plain": [
              "   detail_id transaction_id item_id  quantity\n",
              "0       5000    T0000004870    S002         3\n",
              "1       5001    T0000004871    S003         1\n",
              "2       5002    T0000004872    S001         2\n",
              "3       5003    T0000004873    S004         1\n",
              "4       5004    T0000004874    S003         2"
            ]
          },
          "metadata": {
            "tags": []
          },
          "execution_count": 90
        }
      ]
    },
    {
      "cell_type": "code",
      "metadata": {
        "id": "0WbD9TpYUOyd",
        "colab_type": "code",
        "colab": {
          "base_uri": "https://localhost:8080/",
          "height": 115
        },
        "outputId": "e4dab813-e282-4afd-e1eb-e9afbce1b495"
      },
      "source": [
        "count_null(transaction_detail_2)"
      ],
      "execution_count": 91,
      "outputs": [
        {
          "output_type": "stream",
          "text": [
            "detail_id         0\n",
            "transaction_id    0\n",
            "item_id           0\n",
            "quantity          0\n",
            "dtype: int64\n",
            "shape:  (2144, 4)\n"
          ],
          "name": "stdout"
        }
      ]
    },
    {
      "cell_type": "code",
      "metadata": {
        "id": "gWaxsNgKbjaU",
        "colab_type": "code",
        "colab": {
          "base_uri": "https://localhost:8080/",
          "height": 33
        },
        "outputId": "b742b7a6-bec9-4e84-f74d-747790241787"
      },
      "source": [
        "print(transaction_detail_2['transaction_id'].nunique())"
      ],
      "execution_count": 112,
      "outputs": [
        {
          "output_type": "stream",
          "text": [
            "2029\n"
          ],
          "name": "stdout"
        }
      ]
    },
    {
      "cell_type": "markdown",
      "metadata": {
        "id": "wz0rZbYgcse4",
        "colab_type": "text"
      },
      "source": [
        "- transaction_id に重複あり\n",
        "- 同じ会計での複数のitemの購入と考えられる"
      ]
    },
    {
      "cell_type": "markdown",
      "metadata": {
        "id": "W08tpMjKTMAy",
        "colab_type": "text"
      },
      "source": [
        "> ## ノック 2: データを結合(ユニオン)してみよう"
      ]
    },
    {
      "cell_type": "code",
      "metadata": {
        "id": "LCCro1vvVZw_",
        "colab_type": "code",
        "colab": {
          "base_uri": "https://localhost:8080/",
          "height": 191
        },
        "outputId": "4a816fa6-e521-4c90-b767-36d1e672b943"
      },
      "source": [
        "transaction = pd.concat([transaction_1, transaction_2], ignore_index = True)\n",
        "transaction.head()"
      ],
      "execution_count": 57,
      "outputs": [
        {
          "output_type": "execute_result",
          "data": {
            "text/html": [
              "<div>\n",
              "<style scoped>\n",
              "    .dataframe tbody tr th:only-of-type {\n",
              "        vertical-align: middle;\n",
              "    }\n",
              "\n",
              "    .dataframe tbody tr th {\n",
              "        vertical-align: top;\n",
              "    }\n",
              "\n",
              "    .dataframe thead th {\n",
              "        text-align: right;\n",
              "    }\n",
              "</style>\n",
              "<table border=\"1\" class=\"dataframe\">\n",
              "  <thead>\n",
              "    <tr style=\"text-align: right;\">\n",
              "      <th></th>\n",
              "      <th>transaction_id</th>\n",
              "      <th>price</th>\n",
              "      <th>payment_date</th>\n",
              "      <th>customer_id</th>\n",
              "    </tr>\n",
              "  </thead>\n",
              "  <tbody>\n",
              "    <tr>\n",
              "      <th>0</th>\n",
              "      <td>T0000000113</td>\n",
              "      <td>210000</td>\n",
              "      <td>2019-02-01 01:36:57</td>\n",
              "      <td>PL563502</td>\n",
              "    </tr>\n",
              "    <tr>\n",
              "      <th>1</th>\n",
              "      <td>T0000000114</td>\n",
              "      <td>50000</td>\n",
              "      <td>2019-02-01 01:37:23</td>\n",
              "      <td>HD678019</td>\n",
              "    </tr>\n",
              "    <tr>\n",
              "      <th>2</th>\n",
              "      <td>T0000000115</td>\n",
              "      <td>120000</td>\n",
              "      <td>2019-02-01 02:34:19</td>\n",
              "      <td>HD298120</td>\n",
              "    </tr>\n",
              "    <tr>\n",
              "      <th>3</th>\n",
              "      <td>T0000000116</td>\n",
              "      <td>210000</td>\n",
              "      <td>2019-02-01 02:47:23</td>\n",
              "      <td>IK452215</td>\n",
              "    </tr>\n",
              "    <tr>\n",
              "      <th>4</th>\n",
              "      <td>T0000000117</td>\n",
              "      <td>170000</td>\n",
              "      <td>2019-02-01 04:33:46</td>\n",
              "      <td>PL542865</td>\n",
              "    </tr>\n",
              "  </tbody>\n",
              "</table>\n",
              "</div>"
            ],
            "text/plain": [
              "  transaction_id   price         payment_date customer_id\n",
              "0    T0000000113  210000  2019-02-01 01:36:57    PL563502\n",
              "1    T0000000114   50000  2019-02-01 01:37:23    HD678019\n",
              "2    T0000000115  120000  2019-02-01 02:34:19    HD298120\n",
              "3    T0000000116  210000  2019-02-01 02:47:23    IK452215\n",
              "4    T0000000117  170000  2019-02-01 04:33:46    PL542865"
            ]
          },
          "metadata": {
            "tags": []
          },
          "execution_count": 57
        }
      ]
    },
    {
      "cell_type": "code",
      "metadata": {
        "id": "kHqtQNF4odl_",
        "colab_type": "code",
        "colab": {
          "base_uri": "https://localhost:8080/",
          "height": 191
        },
        "outputId": "b1982e41-3da0-4962-8fd7-a1391c65c0af"
      },
      "source": [
        "transaction_detail = pd.concat([transaction_detail_1, transaction_detail_2], ignore_index = True)\n",
        "transaction_detail.head()"
      ],
      "execution_count": 58,
      "outputs": [
        {
          "output_type": "execute_result",
          "data": {
            "text/html": [
              "<div>\n",
              "<style scoped>\n",
              "    .dataframe tbody tr th:only-of-type {\n",
              "        vertical-align: middle;\n",
              "    }\n",
              "\n",
              "    .dataframe tbody tr th {\n",
              "        vertical-align: top;\n",
              "    }\n",
              "\n",
              "    .dataframe thead th {\n",
              "        text-align: right;\n",
              "    }\n",
              "</style>\n",
              "<table border=\"1\" class=\"dataframe\">\n",
              "  <thead>\n",
              "    <tr style=\"text-align: right;\">\n",
              "      <th></th>\n",
              "      <th>detail_id</th>\n",
              "      <th>transaction_id</th>\n",
              "      <th>item_id</th>\n",
              "      <th>quantity</th>\n",
              "    </tr>\n",
              "  </thead>\n",
              "  <tbody>\n",
              "    <tr>\n",
              "      <th>0</th>\n",
              "      <td>0</td>\n",
              "      <td>T0000000113</td>\n",
              "      <td>S005</td>\n",
              "      <td>1</td>\n",
              "    </tr>\n",
              "    <tr>\n",
              "      <th>1</th>\n",
              "      <td>1</td>\n",
              "      <td>T0000000114</td>\n",
              "      <td>S001</td>\n",
              "      <td>1</td>\n",
              "    </tr>\n",
              "    <tr>\n",
              "      <th>2</th>\n",
              "      <td>2</td>\n",
              "      <td>T0000000115</td>\n",
              "      <td>S003</td>\n",
              "      <td>1</td>\n",
              "    </tr>\n",
              "    <tr>\n",
              "      <th>3</th>\n",
              "      <td>3</td>\n",
              "      <td>T0000000116</td>\n",
              "      <td>S005</td>\n",
              "      <td>1</td>\n",
              "    </tr>\n",
              "    <tr>\n",
              "      <th>4</th>\n",
              "      <td>4</td>\n",
              "      <td>T0000000117</td>\n",
              "      <td>S002</td>\n",
              "      <td>2</td>\n",
              "    </tr>\n",
              "  </tbody>\n",
              "</table>\n",
              "</div>"
            ],
            "text/plain": [
              "   detail_id transaction_id item_id  quantity\n",
              "0          0    T0000000113    S005         1\n",
              "1          1    T0000000114    S001         1\n",
              "2          2    T0000000115    S003         1\n",
              "3          3    T0000000116    S005         1\n",
              "4          4    T0000000117    S002         2"
            ]
          },
          "metadata": {
            "tags": []
          },
          "execution_count": 58
        }
      ]
    },
    {
      "cell_type": "markdown",
      "metadata": {
        "id": "Q2tuc0dPVhrN",
        "colab_type": "text"
      },
      "source": [
        "> ## ノック3: 売上データ同士を結合(ジヨイン)してみよう"
      ]
    },
    {
      "cell_type": "code",
      "metadata": {
        "id": "yS0vKYPY1LQ6",
        "colab_type": "code",
        "colab": {
          "base_uri": "https://localhost:8080/",
          "height": 191
        },
        "outputId": "26b11a57-80ad-4934-af93-77cced361a38"
      },
      "source": [
        "transaction_all = pd.merge(transaction_detail, transaction[[\"transaction_id\", \"payment_date\", \"customer_id\"]], on = \"transaction_id\", how = \"left\")\n",
        "transaction_all.head()"
      ],
      "execution_count": 125,
      "outputs": [
        {
          "output_type": "execute_result",
          "data": {
            "text/html": [
              "<div>\n",
              "<style scoped>\n",
              "    .dataframe tbody tr th:only-of-type {\n",
              "        vertical-align: middle;\n",
              "    }\n",
              "\n",
              "    .dataframe tbody tr th {\n",
              "        vertical-align: top;\n",
              "    }\n",
              "\n",
              "    .dataframe thead th {\n",
              "        text-align: right;\n",
              "    }\n",
              "</style>\n",
              "<table border=\"1\" class=\"dataframe\">\n",
              "  <thead>\n",
              "    <tr style=\"text-align: right;\">\n",
              "      <th></th>\n",
              "      <th>detail_id</th>\n",
              "      <th>transaction_id</th>\n",
              "      <th>item_id</th>\n",
              "      <th>quantity</th>\n",
              "      <th>payment_date</th>\n",
              "      <th>customer_id</th>\n",
              "    </tr>\n",
              "  </thead>\n",
              "  <tbody>\n",
              "    <tr>\n",
              "      <th>0</th>\n",
              "      <td>0</td>\n",
              "      <td>T0000000113</td>\n",
              "      <td>S005</td>\n",
              "      <td>1</td>\n",
              "      <td>2019-02-01 01:36:57</td>\n",
              "      <td>PL563502</td>\n",
              "    </tr>\n",
              "    <tr>\n",
              "      <th>1</th>\n",
              "      <td>1</td>\n",
              "      <td>T0000000114</td>\n",
              "      <td>S001</td>\n",
              "      <td>1</td>\n",
              "      <td>2019-02-01 01:37:23</td>\n",
              "      <td>HD678019</td>\n",
              "    </tr>\n",
              "    <tr>\n",
              "      <th>2</th>\n",
              "      <td>2</td>\n",
              "      <td>T0000000115</td>\n",
              "      <td>S003</td>\n",
              "      <td>1</td>\n",
              "      <td>2019-02-01 02:34:19</td>\n",
              "      <td>HD298120</td>\n",
              "    </tr>\n",
              "    <tr>\n",
              "      <th>3</th>\n",
              "      <td>3</td>\n",
              "      <td>T0000000116</td>\n",
              "      <td>S005</td>\n",
              "      <td>1</td>\n",
              "      <td>2019-02-01 02:47:23</td>\n",
              "      <td>IK452215</td>\n",
              "    </tr>\n",
              "    <tr>\n",
              "      <th>4</th>\n",
              "      <td>4</td>\n",
              "      <td>T0000000117</td>\n",
              "      <td>S002</td>\n",
              "      <td>2</td>\n",
              "      <td>2019-02-01 04:33:46</td>\n",
              "      <td>PL542865</td>\n",
              "    </tr>\n",
              "  </tbody>\n",
              "</table>\n",
              "</div>"
            ],
            "text/plain": [
              "   detail_id transaction_id item_id  quantity         payment_date customer_id\n",
              "0          0    T0000000113    S005         1  2019-02-01 01:36:57    PL563502\n",
              "1          1    T0000000114    S001         1  2019-02-01 01:37:23    HD678019\n",
              "2          2    T0000000115    S003         1  2019-02-01 02:34:19    HD298120\n",
              "3          3    T0000000116    S005         1  2019-02-01 02:47:23    IK452215\n",
              "4          4    T0000000117    S002         2  2019-02-01 04:33:46    PL542865"
            ]
          },
          "metadata": {
            "tags": []
          },
          "execution_count": 125
        }
      ]
    },
    {
      "cell_type": "code",
      "metadata": {
        "id": "CTayafLZPjMv",
        "colab_type": "code",
        "colab": {
          "base_uri": "https://localhost:8080/",
          "height": 147
        },
        "outputId": "54cd35bd-6d5b-4c15-f6b8-5ca6a08211c8"
      },
      "source": [
        "count_null(transaction_all)"
      ],
      "execution_count": 126,
      "outputs": [
        {
          "output_type": "stream",
          "text": [
            "detail_id         0\n",
            "transaction_id    0\n",
            "item_id           0\n",
            "quantity          0\n",
            "payment_date      0\n",
            "customer_id       0\n",
            "dtype: int64\n",
            "shape:  (7144, 6)\n"
          ],
          "name": "stdout"
        }
      ]
    },
    {
      "cell_type": "markdown",
      "metadata": {
        "id": "TVlBjl2uPWmc",
        "colab_type": "text"
      },
      "source": [
        "- transaction にある price 列 は transaction_detail に直接 left join してしまうと、重複が起きてしまうので外しておく"
      ]
    },
    {
      "cell_type": "markdown",
      "metadata": {
        "id": "6jOD-KkDWDeT",
        "colab_type": "text"
      },
      "source": [
        "> ## ノック4:  マスターデータを結合(ジヨイン)してみよう"
      ]
    },
    {
      "cell_type": "code",
      "metadata": {
        "id": "cYakM26E25L6",
        "colab_type": "code",
        "colab": {
          "base_uri": "https://localhost:8080/",
          "height": 292
        },
        "outputId": "919ae748-ff52-42dc-ece1-6a7efdd829db"
      },
      "source": [
        "data_all = pd.merge(transaction_all, item_master, on = \"item_id\", how = \"left\")\n",
        "data_all = pd.merge(data_all, customer_master, on = \"customer_id\", how = \"left\")\n",
        "data_all.head()"
      ],
      "execution_count": 64,
      "outputs": [
        {
          "output_type": "execute_result",
          "data": {
            "text/html": [
              "<div>\n",
              "<style scoped>\n",
              "    .dataframe tbody tr th:only-of-type {\n",
              "        vertical-align: middle;\n",
              "    }\n",
              "\n",
              "    .dataframe tbody tr th {\n",
              "        vertical-align: top;\n",
              "    }\n",
              "\n",
              "    .dataframe thead th {\n",
              "        text-align: right;\n",
              "    }\n",
              "</style>\n",
              "<table border=\"1\" class=\"dataframe\">\n",
              "  <thead>\n",
              "    <tr style=\"text-align: right;\">\n",
              "      <th></th>\n",
              "      <th>detail_id</th>\n",
              "      <th>transaction_id</th>\n",
              "      <th>item_id</th>\n",
              "      <th>quantity</th>\n",
              "      <th>payment_date</th>\n",
              "      <th>customer_id</th>\n",
              "      <th>item_name</th>\n",
              "      <th>item_price</th>\n",
              "      <th>customer_name</th>\n",
              "      <th>registration_date</th>\n",
              "      <th>customer_name_kana</th>\n",
              "      <th>email</th>\n",
              "      <th>gender</th>\n",
              "      <th>age</th>\n",
              "      <th>birth</th>\n",
              "      <th>pref</th>\n",
              "    </tr>\n",
              "  </thead>\n",
              "  <tbody>\n",
              "    <tr>\n",
              "      <th>0</th>\n",
              "      <td>0</td>\n",
              "      <td>T0000000113</td>\n",
              "      <td>S005</td>\n",
              "      <td>1</td>\n",
              "      <td>2019-02-01 01:36:57</td>\n",
              "      <td>PL563502</td>\n",
              "      <td>PC-E</td>\n",
              "      <td>210000</td>\n",
              "      <td>井本 芳正</td>\n",
              "      <td>2019-01-07 14:34:35</td>\n",
              "      <td>いもと よしまさ</td>\n",
              "      <td>imoto_yoshimasa@example.com</td>\n",
              "      <td>M</td>\n",
              "      <td>30</td>\n",
              "      <td>1989/7/15</td>\n",
              "      <td>熊本県</td>\n",
              "    </tr>\n",
              "    <tr>\n",
              "      <th>1</th>\n",
              "      <td>1</td>\n",
              "      <td>T0000000114</td>\n",
              "      <td>S001</td>\n",
              "      <td>1</td>\n",
              "      <td>2019-02-01 01:37:23</td>\n",
              "      <td>HD678019</td>\n",
              "      <td>PC-A</td>\n",
              "      <td>50000</td>\n",
              "      <td>三船 六郎</td>\n",
              "      <td>2019-01-27 18:00:11</td>\n",
              "      <td>みふね ろくろう</td>\n",
              "      <td>mifune_rokurou@example.com</td>\n",
              "      <td>M</td>\n",
              "      <td>73</td>\n",
              "      <td>1945/11/29</td>\n",
              "      <td>京都府</td>\n",
              "    </tr>\n",
              "    <tr>\n",
              "      <th>2</th>\n",
              "      <td>2</td>\n",
              "      <td>T0000000115</td>\n",
              "      <td>S003</td>\n",
              "      <td>1</td>\n",
              "      <td>2019-02-01 02:34:19</td>\n",
              "      <td>HD298120</td>\n",
              "      <td>PC-C</td>\n",
              "      <td>120000</td>\n",
              "      <td>山根 小雁</td>\n",
              "      <td>2019-01-11 08:16:02</td>\n",
              "      <td>やまね こがん</td>\n",
              "      <td>yamane_kogan@example.com</td>\n",
              "      <td>M</td>\n",
              "      <td>42</td>\n",
              "      <td>1977/5/17</td>\n",
              "      <td>茨城県</td>\n",
              "    </tr>\n",
              "    <tr>\n",
              "      <th>3</th>\n",
              "      <td>3</td>\n",
              "      <td>T0000000116</td>\n",
              "      <td>S005</td>\n",
              "      <td>1</td>\n",
              "      <td>2019-02-01 02:47:23</td>\n",
              "      <td>IK452215</td>\n",
              "      <td>PC-E</td>\n",
              "      <td>210000</td>\n",
              "      <td>池田 菜摘</td>\n",
              "      <td>2019-01-10 05:07:38</td>\n",
              "      <td>いけだ なつみ</td>\n",
              "      <td>ikeda_natsumi@example.com</td>\n",
              "      <td>F</td>\n",
              "      <td>47</td>\n",
              "      <td>1972/3/17</td>\n",
              "      <td>兵庫県</td>\n",
              "    </tr>\n",
              "    <tr>\n",
              "      <th>4</th>\n",
              "      <td>4</td>\n",
              "      <td>T0000000117</td>\n",
              "      <td>S002</td>\n",
              "      <td>2</td>\n",
              "      <td>2019-02-01 04:33:46</td>\n",
              "      <td>PL542865</td>\n",
              "      <td>PC-B</td>\n",
              "      <td>85000</td>\n",
              "      <td>栗田 憲一</td>\n",
              "      <td>2019-01-25 06:46:05</td>\n",
              "      <td>くりた けんいち</td>\n",
              "      <td>kurita_kenichi@example.com</td>\n",
              "      <td>M</td>\n",
              "      <td>74</td>\n",
              "      <td>1944/12/17</td>\n",
              "      <td>長崎県</td>\n",
              "    </tr>\n",
              "  </tbody>\n",
              "</table>\n",
              "</div>"
            ],
            "text/plain": [
              "   detail_id transaction_id item_id  quantity  ... gender age       birth  pref\n",
              "0          0    T0000000113    S005         1  ...      M  30   1989/7/15   熊本県\n",
              "1          1    T0000000114    S001         1  ...      M  73  1945/11/29   京都府\n",
              "2          2    T0000000115    S003         1  ...      M  42   1977/5/17   茨城県\n",
              "3          3    T0000000116    S005         1  ...      F  47   1972/3/17   兵庫県\n",
              "4          4    T0000000117    S002         2  ...      M  74  1944/12/17   長崎県\n",
              "\n",
              "[5 rows x 16 columns]"
            ]
          },
          "metadata": {
            "tags": []
          },
          "execution_count": 64
        }
      ]
    },
    {
      "cell_type": "code",
      "metadata": {
        "id": "F5ZPmxKSQer3",
        "colab_type": "code",
        "colab": {
          "base_uri": "https://localhost:8080/",
          "height": 33
        },
        "outputId": "e7a49e86-19aa-4cab-ca15-4b03c37c8b5a"
      },
      "source": [
        "len(data_all)"
      ],
      "execution_count": 128,
      "outputs": [
        {
          "output_type": "execute_result",
          "data": {
            "text/plain": [
              "7144"
            ]
          },
          "metadata": {
            "tags": []
          },
          "execution_count": 128
        }
      ]
    },
    {
      "cell_type": "markdown",
      "metadata": {
        "id": "rAmOE_zgXIpG",
        "colab_type": "text"
      },
      "source": [
        "> ## ノック5: 必要なデータ列を作ろう\n",
        "\n",
        "- price = item $\\times$ item_quanitity "
      ]
    },
    {
      "cell_type": "code",
      "metadata": {
        "id": "8Ij5WYOp6o36",
        "colab_type": "code",
        "colab": {
          "base_uri": "https://localhost:8080/",
          "height": 191
        },
        "outputId": "3df52df3-1570-466f-9b40-b68fdd42ad88"
      },
      "source": [
        "data_all[\"price\"] = data_all[\"quantity\"] * data_all[\"item_price\"]\n",
        "data_all[[\"quantity\", \"item_price\", \"price\"]].head()"
      ],
      "execution_count": 129,
      "outputs": [
        {
          "output_type": "execute_result",
          "data": {
            "text/html": [
              "<div>\n",
              "<style scoped>\n",
              "    .dataframe tbody tr th:only-of-type {\n",
              "        vertical-align: middle;\n",
              "    }\n",
              "\n",
              "    .dataframe tbody tr th {\n",
              "        vertical-align: top;\n",
              "    }\n",
              "\n",
              "    .dataframe thead th {\n",
              "        text-align: right;\n",
              "    }\n",
              "</style>\n",
              "<table border=\"1\" class=\"dataframe\">\n",
              "  <thead>\n",
              "    <tr style=\"text-align: right;\">\n",
              "      <th></th>\n",
              "      <th>quantity</th>\n",
              "      <th>item_price</th>\n",
              "      <th>price</th>\n",
              "    </tr>\n",
              "  </thead>\n",
              "  <tbody>\n",
              "    <tr>\n",
              "      <th>0</th>\n",
              "      <td>1</td>\n",
              "      <td>210000</td>\n",
              "      <td>210000</td>\n",
              "    </tr>\n",
              "    <tr>\n",
              "      <th>1</th>\n",
              "      <td>1</td>\n",
              "      <td>50000</td>\n",
              "      <td>50000</td>\n",
              "    </tr>\n",
              "    <tr>\n",
              "      <th>2</th>\n",
              "      <td>1</td>\n",
              "      <td>120000</td>\n",
              "      <td>120000</td>\n",
              "    </tr>\n",
              "    <tr>\n",
              "      <th>3</th>\n",
              "      <td>1</td>\n",
              "      <td>210000</td>\n",
              "      <td>210000</td>\n",
              "    </tr>\n",
              "    <tr>\n",
              "      <th>4</th>\n",
              "      <td>2</td>\n",
              "      <td>85000</td>\n",
              "      <td>170000</td>\n",
              "    </tr>\n",
              "  </tbody>\n",
              "</table>\n",
              "</div>"
            ],
            "text/plain": [
              "   quantity  item_price   price\n",
              "0         1      210000  210000\n",
              "1         1       50000   50000\n",
              "2         1      120000  120000\n",
              "3         1      210000  210000\n",
              "4         2       85000  170000"
            ]
          },
          "metadata": {
            "tags": []
          },
          "execution_count": 129
        }
      ]
    },
    {
      "cell_type": "markdown",
      "metadata": {
        "id": "Y1pEeSN_eR97",
        "colab_type": "text"
      },
      "source": [
        "> ## ノック６: データ検算をしよう"
      ]
    },
    {
      "cell_type": "code",
      "metadata": {
        "id": "a-TJMuCs8ogW",
        "colab_type": "code",
        "colab": {
          "base_uri": "https://localhost:8080/",
          "height": 33
        },
        "outputId": "fc824cac-2413-4157-8afc-7a7ec2dab718"
      },
      "source": [
        "print(data_all[\"price\"].sum() == transaction[\"price\"].sum())"
      ],
      "execution_count": 136,
      "outputs": [
        {
          "output_type": "stream",
          "text": [
            "True\n"
          ],
          "name": "stdout"
        }
      ]
    },
    {
      "cell_type": "markdown",
      "metadata": {
        "id": "P6M0t-aMesFH",
        "colab_type": "text"
      },
      "source": [
        "> ## ノック7:各種統計量を把握しよう"
      ]
    },
    {
      "cell_type": "code",
      "metadata": {
        "id": "o9HDowA79PW8",
        "colab_type": "code",
        "colab": {
          "base_uri": "https://localhost:8080/",
          "height": 310
        },
        "outputId": "4ca4d829-5bb4-4b26-f1fb-136e7576cee9"
      },
      "source": [
        "count_null(data_all)"
      ],
      "execution_count": 120,
      "outputs": [
        {
          "output_type": "stream",
          "text": [
            "detail_id             0\n",
            "transaction_id        0\n",
            "item_id               0\n",
            "quantity              0\n",
            "payment_date          0\n",
            "customer_id           0\n",
            "item_name             0\n",
            "item_price            0\n",
            "customer_name         0\n",
            "registration_date     0\n",
            "customer_name_kana    0\n",
            "email                 0\n",
            "gender                0\n",
            "age                   0\n",
            "birth                 0\n",
            "pref                  0\n",
            "dtype: int64\n",
            "shape:  (7144, 16)\n"
          ],
          "name": "stdout"
        }
      ]
    },
    {
      "cell_type": "code",
      "metadata": {
        "id": "s0H-9L42Tq13",
        "colab_type": "code",
        "colab": {
          "base_uri": "https://localhost:8080/",
          "height": 310
        },
        "outputId": "46d43303-3638-4e91-e13c-b1a5ac8af7e9"
      },
      "source": [
        "data_all.dtypes"
      ],
      "execution_count": 141,
      "outputs": [
        {
          "output_type": "execute_result",
          "data": {
            "text/plain": [
              "detail_id              int64\n",
              "transaction_id        object\n",
              "item_id               object\n",
              "quantity               int64\n",
              "payment_date          object\n",
              "customer_id           object\n",
              "item_name             object\n",
              "item_price             int64\n",
              "customer_name         object\n",
              "registration_date     object\n",
              "customer_name_kana    object\n",
              "email                 object\n",
              "gender                object\n",
              "age                    int64\n",
              "birth                 object\n",
              "pref                  object\n",
              "price                  int64\n",
              "dtype: object"
            ]
          },
          "metadata": {
            "tags": []
          },
          "execution_count": 141
        }
      ]
    },
    {
      "cell_type": "code",
      "metadata": {
        "id": "MjQTQdgs9aTt",
        "colab_type": "code",
        "colab": {
          "base_uri": "https://localhost:8080/",
          "height": 277
        },
        "outputId": "71f38580-8955-439c-9c31-062095190348"
      },
      "source": [
        "data_all.describe()"
      ],
      "execution_count": 138,
      "outputs": [
        {
          "output_type": "execute_result",
          "data": {
            "text/html": [
              "<div>\n",
              "<style scoped>\n",
              "    .dataframe tbody tr th:only-of-type {\n",
              "        vertical-align: middle;\n",
              "    }\n",
              "\n",
              "    .dataframe tbody tr th {\n",
              "        vertical-align: top;\n",
              "    }\n",
              "\n",
              "    .dataframe thead th {\n",
              "        text-align: right;\n",
              "    }\n",
              "</style>\n",
              "<table border=\"1\" class=\"dataframe\">\n",
              "  <thead>\n",
              "    <tr style=\"text-align: right;\">\n",
              "      <th></th>\n",
              "      <th>detail_id</th>\n",
              "      <th>quantity</th>\n",
              "      <th>item_price</th>\n",
              "      <th>age</th>\n",
              "      <th>price</th>\n",
              "    </tr>\n",
              "  </thead>\n",
              "  <tbody>\n",
              "    <tr>\n",
              "      <th>count</th>\n",
              "      <td>7144.000000</td>\n",
              "      <td>7144.000000</td>\n",
              "      <td>7144.000000</td>\n",
              "      <td>7144.000000</td>\n",
              "      <td>7144.000000</td>\n",
              "    </tr>\n",
              "    <tr>\n",
              "      <th>mean</th>\n",
              "      <td>3571.500000</td>\n",
              "      <td>1.199888</td>\n",
              "      <td>121698.628219</td>\n",
              "      <td>50.265677</td>\n",
              "      <td>135937.150056</td>\n",
              "    </tr>\n",
              "    <tr>\n",
              "      <th>std</th>\n",
              "      <td>2062.439494</td>\n",
              "      <td>0.513647</td>\n",
              "      <td>64571.311830</td>\n",
              "      <td>17.190314</td>\n",
              "      <td>68511.453297</td>\n",
              "    </tr>\n",
              "    <tr>\n",
              "      <th>min</th>\n",
              "      <td>0.000000</td>\n",
              "      <td>1.000000</td>\n",
              "      <td>50000.000000</td>\n",
              "      <td>20.000000</td>\n",
              "      <td>50000.000000</td>\n",
              "    </tr>\n",
              "    <tr>\n",
              "      <th>25%</th>\n",
              "      <td>1785.750000</td>\n",
              "      <td>1.000000</td>\n",
              "      <td>50000.000000</td>\n",
              "      <td>36.000000</td>\n",
              "      <td>85000.000000</td>\n",
              "    </tr>\n",
              "    <tr>\n",
              "      <th>50%</th>\n",
              "      <td>3571.500000</td>\n",
              "      <td>1.000000</td>\n",
              "      <td>102500.000000</td>\n",
              "      <td>50.000000</td>\n",
              "      <td>120000.000000</td>\n",
              "    </tr>\n",
              "    <tr>\n",
              "      <th>75%</th>\n",
              "      <td>5357.250000</td>\n",
              "      <td>1.000000</td>\n",
              "      <td>187500.000000</td>\n",
              "      <td>65.000000</td>\n",
              "      <td>210000.000000</td>\n",
              "    </tr>\n",
              "    <tr>\n",
              "      <th>max</th>\n",
              "      <td>7143.000000</td>\n",
              "      <td>4.000000</td>\n",
              "      <td>210000.000000</td>\n",
              "      <td>80.000000</td>\n",
              "      <td>420000.000000</td>\n",
              "    </tr>\n",
              "  </tbody>\n",
              "</table>\n",
              "</div>"
            ],
            "text/plain": [
              "         detail_id     quantity     item_price          age          price\n",
              "count  7144.000000  7144.000000    7144.000000  7144.000000    7144.000000\n",
              "mean   3571.500000     1.199888  121698.628219    50.265677  135937.150056\n",
              "std    2062.439494     0.513647   64571.311830    17.190314   68511.453297\n",
              "min       0.000000     1.000000   50000.000000    20.000000   50000.000000\n",
              "25%    1785.750000     1.000000   50000.000000    36.000000   85000.000000\n",
              "50%    3571.500000     1.000000  102500.000000    50.000000  120000.000000\n",
              "75%    5357.250000     1.000000  187500.000000    65.000000  210000.000000\n",
              "max    7143.000000     4.000000  210000.000000    80.000000  420000.000000"
            ]
          },
          "metadata": {
            "tags": []
          },
          "execution_count": 138
        }
      ]
    },
    {
      "cell_type": "code",
      "metadata": {
        "id": "4xcQ8hfP9e5W",
        "colab_type": "code",
        "colab": {
          "base_uri": "https://localhost:8080/",
          "height": 50
        },
        "outputId": "8e2c69aa-6d44-476d-8ad5-bdb8102e2ab8"
      },
      "source": [
        "# 集計期間\n",
        "print(data_all[\"payment_date\"].min())\n",
        "print(data_all[\"payment_date\"].max())"
      ],
      "execution_count": 140,
      "outputs": [
        {
          "output_type": "stream",
          "text": [
            "2019-02-01 01:36:57\n",
            "2019-07-31 23:41:38\n"
          ],
          "name": "stdout"
        }
      ]
    },
    {
      "cell_type": "code",
      "metadata": {
        "id": "gwMiS670ZSlg",
        "colab_type": "code",
        "colab": {
          "base_uri": "https://localhost:8080/",
          "height": 342
        },
        "outputId": "22ac7de4-9ddf-43c7-8595-cf905747c3bb"
      },
      "source": [
        "data_all.nunique()"
      ],
      "execution_count": 162,
      "outputs": [
        {
          "output_type": "execute_result",
          "data": {
            "text/plain": [
              "detail_id             7144\n",
              "transaction_id        6786\n",
              "item_id                  5\n",
              "quantity                 4\n",
              "payment_date          6785\n",
              "customer_id           3018\n",
              "item_name                5\n",
              "item_price               5\n",
              "customer_name         2998\n",
              "registration_date     3018\n",
              "customer_name_kana    2988\n",
              "email                 3018\n",
              "gender                   2\n",
              "age                     61\n",
              "birth                 2809\n",
              "pref                    47\n",
              "price                   13\n",
              "payment_month            6\n",
              "payment_day              7\n",
              "dtype: int64"
            ]
          },
          "metadata": {
            "tags": []
          },
          "execution_count": 162
        }
      ]
    },
    {
      "cell_type": "markdown",
      "metadata": {
        "id": "rpckiNuxZdzP",
        "colab_type": "text"
      },
      "source": [
        "- customer_name < customer_id なので、同姓同名の人なのか、同一人物なのか確認してみる"
      ]
    },
    {
      "cell_type": "code",
      "metadata": {
        "id": "nn3UfyaebfaG",
        "colab_type": "code",
        "colab": {
          "base_uri": "https://localhost:8080/",
          "height": 342
        },
        "outputId": "5d788d6b-0887-4d8e-cb58-74d0cfcb2d44"
      },
      "source": [
        "for name in data_all[data_all['customer_name'].duplicated()]['customer_name'].unique():\n",
        "  if data_all[data_all['customer_name'] == name]['customer_id'].nunique() > 1:\n",
        "    print(name)\n"
      ],
      "execution_count": 187,
      "outputs": [
        {
          "output_type": "stream",
          "text": [
            "藤沢 竜也\n",
            "根本 瞬\n",
            "阿久津 景子\n",
            "白川 美咲\n",
            "川島 友以乃\n",
            "大貫 明\n",
            "松永 エリカ\n",
            "中塚 あさみ\n",
            "大田 祐一\n",
            "杉下 陽介\n",
            "保坂 かおり\n",
            "金子 妃里\n",
            "長沢 優\n",
            "遠藤 くるみ\n",
            "金山 丈史\n",
            "古屋 浩太郎\n",
            "前田 竜也\n",
            "浅見 優\n",
            "宮里 大樹\n",
            "佐々木 淳\n"
          ],
          "name": "stdout"
        }
      ]
    },
    {
      "cell_type": "code",
      "metadata": {
        "id": "3fF6jPrOfx0P",
        "colab_type": "code",
        "colab": {
          "base_uri": "https://localhost:8080/",
          "height": 337
        },
        "outputId": "20fa9fde-5f01-42b6-d653-e2ec8e3aa04d"
      },
      "source": [
        "data_all[data_all['customer_name'] == '藤沢 竜也']"
      ],
      "execution_count": 188,
      "outputs": [
        {
          "output_type": "execute_result",
          "data": {
            "text/html": [
              "<div>\n",
              "<style scoped>\n",
              "    .dataframe tbody tr th:only-of-type {\n",
              "        vertical-align: middle;\n",
              "    }\n",
              "\n",
              "    .dataframe tbody tr th {\n",
              "        vertical-align: top;\n",
              "    }\n",
              "\n",
              "    .dataframe thead th {\n",
              "        text-align: right;\n",
              "    }\n",
              "</style>\n",
              "<table border=\"1\" class=\"dataframe\">\n",
              "  <thead>\n",
              "    <tr style=\"text-align: right;\">\n",
              "      <th></th>\n",
              "      <th>detail_id</th>\n",
              "      <th>transaction_id</th>\n",
              "      <th>item_id</th>\n",
              "      <th>quantity</th>\n",
              "      <th>payment_date</th>\n",
              "      <th>customer_id</th>\n",
              "      <th>item_name</th>\n",
              "      <th>item_price</th>\n",
              "      <th>customer_name</th>\n",
              "      <th>registration_date</th>\n",
              "      <th>customer_name_kana</th>\n",
              "      <th>email</th>\n",
              "      <th>gender</th>\n",
              "      <th>age</th>\n",
              "      <th>birth</th>\n",
              "      <th>pref</th>\n",
              "      <th>price</th>\n",
              "      <th>payment_month</th>\n",
              "      <th>payment_day</th>\n",
              "    </tr>\n",
              "  </thead>\n",
              "  <tbody>\n",
              "    <tr>\n",
              "      <th>330</th>\n",
              "      <td>330</td>\n",
              "      <td>T0000000429</td>\n",
              "      <td>S005</td>\n",
              "      <td>1</td>\n",
              "      <td>2019-02-09 04:21:35</td>\n",
              "      <td>HD719737</td>\n",
              "      <td>PC-E</td>\n",
              "      <td>210000</td>\n",
              "      <td>藤沢 竜也</td>\n",
              "      <td>2019-01-30 23:23:37</td>\n",
              "      <td>ふじさわ たつや</td>\n",
              "      <td>fujisawa_tatsuya1@example.com</td>\n",
              "      <td>M</td>\n",
              "      <td>62</td>\n",
              "      <td>1957/5/22</td>\n",
              "      <td>東京都</td>\n",
              "      <td>210000</td>\n",
              "      <td>201902</td>\n",
              "      <td>Sat</td>\n",
              "    </tr>\n",
              "    <tr>\n",
              "      <th>427</th>\n",
              "      <td>427</td>\n",
              "      <td>T0000000521</td>\n",
              "      <td>S001</td>\n",
              "      <td>1</td>\n",
              "      <td>2019-02-11 13:47:20</td>\n",
              "      <td>HD719737</td>\n",
              "      <td>PC-A</td>\n",
              "      <td>50000</td>\n",
              "      <td>藤沢 竜也</td>\n",
              "      <td>2019-01-30 23:23:37</td>\n",
              "      <td>ふじさわ たつや</td>\n",
              "      <td>fujisawa_tatsuya1@example.com</td>\n",
              "      <td>M</td>\n",
              "      <td>62</td>\n",
              "      <td>1957/5/22</td>\n",
              "      <td>東京都</td>\n",
              "      <td>50000</td>\n",
              "      <td>201902</td>\n",
              "      <td>Mon</td>\n",
              "    </tr>\n",
              "    <tr>\n",
              "      <th>730</th>\n",
              "      <td>730</td>\n",
              "      <td>T0000000809</td>\n",
              "      <td>S001</td>\n",
              "      <td>2</td>\n",
              "      <td>2019-02-19 04:18:21</td>\n",
              "      <td>OA953933</td>\n",
              "      <td>PC-A</td>\n",
              "      <td>50000</td>\n",
              "      <td>藤沢 竜也</td>\n",
              "      <td>2019-02-06 04:40:41</td>\n",
              "      <td>ふじさわ たつや</td>\n",
              "      <td>fujisawa_tatsuya@example.com</td>\n",
              "      <td>M</td>\n",
              "      <td>23</td>\n",
              "      <td>1995/11/5</td>\n",
              "      <td>京都府</td>\n",
              "      <td>100000</td>\n",
              "      <td>201902</td>\n",
              "      <td>Tue</td>\n",
              "    </tr>\n",
              "    <tr>\n",
              "      <th>1752</th>\n",
              "      <td>1752</td>\n",
              "      <td>T0000001779</td>\n",
              "      <td>S001</td>\n",
              "      <td>1</td>\n",
              "      <td>2019-03-16 17:33:45</td>\n",
              "      <td>HD719737</td>\n",
              "      <td>PC-A</td>\n",
              "      <td>50000</td>\n",
              "      <td>藤沢 竜也</td>\n",
              "      <td>2019-01-30 23:23:37</td>\n",
              "      <td>ふじさわ たつや</td>\n",
              "      <td>fujisawa_tatsuya1@example.com</td>\n",
              "      <td>M</td>\n",
              "      <td>62</td>\n",
              "      <td>1957/5/22</td>\n",
              "      <td>東京都</td>\n",
              "      <td>50000</td>\n",
              "      <td>201903</td>\n",
              "      <td>Sat</td>\n",
              "    </tr>\n",
              "    <tr>\n",
              "      <th>4748</th>\n",
              "      <td>4748</td>\n",
              "      <td>T0000004630</td>\n",
              "      <td>S002</td>\n",
              "      <td>1</td>\n",
              "      <td>2019-06-02 15:22:40</td>\n",
              "      <td>OA953933</td>\n",
              "      <td>PC-B</td>\n",
              "      <td>85000</td>\n",
              "      <td>藤沢 竜也</td>\n",
              "      <td>2019-02-06 04:40:41</td>\n",
              "      <td>ふじさわ たつや</td>\n",
              "      <td>fujisawa_tatsuya@example.com</td>\n",
              "      <td>M</td>\n",
              "      <td>23</td>\n",
              "      <td>1995/11/5</td>\n",
              "      <td>京都府</td>\n",
              "      <td>85000</td>\n",
              "      <td>201906</td>\n",
              "      <td>Sun</td>\n",
              "    </tr>\n",
              "    <tr>\n",
              "      <th>5201</th>\n",
              "      <td>5201</td>\n",
              "      <td>T0000005060</td>\n",
              "      <td>S001</td>\n",
              "      <td>1</td>\n",
              "      <td>2019-06-13 18:40:59</td>\n",
              "      <td>HD719737</td>\n",
              "      <td>PC-A</td>\n",
              "      <td>50000</td>\n",
              "      <td>藤沢 竜也</td>\n",
              "      <td>2019-01-30 23:23:37</td>\n",
              "      <td>ふじさわ たつや</td>\n",
              "      <td>fujisawa_tatsuya1@example.com</td>\n",
              "      <td>M</td>\n",
              "      <td>62</td>\n",
              "      <td>1957/5/22</td>\n",
              "      <td>東京都</td>\n",
              "      <td>50000</td>\n",
              "      <td>201906</td>\n",
              "      <td>Thu</td>\n",
              "    </tr>\n",
              "  </tbody>\n",
              "</table>\n",
              "</div>"
            ],
            "text/plain": [
              "      detail_id transaction_id item_id  ...   price payment_month payment_day\n",
              "330         330    T0000000429    S005  ...  210000        201902         Sat\n",
              "427         427    T0000000521    S001  ...   50000        201902         Mon\n",
              "730         730    T0000000809    S001  ...  100000        201902         Tue\n",
              "1752       1752    T0000001779    S001  ...   50000        201903         Sat\n",
              "4748       4748    T0000004630    S002  ...   85000        201906         Sun\n",
              "5201       5201    T0000005060    S001  ...   50000        201906         Thu\n",
              "\n",
              "[6 rows x 19 columns]"
            ]
          },
          "metadata": {
            "tags": []
          },
          "execution_count": 188
        }
      ]
    },
    {
      "cell_type": "markdown",
      "metadata": {
        "id": "4bjg2uLNgGAx",
        "colab_type": "text"
      },
      "source": [
        "- 生年月日が異なるので、同姓同名なだけでした。"
      ]
    },
    {
      "cell_type": "code",
      "metadata": {
        "id": "gHnVHMc1YPYm",
        "colab_type": "code",
        "colab": {
          "base_uri": "https://localhost:8080/",
          "height": 283
        },
        "outputId": "bba4363d-27a6-47f6-8659-ca19e3c127d0"
      },
      "source": [
        "# price\n",
        "data_all['price'].plot.hist(bins = 20)"
      ],
      "execution_count": 160,
      "outputs": [
        {
          "output_type": "execute_result",
          "data": {
            "text/plain": [
              "<matplotlib.axes._subplots.AxesSubplot at 0x7fd864301dd8>"
            ]
          },
          "metadata": {
            "tags": []
          },
          "execution_count": 160
        },
        {
          "output_type": "display_data",
          "data": {
            "image/png": "[encoded data removed]",
            "text/plain": [
              "<Figure size 432x288 with 1 Axes>"
            ]
          },
          "metadata": {
            "tags": []
          }
        }
      ]
    },
    {
      "cell_type": "code",
      "metadata": {
        "id": "uu4MW4wdmFOv",
        "colab_type": "code",
        "colab": {
          "base_uri": "https://localhost:8080/",
          "height": 301
        },
        "outputId": "36435a0a-c6c5-4ca0-dc6b-d7d5d978c267"
      },
      "source": [
        "# item\n",
        "data_all['item_id'].value_counts().plot(kind='bar')"
      ],
      "execution_count": 226,
      "outputs": [
        {
          "output_type": "execute_result",
          "data": {
            "text/plain": [
              "<matplotlib.axes._subplots.AxesSubplot at 0x7fd85dbc0b70>"
            ]
          },
          "metadata": {
            "tags": []
          },
          "execution_count": 226
        },
        {
          "output_type": "display_data",
          "data": {
            "image/png": "[encoded data removed]",
            "text/plain": [
              "<Figure size 432x288 with 1 Axes>"
            ]
          },
          "metadata": {
            "tags": [],
            "needs_background": "light"
          }
        }
      ]
    },
    {
      "cell_type": "code",
      "metadata": {
        "id": "ZLfhgu1iYpfD",
        "colab_type": "code",
        "colab": {
          "base_uri": "https://localhost:8080/",
          "height": 283
        },
        "outputId": "9efab538-863f-4dbd-a496-bc711b1d76c9"
      },
      "source": [
        "# age\n",
        "data_all['age'].plot.hist(bins = 20)"
      ],
      "execution_count": 161,
      "outputs": [
        {
          "output_type": "execute_result",
          "data": {
            "text/plain": [
              "<matplotlib.axes._subplots.AxesSubplot at 0x7fd8642ae160>"
            ]
          },
          "metadata": {
            "tags": []
          },
          "execution_count": 161
        },
        {
          "output_type": "display_data",
          "data": {
            "image/png": "[encoded data removed]",
            "text/plain": [
              "<Figure size 432x288 with 1 Axes>"
            ]
          },
          "metadata": {
            "tags": []
          }
        }
      ]
    },
    {
      "cell_type": "code",
      "metadata": {
        "id": "BlbNWf7Qg_Fx",
        "colab_type": "code",
        "colab": {
          "base_uri": "https://localhost:8080/",
          "height": 481
        },
        "outputId": "4a9276dd-11d4-4ecc-fb6f-ca98a73dfddf"
      },
      "source": [
        "# prefecture\n",
        "plt.figure(figsize=(15, 7))\n",
        "data_all['pref'].value_counts().plot(kind='bar')"
      ],
      "execution_count": 224,
      "outputs": [
        {
          "output_type": "execute_result",
          "data": {
            "text/plain": [
              "<matplotlib.axes._subplots.AxesSubplot at 0x7fd85dd341d0>"
            ]
          },
          "metadata": {
            "tags": []
          },
          "execution_count": 224
        },
        {
          "output_type": "display_data",
          "data": {
            "image/png": "[encoded data removed]",
            "text/plain": [
              "<Figure size 1080x504 with 1 Axes>"
            ]
          },
          "metadata": {
            "tags": [],
            "needs_background": "light"
          }
        }
      ]
    },
    {
      "cell_type": "markdown",
      "metadata": {
        "id": "fz6rRczjT8kQ",
        "colab_type": "text"
      },
      "source": [
        "> ## ノック：月別でデータを集計してみよう"
      ]
    },
    {
      "cell_type": "code",
      "metadata": {
        "id": "7oHdLLPj_GTr",
        "colab_type": "code",
        "colab": {
          "base_uri": "https://localhost:8080/",
          "height": 147
        },
        "outputId": "0a1c4211-97ea-4736-853c-0ab482c7fa46"
      },
      "source": [
        "data_all[\"payment_date\"] = pd.to_datetime(data_all[\"payment_date\"])\n",
        "data_all[\"payment_month\"] = data_all[\"payment_date\"].dt.strftime(\"%Y%m\") \n",
        "\n",
        "data_all.groupby(\"payment_month\").sum()[\"price\"]"
      ],
      "execution_count": 142,
      "outputs": [
        {
          "output_type": "execute_result",
          "data": {
            "text/plain": [
              "payment_month\n",
              "201902    160185000\n",
              "201903    160370000\n",
              "201904    160510000\n",
              "201905    155420000\n",
              "201906    164030000\n",
              "201907    170620000\n",
              "Name: price, dtype: int64"
            ]
          },
          "metadata": {
            "tags": []
          },
          "execution_count": 142
        }
      ]
    },
    {
      "cell_type": "markdown",
      "metadata": {
        "id": "sBnl20YJUZqg",
        "colab_type": "text"
      },
      "source": [
        "https://pandas.pydata.org/pandas-docs/stable/reference/api/pandas.Series.dt.strftime.html\n",
        "https://docs.python.org/3/library/datetime.html#strftime-and-strptime-behavior"
      ]
    },
    {
      "cell_type": "code",
      "metadata": {
        "id": "EH6MVqhMUxvw",
        "colab_type": "code",
        "colab": {
          "base_uri": "https://localhost:8080/",
          "height": 163
        },
        "outputId": "da99a957-7f76-497b-c30f-070a9da2bb90"
      },
      "source": [
        "# 曜日別\n",
        "\n",
        "data_all['payment_day'] = data_all['payment_date'].dt.strftime(\"%a\")\n",
        "data_all.groupby('payment_day').sum()['price']"
      ],
      "execution_count": 149,
      "outputs": [
        {
          "output_type": "execute_result",
          "data": {
            "text/plain": [
              "payment_day\n",
              "Fri    144570000\n",
              "Mon    131370000\n",
              "Sat    140625000\n",
              "Sun    140785000\n",
              "Thu    136720000\n",
              "Tue    137995000\n",
              "Wed    139070000\n",
              "Name: price, dtype: int64"
            ]
          },
          "metadata": {
            "tags": []
          },
          "execution_count": 149
        }
      ]
    },
    {
      "cell_type": "markdown",
      "metadata": {
        "id": "xaEAmPf1WxOJ",
        "colab_type": "text"
      },
      "source": [
        "> ## ノック９：月別、商品別でデータを集計してみよう"
      ]
    },
    {
      "cell_type": "code",
      "metadata": {
        "id": "3dGumIvBB-dY",
        "colab_type": "code",
        "colab": {
          "base_uri": "https://localhost:8080/",
          "height": 938
        },
        "outputId": "678fd9c1-c17c-43ce-c168-f88804eb0f1f"
      },
      "source": [
        "data_all.groupby(by = [\"payment_month\", \"item_name\"]).sum()[[\"price\", \"quantity\"]]"
      ],
      "execution_count": 150,
      "outputs": [
        {
          "output_type": "execute_result",
          "data": {
            "text/html": [
              "<div>\n",
              "<style scoped>\n",
              "    .dataframe tbody tr th:only-of-type {\n",
              "        vertical-align: middle;\n",
              "    }\n",
              "\n",
              "    .dataframe tbody tr th {\n",
              "        vertical-align: top;\n",
              "    }\n",
              "\n",
              "    .dataframe thead th {\n",
              "        text-align: right;\n",
              "    }\n",
              "</style>\n",
              "<table border=\"1\" class=\"dataframe\">\n",
              "  <thead>\n",
              "    <tr style=\"text-align: right;\">\n",
              "      <th></th>\n",
              "      <th></th>\n",
              "      <th>price</th>\n",
              "      <th>quantity</th>\n",
              "    </tr>\n",
              "    <tr>\n",
              "      <th>payment_month</th>\n",
              "      <th>item_name</th>\n",
              "      <th></th>\n",
              "      <th></th>\n",
              "    </tr>\n",
              "  </thead>\n",
              "  <tbody>\n",
              "    <tr>\n",
              "      <th rowspan=\"5\" valign=\"top\">201902</th>\n",
              "      <th>PC-A</th>\n",
              "      <td>24150000</td>\n",
              "      <td>483</td>\n",
              "    </tr>\n",
              "    <tr>\n",
              "      <th>PC-B</th>\n",
              "      <td>25245000</td>\n",
              "      <td>297</td>\n",
              "    </tr>\n",
              "    <tr>\n",
              "      <th>PC-C</th>\n",
              "      <td>19800000</td>\n",
              "      <td>165</td>\n",
              "    </tr>\n",
              "    <tr>\n",
              "      <th>PC-D</th>\n",
              "      <td>31140000</td>\n",
              "      <td>173</td>\n",
              "    </tr>\n",
              "    <tr>\n",
              "      <th>PC-E</th>\n",
              "      <td>59850000</td>\n",
              "      <td>285</td>\n",
              "    </tr>\n",
              "    <tr>\n",
              "      <th rowspan=\"5\" valign=\"top\">201903</th>\n",
              "      <th>PC-A</th>\n",
              "      <td>26000000</td>\n",
              "      <td>520</td>\n",
              "    </tr>\n",
              "    <tr>\n",
              "      <th>PC-B</th>\n",
              "      <td>25500000</td>\n",
              "      <td>300</td>\n",
              "    </tr>\n",
              "    <tr>\n",
              "      <th>PC-C</th>\n",
              "      <td>19080000</td>\n",
              "      <td>159</td>\n",
              "    </tr>\n",
              "    <tr>\n",
              "      <th>PC-D</th>\n",
              "      <td>25740000</td>\n",
              "      <td>143</td>\n",
              "    </tr>\n",
              "    <tr>\n",
              "      <th>PC-E</th>\n",
              "      <td>64050000</td>\n",
              "      <td>305</td>\n",
              "    </tr>\n",
              "    <tr>\n",
              "      <th rowspan=\"5\" valign=\"top\">201904</th>\n",
              "      <th>PC-A</th>\n",
              "      <td>25900000</td>\n",
              "      <td>518</td>\n",
              "    </tr>\n",
              "    <tr>\n",
              "      <th>PC-B</th>\n",
              "      <td>23460000</td>\n",
              "      <td>276</td>\n",
              "    </tr>\n",
              "    <tr>\n",
              "      <th>PC-C</th>\n",
              "      <td>21960000</td>\n",
              "      <td>183</td>\n",
              "    </tr>\n",
              "    <tr>\n",
              "      <th>PC-D</th>\n",
              "      <td>24300000</td>\n",
              "      <td>135</td>\n",
              "    </tr>\n",
              "    <tr>\n",
              "      <th>PC-E</th>\n",
              "      <td>64890000</td>\n",
              "      <td>309</td>\n",
              "    </tr>\n",
              "    <tr>\n",
              "      <th rowspan=\"5\" valign=\"top\">201905</th>\n",
              "      <th>PC-A</th>\n",
              "      <td>24850000</td>\n",
              "      <td>497</td>\n",
              "    </tr>\n",
              "    <tr>\n",
              "      <th>PC-B</th>\n",
              "      <td>25330000</td>\n",
              "      <td>298</td>\n",
              "    </tr>\n",
              "    <tr>\n",
              "      <th>PC-C</th>\n",
              "      <td>20520000</td>\n",
              "      <td>171</td>\n",
              "    </tr>\n",
              "    <tr>\n",
              "      <th>PC-D</th>\n",
              "      <td>25920000</td>\n",
              "      <td>144</td>\n",
              "    </tr>\n",
              "    <tr>\n",
              "      <th>PC-E</th>\n",
              "      <td>58800000</td>\n",
              "      <td>280</td>\n",
              "    </tr>\n",
              "    <tr>\n",
              "      <th rowspan=\"5\" valign=\"top\">201906</th>\n",
              "      <th>PC-A</th>\n",
              "      <td>26000000</td>\n",
              "      <td>520</td>\n",
              "    </tr>\n",
              "    <tr>\n",
              "      <th>PC-B</th>\n",
              "      <td>23970000</td>\n",
              "      <td>282</td>\n",
              "    </tr>\n",
              "    <tr>\n",
              "      <th>PC-C</th>\n",
              "      <td>21840000</td>\n",
              "      <td>182</td>\n",
              "    </tr>\n",
              "    <tr>\n",
              "      <th>PC-D</th>\n",
              "      <td>28800000</td>\n",
              "      <td>160</td>\n",
              "    </tr>\n",
              "    <tr>\n",
              "      <th>PC-E</th>\n",
              "      <td>63420000</td>\n",
              "      <td>302</td>\n",
              "    </tr>\n",
              "    <tr>\n",
              "      <th rowspan=\"5\" valign=\"top\">201907</th>\n",
              "      <th>PC-A</th>\n",
              "      <td>25250000</td>\n",
              "      <td>505</td>\n",
              "    </tr>\n",
              "    <tr>\n",
              "      <th>PC-B</th>\n",
              "      <td>28220000</td>\n",
              "      <td>332</td>\n",
              "    </tr>\n",
              "    <tr>\n",
              "      <th>PC-C</th>\n",
              "      <td>19440000</td>\n",
              "      <td>162</td>\n",
              "    </tr>\n",
              "    <tr>\n",
              "      <th>PC-D</th>\n",
              "      <td>26100000</td>\n",
              "      <td>145</td>\n",
              "    </tr>\n",
              "    <tr>\n",
              "      <th>PC-E</th>\n",
              "      <td>71610000</td>\n",
              "      <td>341</td>\n",
              "    </tr>\n",
              "  </tbody>\n",
              "</table>\n",
              "</div>"
            ],
            "text/plain": [
              "                            price  quantity\n",
              "payment_month item_name                    \n",
              "201902        PC-A       24150000       483\n",
              "              PC-B       25245000       297\n",
              "              PC-C       19800000       165\n",
              "              PC-D       31140000       173\n",
              "              PC-E       59850000       285\n",
              "201903        PC-A       26000000       520\n",
              "              PC-B       25500000       300\n",
              "              PC-C       19080000       159\n",
              "              PC-D       25740000       143\n",
              "              PC-E       64050000       305\n",
              "201904        PC-A       25900000       518\n",
              "              PC-B       23460000       276\n",
              "              PC-C       21960000       183\n",
              "              PC-D       24300000       135\n",
              "              PC-E       64890000       309\n",
              "201905        PC-A       24850000       497\n",
              "              PC-B       25330000       298\n",
              "              PC-C       20520000       171\n",
              "              PC-D       25920000       144\n",
              "              PC-E       58800000       280\n",
              "201906        PC-A       26000000       520\n",
              "              PC-B       23970000       282\n",
              "              PC-C       21840000       182\n",
              "              PC-D       28800000       160\n",
              "              PC-E       63420000       302\n",
              "201907        PC-A       25250000       505\n",
              "              PC-B       28220000       332\n",
              "              PC-C       19440000       162\n",
              "              PC-D       26100000       145\n",
              "              PC-E       71610000       341"
            ]
          },
          "metadata": {
            "tags": []
          },
          "execution_count": 150
        }
      ]
    },
    {
      "cell_type": "code",
      "metadata": {
        "id": "PoZKrMQyCvUU",
        "colab_type": "code",
        "colab": {
          "base_uri": "https://localhost:8080/",
          "height": 248
        },
        "outputId": "48249a53-0a30-4419-9868-5cacee1ae9c2"
      },
      "source": [
        "pd.pivot_table(data_all, index = 'item_name', columns = 'payment_month', values = ['price', 'quantity'], aggfunc = np.sum)"
      ],
      "execution_count": 153,
      "outputs": [
        {
          "output_type": "execute_result",
          "data": {
            "text/html": [
              "<div>\n",
              "<style scoped>\n",
              "    .dataframe tbody tr th:only-of-type {\n",
              "        vertical-align: middle;\n",
              "    }\n",
              "\n",
              "    .dataframe tbody tr th {\n",
              "        vertical-align: top;\n",
              "    }\n",
              "\n",
              "    .dataframe thead tr th {\n",
              "        text-align: left;\n",
              "    }\n",
              "\n",
              "    .dataframe thead tr:last-of-type th {\n",
              "        text-align: right;\n",
              "    }\n",
              "</style>\n",
              "<table border=\"1\" class=\"dataframe\">\n",
              "  <thead>\n",
              "    <tr>\n",
              "      <th></th>\n",
              "      <th colspan=\"6\" halign=\"left\">price</th>\n",
              "      <th colspan=\"6\" halign=\"left\">quantity</th>\n",
              "    </tr>\n",
              "    <tr>\n",
              "      <th>payment_month</th>\n",
              "      <th>201902</th>\n",
              "      <th>201903</th>\n",
              "      <th>201904</th>\n",
              "      <th>201905</th>\n",
              "      <th>201906</th>\n",
              "      <th>201907</th>\n",
              "      <th>201902</th>\n",
              "      <th>201903</th>\n",
              "      <th>201904</th>\n",
              "      <th>201905</th>\n",
              "      <th>201906</th>\n",
              "      <th>201907</th>\n",
              "    </tr>\n",
              "    <tr>\n",
              "      <th>item_name</th>\n",
              "      <th></th>\n",
              "      <th></th>\n",
              "      <th></th>\n",
              "      <th></th>\n",
              "      <th></th>\n",
              "      <th></th>\n",
              "      <th></th>\n",
              "      <th></th>\n",
              "      <th></th>\n",
              "      <th></th>\n",
              "      <th></th>\n",
              "      <th></th>\n",
              "    </tr>\n",
              "  </thead>\n",
              "  <tbody>\n",
              "    <tr>\n",
              "      <th>PC-A</th>\n",
              "      <td>24150000</td>\n",
              "      <td>26000000</td>\n",
              "      <td>25900000</td>\n",
              "      <td>24850000</td>\n",
              "      <td>26000000</td>\n",
              "      <td>25250000</td>\n",
              "      <td>483</td>\n",
              "      <td>520</td>\n",
              "      <td>518</td>\n",
              "      <td>497</td>\n",
              "      <td>520</td>\n",
              "      <td>505</td>\n",
              "    </tr>\n",
              "    <tr>\n",
              "      <th>PC-B</th>\n",
              "      <td>25245000</td>\n",
              "      <td>25500000</td>\n",
              "      <td>23460000</td>\n",
              "      <td>25330000</td>\n",
              "      <td>23970000</td>\n",
              "      <td>28220000</td>\n",
              "      <td>297</td>\n",
              "      <td>300</td>\n",
              "      <td>276</td>\n",
              "      <td>298</td>\n",
              "      <td>282</td>\n",
              "      <td>332</td>\n",
              "    </tr>\n",
              "    <tr>\n",
              "      <th>PC-C</th>\n",
              "      <td>19800000</td>\n",
              "      <td>19080000</td>\n",
              "      <td>21960000</td>\n",
              "      <td>20520000</td>\n",
              "      <td>21840000</td>\n",
              "      <td>19440000</td>\n",
              "      <td>165</td>\n",
              "      <td>159</td>\n",
              "      <td>183</td>\n",
              "      <td>171</td>\n",
              "      <td>182</td>\n",
              "      <td>162</td>\n",
              "    </tr>\n",
              "    <tr>\n",
              "      <th>PC-D</th>\n",
              "      <td>31140000</td>\n",
              "      <td>25740000</td>\n",
              "      <td>24300000</td>\n",
              "      <td>25920000</td>\n",
              "      <td>28800000</td>\n",
              "      <td>26100000</td>\n",
              "      <td>173</td>\n",
              "      <td>143</td>\n",
              "      <td>135</td>\n",
              "      <td>144</td>\n",
              "      <td>160</td>\n",
              "      <td>145</td>\n",
              "    </tr>\n",
              "    <tr>\n",
              "      <th>PC-E</th>\n",
              "      <td>59850000</td>\n",
              "      <td>64050000</td>\n",
              "      <td>64890000</td>\n",
              "      <td>58800000</td>\n",
              "      <td>63420000</td>\n",
              "      <td>71610000</td>\n",
              "      <td>285</td>\n",
              "      <td>305</td>\n",
              "      <td>309</td>\n",
              "      <td>280</td>\n",
              "      <td>302</td>\n",
              "      <td>341</td>\n",
              "    </tr>\n",
              "  </tbody>\n",
              "</table>\n",
              "</div>"
            ],
            "text/plain": [
              "                  price                      ... quantity              \n",
              "payment_month    201902    201903    201904  ...   201905 201906 201907\n",
              "item_name                                    ...                       \n",
              "PC-A           24150000  26000000  25900000  ...      497    520    505\n",
              "PC-B           25245000  25500000  23460000  ...      298    282    332\n",
              "PC-C           19800000  19080000  21960000  ...      171    182    162\n",
              "PC-D           31140000  25740000  24300000  ...      144    160    145\n",
              "PC-E           59850000  64050000  64890000  ...      280    302    341\n",
              "\n",
              "[5 rows x 12 columns]"
            ]
          },
          "metadata": {
            "tags": []
          },
          "execution_count": 153
        }
      ]
    },
    {
      "cell_type": "code",
      "metadata": {
        "id": "7r8wbNeFXzRa",
        "colab_type": "code",
        "colab": {
          "base_uri": "https://localhost:8080/",
          "height": 248
        },
        "outputId": "f8c3dca0-6e4c-4b95-d633-68025678455d"
      },
      "source": [
        "pd.pivot_table(data_all, index = 'item_name', columns = 'payment_month', values = ['price', 'quantity'], aggfunc = np.mean)"
      ],
      "execution_count": 154,
      "outputs": [
        {
          "output_type": "execute_result",
          "data": {
            "text/html": [
              "<div>\n",
              "<style scoped>\n",
              "    .dataframe tbody tr th:only-of-type {\n",
              "        vertical-align: middle;\n",
              "    }\n",
              "\n",
              "    .dataframe tbody tr th {\n",
              "        vertical-align: top;\n",
              "    }\n",
              "\n",
              "    .dataframe thead tr th {\n",
              "        text-align: left;\n",
              "    }\n",
              "\n",
              "    .dataframe thead tr:last-of-type th {\n",
              "        text-align: right;\n",
              "    }\n",
              "</style>\n",
              "<table border=\"1\" class=\"dataframe\">\n",
              "  <thead>\n",
              "    <tr>\n",
              "      <th></th>\n",
              "      <th colspan=\"6\" halign=\"left\">price</th>\n",
              "      <th colspan=\"6\" halign=\"left\">quantity</th>\n",
              "    </tr>\n",
              "    <tr>\n",
              "      <th>payment_month</th>\n",
              "      <th>201902</th>\n",
              "      <th>201903</th>\n",
              "      <th>201904</th>\n",
              "      <th>201905</th>\n",
              "      <th>201906</th>\n",
              "      <th>201907</th>\n",
              "      <th>201902</th>\n",
              "      <th>201903</th>\n",
              "      <th>201904</th>\n",
              "      <th>201905</th>\n",
              "      <th>201906</th>\n",
              "      <th>201907</th>\n",
              "    </tr>\n",
              "    <tr>\n",
              "      <th>item_name</th>\n",
              "      <th></th>\n",
              "      <th></th>\n",
              "      <th></th>\n",
              "      <th></th>\n",
              "      <th></th>\n",
              "      <th></th>\n",
              "      <th></th>\n",
              "      <th></th>\n",
              "      <th></th>\n",
              "      <th></th>\n",
              "      <th></th>\n",
              "      <th></th>\n",
              "    </tr>\n",
              "  </thead>\n",
              "  <tbody>\n",
              "    <tr>\n",
              "      <th>PC-A</th>\n",
              "      <td>72305.389222</td>\n",
              "      <td>71428.571429</td>\n",
              "      <td>70189.701897</td>\n",
              "      <td>68646.408840</td>\n",
              "      <td>73239.436620</td>\n",
              "      <td>70334.261838</td>\n",
              "      <td>1.446108</td>\n",
              "      <td>1.428571</td>\n",
              "      <td>1.403794</td>\n",
              "      <td>1.372928</td>\n",
              "      <td>1.464789</td>\n",
              "      <td>1.406685</td>\n",
              "    </tr>\n",
              "    <tr>\n",
              "      <th>PC-B</th>\n",
              "      <td>106518.987342</td>\n",
              "      <td>107142.857143</td>\n",
              "      <td>108611.111111</td>\n",
              "      <td>105103.734440</td>\n",
              "      <td>103318.965517</td>\n",
              "      <td>106490.566038</td>\n",
              "      <td>1.253165</td>\n",
              "      <td>1.260504</td>\n",
              "      <td>1.277778</td>\n",
              "      <td>1.236515</td>\n",
              "      <td>1.215517</td>\n",
              "      <td>1.252830</td>\n",
              "    </tr>\n",
              "    <tr>\n",
              "      <th>PC-C</th>\n",
              "      <td>130263.157895</td>\n",
              "      <td>133426.573427</td>\n",
              "      <td>130714.285714</td>\n",
              "      <td>133246.753247</td>\n",
              "      <td>130778.443114</td>\n",
              "      <td>134068.965517</td>\n",
              "      <td>1.085526</td>\n",
              "      <td>1.111888</td>\n",
              "      <td>1.089286</td>\n",
              "      <td>1.110390</td>\n",
              "      <td>1.089820</td>\n",
              "      <td>1.117241</td>\n",
              "    </tr>\n",
              "    <tr>\n",
              "      <th>PC-D</th>\n",
              "      <td>191042.944785</td>\n",
              "      <td>185179.856115</td>\n",
              "      <td>191338.582677</td>\n",
              "      <td>187826.086957</td>\n",
              "      <td>192000.000000</td>\n",
              "      <td>186428.571429</td>\n",
              "      <td>1.061350</td>\n",
              "      <td>1.028777</td>\n",
              "      <td>1.062992</td>\n",
              "      <td>1.043478</td>\n",
              "      <td>1.066667</td>\n",
              "      <td>1.035714</td>\n",
              "    </tr>\n",
              "    <tr>\n",
              "      <th>PC-E</th>\n",
              "      <td>215287.769784</td>\n",
              "      <td>215656.565657</td>\n",
              "      <td>213453.947368</td>\n",
              "      <td>213818.181818</td>\n",
              "      <td>212818.791946</td>\n",
              "      <td>214401.197605</td>\n",
              "      <td>1.025180</td>\n",
              "      <td>1.026936</td>\n",
              "      <td>1.016447</td>\n",
              "      <td>1.018182</td>\n",
              "      <td>1.013423</td>\n",
              "      <td>1.020958</td>\n",
              "    </tr>\n",
              "  </tbody>\n",
              "</table>\n",
              "</div>"
            ],
            "text/plain": [
              "                       price                 ...  quantity          \n",
              "payment_month         201902         201903  ...    201906    201907\n",
              "item_name                                    ...                    \n",
              "PC-A            72305.389222   71428.571429  ...  1.464789  1.406685\n",
              "PC-B           106518.987342  107142.857143  ...  1.215517  1.252830\n",
              "PC-C           130263.157895  133426.573427  ...  1.089820  1.117241\n",
              "PC-D           191042.944785  185179.856115  ...  1.066667  1.035714\n",
              "PC-E           215287.769784  215656.565657  ...  1.013423  1.020958\n",
              "\n",
              "[5 rows x 12 columns]"
            ]
          },
          "metadata": {
            "tags": []
          },
          "execution_count": 154
        }
      ]
    },
    {
      "cell_type": "markdown",
      "metadata": {
        "id": "nj8KCQIMjJW6",
        "colab_type": "text"
      },
      "source": [
        "> ## ノック10: 商品別の売上推移を可視化してみよう."
      ]
    },
    {
      "cell_type": "code",
      "metadata": {
        "id": "c_bmWL_yDJSF",
        "colab_type": "code",
        "colab": {
          "base_uri": "https://localhost:8080/",
          "height": 220
        },
        "outputId": "9f1f2291-86c2-4d32-9628-8ed3d96af077"
      },
      "source": [
        "df_tmp = pd.pivot_table(data_all, index='payment_month', columns = 'item_name', values = 'price', aggfunc = 'sum')\n",
        "df_tmp.head()"
      ],
      "execution_count": 228,
      "outputs": [
        {
          "output_type": "execute_result",
          "data": {
            "text/html": [
              "<div>\n",
              "<style scoped>\n",
              "    .dataframe tbody tr th:only-of-type {\n",
              "        vertical-align: middle;\n",
              "    }\n",
              "\n",
              "    .dataframe tbody tr th {\n",
              "        vertical-align: top;\n",
              "    }\n",
              "\n",
              "    .dataframe thead th {\n",
              "        text-align: right;\n",
              "    }\n",
              "</style>\n",
              "<table border=\"1\" class=\"dataframe\">\n",
              "  <thead>\n",
              "    <tr style=\"text-align: right;\">\n",
              "      <th>item_name</th>\n",
              "      <th>PC-A</th>\n",
              "      <th>PC-B</th>\n",
              "      <th>PC-C</th>\n",
              "      <th>PC-D</th>\n",
              "      <th>PC-E</th>\n",
              "    </tr>\n",
              "    <tr>\n",
              "      <th>payment_month</th>\n",
              "      <th></th>\n",
              "      <th></th>\n",
              "      <th></th>\n",
              "      <th></th>\n",
              "      <th></th>\n",
              "    </tr>\n",
              "  </thead>\n",
              "  <tbody>\n",
              "    <tr>\n",
              "      <th>201902</th>\n",
              "      <td>24150000</td>\n",
              "      <td>25245000</td>\n",
              "      <td>19800000</td>\n",
              "      <td>31140000</td>\n",
              "      <td>59850000</td>\n",
              "    </tr>\n",
              "    <tr>\n",
              "      <th>201903</th>\n",
              "      <td>26000000</td>\n",
              "      <td>25500000</td>\n",
              "      <td>19080000</td>\n",
              "      <td>25740000</td>\n",
              "      <td>64050000</td>\n",
              "    </tr>\n",
              "    <tr>\n",
              "      <th>201904</th>\n",
              "      <td>25900000</td>\n",
              "      <td>23460000</td>\n",
              "      <td>21960000</td>\n",
              "      <td>24300000</td>\n",
              "      <td>64890000</td>\n",
              "    </tr>\n",
              "    <tr>\n",
              "      <th>201905</th>\n",
              "      <td>24850000</td>\n",
              "      <td>25330000</td>\n",
              "      <td>20520000</td>\n",
              "      <td>25920000</td>\n",
              "      <td>58800000</td>\n",
              "    </tr>\n",
              "    <tr>\n",
              "      <th>201906</th>\n",
              "      <td>26000000</td>\n",
              "      <td>23970000</td>\n",
              "      <td>21840000</td>\n",
              "      <td>28800000</td>\n",
              "      <td>63420000</td>\n",
              "    </tr>\n",
              "  </tbody>\n",
              "</table>\n",
              "</div>"
            ],
            "text/plain": [
              "item_name          PC-A      PC-B      PC-C      PC-D      PC-E\n",
              "payment_month                                                  \n",
              "201902         24150000  25245000  19800000  31140000  59850000\n",
              "201903         26000000  25500000  19080000  25740000  64050000\n",
              "201904         25900000  23460000  21960000  24300000  64890000\n",
              "201905         24850000  25330000  20520000  25920000  58800000\n",
              "201906         26000000  23970000  21840000  28800000  63420000"
            ]
          },
          "metadata": {
            "tags": []
          },
          "execution_count": 228
        }
      ]
    },
    {
      "cell_type": "code",
      "metadata": {
        "id": "mSceU-PgEkwE",
        "colab_type": "code",
        "colab": {
          "base_uri": "https://localhost:8080/",
          "height": 463
        },
        "outputId": "60b96528-3a3f-43b9-9689-11b10d26f069"
      },
      "source": [
        "items = ['A', 'B', 'C', 'D', 'E']\n",
        "plt.figure(figsize = (10, 7))\n",
        "for x in items:\n",
        "  plt.plot(list(df_tmp.index), df_tmp[\"PC-\" + x], label = (\"PC-\" + x))\n",
        "plt.legend()\n",
        "plt.ylabel(\"Sales\")\n",
        "plt.title(\"Monthly Sales by Product\")"
      ],
      "execution_count": 230,
      "outputs": [
        {
          "output_type": "execute_result",
          "data": {
            "text/plain": [
              "Text(0.5, 1.0, 'Monthly Sales by Product')"
            ]
          },
          "metadata": {
            "tags": []
          },
          "execution_count": 230
        },
        {
          "output_type": "display_data",
          "data": {
            "image/png": "[encoded data removed]",
            "text/plain": [
              "<Figure size 720x504 with 1 Axes>"
            ]
          },
          "metadata": {
            "tags": [],
            "needs_background": "light"
          }
        }
      ]
    }
  ]
}