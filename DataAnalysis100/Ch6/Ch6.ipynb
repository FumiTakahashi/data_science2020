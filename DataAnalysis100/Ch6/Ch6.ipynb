{
  "nbformat": 4,
  "nbformat_minor": 0,
  "metadata": {
    "colab": {
      "name": "Ch6.ipynb",
      "provenance": [],
      "collapsed_sections": [],
      "toc_visible": true
    },
    "kernelspec": {
      "name": "python3",
      "display_name": "Python 3"
    }
  },
  "cells": [
    {
      "cell_type": "markdown",
      "metadata": {
        "id": "Juqc85imh-pF"
      },
      "source": [
        "# 第３部\n",
        "## 第６章：物流の最適ルートをコンサルティングする10本ノック"
      ]
    },
    {
      "cell_type": "markdown",
      "metadata": {
        "id": "C1U1k1kdogS1"
      },
      "source": [
        "> ## 準備"
      ]
    },
    {
      "cell_type": "code",
      "metadata": {
        "id": "rSLa9Tm6nsRy",
        "outputId": "a4d20c4f-68a3-4b3b-d196-9c09ff04e707",
        "colab": {
          "base_uri": "https://localhost:8080/",
          "height": 33
        }
      },
      "source": [
        "# フォルダーに移動\n",
        "% cd /content/drive/My Drive/Colab Notebooks/deeplab/data_analysis_100/"
      ],
      "execution_count": 1,
      "outputs": [
        {
          "output_type": "stream",
          "text": [
            "/content/drive/My Drive/Colab Notebooks/deeplab/data_analysis_100\n"
          ],
          "name": "stdout"
        }
      ]
    },
    {
      "cell_type": "code",
      "metadata": {
        "id": "_abNG3Bwofsm",
        "outputId": "d94f808f-487c-4170-e125-5094212f04bc",
        "colab": {
          "base_uri": "https://localhost:8080/",
          "height": 245
        }
      },
      "source": [
        "% ls サンプルコード_20200325/6章"
      ],
      "execution_count": 2,
      "outputs": [
        {
          "output_type": "stream",
          "text": [
            "6章_物流の最適ルートをコンサルティングする１０本ノック_answer.ipynb\n",
            "6章_物流の最適ルートをコンサルティングする１０本ノック.ipynb\n",
            "demand.csv\n",
            "network_pos.csv\n",
            "network_weight.csv\n",
            "rel_cost.csv\n",
            "supply.csv\n",
            "tbl_factory.csv\n",
            "tbl_transaction.csv\n",
            "tbl_warehouse.csv\n",
            "trans_cost.csv\n",
            "trans_route.csv\n",
            "trans_route_new.csv\n",
            "trans_route_pos.csv\n"
          ],
          "name": "stdout"
        }
      ]
    },
    {
      "cell_type": "code",
      "metadata": {
        "id": "NbqXtCGbou_J",
        "outputId": "6b1cf244-09a3-4d37-ca41-25b49498b93d",
        "colab": {
          "base_uri": "https://localhost:8080/",
          "height": 293
        }
      },
      "source": [
        "# 日本語フォント用\n",
        "!pip install japanize-matplotlib"
      ],
      "execution_count": 3,
      "outputs": [
        {
          "output_type": "stream",
          "text": [
            "Collecting japanize-matplotlib\n",
            "\u001b[?25l  Downloading https://files.pythonhosted.org/packages/2c/aa/3b24d54bd02e25d63c8f23bb316694e1aad7ffdc07ba296e7c9be2f6837d/japanize-matplotlib-1.1.2.tar.gz (4.1MB)\n",
            "\u001b[K     |████████████████████████████████| 4.1MB 2.8MB/s \n",
            "\u001b[?25hRequirement already satisfied: matplotlib in /usr/local/lib/python3.6/dist-packages (from japanize-matplotlib) (3.2.2)\n",
            "Requirement already satisfied: kiwisolver>=1.0.1 in /usr/local/lib/python3.6/dist-packages (from matplotlib->japanize-matplotlib) (1.2.0)\n",
            "Requirement already satisfied: numpy>=1.11 in /usr/local/lib/python3.6/dist-packages (from matplotlib->japanize-matplotlib) (1.18.5)\n",
            "Requirement already satisfied: pyparsing!=2.0.4,!=2.1.2,!=2.1.6,>=2.0.1 in /usr/local/lib/python3.6/dist-packages (from matplotlib->japanize-matplotlib) (2.4.7)\n",
            "Requirement already satisfied: cycler>=0.10 in /usr/local/lib/python3.6/dist-packages (from matplotlib->japanize-matplotlib) (0.10.0)\n",
            "Requirement already satisfied: python-dateutil>=2.1 in /usr/local/lib/python3.6/dist-packages (from matplotlib->japanize-matplotlib) (2.8.1)\n",
            "Requirement already satisfied: six in /usr/local/lib/python3.6/dist-packages (from cycler>=0.10->matplotlib->japanize-matplotlib) (1.15.0)\n",
            "Building wheels for collected packages: japanize-matplotlib\n",
            "  Building wheel for japanize-matplotlib (setup.py) ... \u001b[?25l\u001b[?25hdone\n",
            "  Created wheel for japanize-matplotlib: filename=japanize_matplotlib-1.1.2-cp36-none-any.whl size=4120193 sha256=467dd25d4cd182624d0cd42d14e5472e41d8ab9e8c8eeb013633e9e1572cd69f\n",
            "  Stored in directory: /root/.cache/pip/wheels/9c/f9/fc/bc052ce743a03f94ccc7fda73d1d389ce98216c6ffaaf65afc\n",
            "Successfully built japanize-matplotlib\n",
            "Installing collected packages: japanize-matplotlib\n",
            "Successfully installed japanize-matplotlib-1.1.2\n"
          ],
          "name": "stdout"
        }
      ]
    },
    {
      "cell_type": "code",
      "metadata": {
        "id": "4s27T44doxmv",
        "outputId": "4939e438-489c-4d00-d3bf-ca149b1b9619",
        "colab": {
          "base_uri": "https://localhost:8080/",
          "height": 66
        }
      },
      "source": [
        "# Load libraries\n",
        "\n",
        "import pandas as pd\n",
        "import numpy as np\n",
        "import matplotlib.pyplot as plt\n",
        "import japanize_matplotlib\n",
        "import seaborn as sns\n",
        "%matplotlib inline"
      ],
      "execution_count": 4,
      "outputs": [
        {
          "output_type": "stream",
          "text": [
            "/usr/local/lib/python3.6/dist-packages/japanize_matplotlib/japanize_matplotlib.py:15: MatplotlibDeprecationWarning: \n",
            "The createFontList function was deprecated in Matplotlib 3.2 and will be removed two minor releases later. Use FontManager.addfont instead.\n",
            "  font_list = font_manager.createFontList(font_files)\n"
          ],
          "name": "stderr"
        }
      ]
    },
    {
      "cell_type": "code",
      "metadata": {
        "id": "uoAbwqzmqMNv"
      },
      "source": [
        "# Ignore warnings\n",
        "import warnings\n",
        "warnings.filterwarnings('ignore')"
      ],
      "execution_count": 5,
      "outputs": []
    },
    {
      "cell_type": "code",
      "metadata": {
        "id": "b29zzUciozcl"
      },
      "source": [
        "# Config\n",
        "PATH = './サンプルコード_20200325/6章/'"
      ],
      "execution_count": 6,
      "outputs": []
    },
    {
      "cell_type": "markdown",
      "metadata": {
        "id": "HFkbazo0o5kH"
      },
      "source": [
        "> ## ノック51:物流に関するデータを読み込んでみよう"
      ]
    },
    {
      "cell_type": "code",
      "metadata": {
        "id": "tOWAahbyW38U",
        "outputId": "2868f272-224e-494e-bf7f-1c277cf610ef",
        "colab": {
          "base_uri": "https://localhost:8080/",
          "height": 277
        }
      },
      "source": [
        "# 生産工場用データ\n",
        "df_tbl_factory = pd.read_csv(PATH+'tbl_factory.csv')\n",
        "df_tbl_factory"
      ],
      "execution_count": 7,
      "outputs": [
        {
          "output_type": "execute_result",
          "data": {
            "text/html": [
              "<div>\n",
              "<style scoped>\n",
              "    .dataframe tbody tr th:only-of-type {\n",
              "        vertical-align: middle;\n",
              "    }\n",
              "\n",
              "    .dataframe tbody tr th {\n",
              "        vertical-align: top;\n",
              "    }\n",
              "\n",
              "    .dataframe thead th {\n",
              "        text-align: right;\n",
              "    }\n",
              "</style>\n",
              "<table border=\"1\" class=\"dataframe\">\n",
              "  <thead>\n",
              "    <tr style=\"text-align: right;\">\n",
              "      <th></th>\n",
              "      <th>FCID</th>\n",
              "      <th>FCName</th>\n",
              "      <th>FCDemand</th>\n",
              "      <th>FCRegion</th>\n",
              "    </tr>\n",
              "  </thead>\n",
              "  <tbody>\n",
              "    <tr>\n",
              "      <th>0</th>\n",
              "      <td>FC00001</td>\n",
              "      <td>東京工場</td>\n",
              "      <td>28</td>\n",
              "      <td>関東</td>\n",
              "    </tr>\n",
              "    <tr>\n",
              "      <th>1</th>\n",
              "      <td>FC00002</td>\n",
              "      <td>木更津工場</td>\n",
              "      <td>29</td>\n",
              "      <td>関東</td>\n",
              "    </tr>\n",
              "    <tr>\n",
              "      <th>2</th>\n",
              "      <td>FC00003</td>\n",
              "      <td>多摩工場</td>\n",
              "      <td>31</td>\n",
              "      <td>関東</td>\n",
              "    </tr>\n",
              "    <tr>\n",
              "      <th>3</th>\n",
              "      <td>FC00004</td>\n",
              "      <td>横須賀工場</td>\n",
              "      <td>25</td>\n",
              "      <td>関東</td>\n",
              "    </tr>\n",
              "    <tr>\n",
              "      <th>4</th>\n",
              "      <td>FC00005</td>\n",
              "      <td>仙台工場</td>\n",
              "      <td>21</td>\n",
              "      <td>東北</td>\n",
              "    </tr>\n",
              "    <tr>\n",
              "      <th>5</th>\n",
              "      <td>FC00006</td>\n",
              "      <td>山形工場</td>\n",
              "      <td>30</td>\n",
              "      <td>東北</td>\n",
              "    </tr>\n",
              "    <tr>\n",
              "      <th>6</th>\n",
              "      <td>FC00007</td>\n",
              "      <td>那須工場</td>\n",
              "      <td>25</td>\n",
              "      <td>東北</td>\n",
              "    </tr>\n",
              "    <tr>\n",
              "      <th>7</th>\n",
              "      <td>FC00008</td>\n",
              "      <td>青森工場</td>\n",
              "      <td>16</td>\n",
              "      <td>東北</td>\n",
              "    </tr>\n",
              "  </tbody>\n",
              "</table>\n",
              "</div>"
            ],
            "text/plain": [
              "      FCID FCName  FCDemand FCRegion\n",
              "0  FC00001   東京工場        28       関東\n",
              "1  FC00002  木更津工場        29       関東\n",
              "2  FC00003   多摩工場        31       関東\n",
              "3  FC00004  横須賀工場        25       関東\n",
              "4  FC00005   仙台工場        21       東北\n",
              "5  FC00006   山形工場        30       東北\n",
              "6  FC00007   那須工場        25       東北\n",
              "7  FC00008   青森工場        16       東北"
            ]
          },
          "metadata": {
            "tags": []
          },
          "execution_count": 7
        }
      ]
    },
    {
      "cell_type": "code",
      "metadata": {
        "id": "T_N3mUo2XgTl",
        "outputId": "e455e136-bafc-453f-d749-2a471ebf3f61",
        "colab": {
          "base_uri": "https://localhost:8080/",
          "height": 220
        }
      },
      "source": [
        "# 倉庫のデータ\n",
        "df_tbl_warehouse = pd.read_csv(PATH+'tbl_warehouse.csv')\n",
        "df_tbl_warehouse"
      ],
      "execution_count": 8,
      "outputs": [
        {
          "output_type": "execute_result",
          "data": {
            "text/html": [
              "<div>\n",
              "<style scoped>\n",
              "    .dataframe tbody tr th:only-of-type {\n",
              "        vertical-align: middle;\n",
              "    }\n",
              "\n",
              "    .dataframe tbody tr th {\n",
              "        vertical-align: top;\n",
              "    }\n",
              "\n",
              "    .dataframe thead th {\n",
              "        text-align: right;\n",
              "    }\n",
              "</style>\n",
              "<table border=\"1\" class=\"dataframe\">\n",
              "  <thead>\n",
              "    <tr style=\"text-align: right;\">\n",
              "      <th></th>\n",
              "      <th>WHID</th>\n",
              "      <th>WHName</th>\n",
              "      <th>WHSupply</th>\n",
              "      <th>WHRegion</th>\n",
              "    </tr>\n",
              "  </thead>\n",
              "  <tbody>\n",
              "    <tr>\n",
              "      <th>0</th>\n",
              "      <td>WH00001</td>\n",
              "      <td>杉並倉庫</td>\n",
              "      <td>35</td>\n",
              "      <td>関東</td>\n",
              "    </tr>\n",
              "    <tr>\n",
              "      <th>1</th>\n",
              "      <td>WH00002</td>\n",
              "      <td>品川倉庫</td>\n",
              "      <td>41</td>\n",
              "      <td>関東</td>\n",
              "    </tr>\n",
              "    <tr>\n",
              "      <th>2</th>\n",
              "      <td>WH00003</td>\n",
              "      <td>豊洲倉庫</td>\n",
              "      <td>42</td>\n",
              "      <td>関東</td>\n",
              "    </tr>\n",
              "    <tr>\n",
              "      <th>3</th>\n",
              "      <td>WH00004</td>\n",
              "      <td>郡山倉庫</td>\n",
              "      <td>60</td>\n",
              "      <td>東北</td>\n",
              "    </tr>\n",
              "    <tr>\n",
              "      <th>4</th>\n",
              "      <td>WH00005</td>\n",
              "      <td>仙台倉庫</td>\n",
              "      <td>72</td>\n",
              "      <td>東北</td>\n",
              "    </tr>\n",
              "    <tr>\n",
              "      <th>5</th>\n",
              "      <td>WH00006</td>\n",
              "      <td>山形倉庫</td>\n",
              "      <td>65</td>\n",
              "      <td>東北</td>\n",
              "    </tr>\n",
              "  </tbody>\n",
              "</table>\n",
              "</div>"
            ],
            "text/plain": [
              "      WHID WHName  WHSupply WHRegion\n",
              "0  WH00001   杉並倉庫        35       関東\n",
              "1  WH00002   品川倉庫        41       関東\n",
              "2  WH00003   豊洲倉庫        42       関東\n",
              "3  WH00004   郡山倉庫        60       東北\n",
              "4  WH00005   仙台倉庫        72       東北\n",
              "5  WH00006   山形倉庫        65       東北"
            ]
          },
          "metadata": {
            "tags": []
          },
          "execution_count": 8
        }
      ]
    },
    {
      "cell_type": "code",
      "metadata": {
        "id": "F2Lai5ALW99O",
        "outputId": "dc5c2cee-bf0f-4a27-f79f-4d76e99a9c7d",
        "colab": {
          "base_uri": "https://localhost:8080/",
          "height": 391
        }
      },
      "source": [
        "# 2019年の工場へ部品輸送実績\n",
        "df_tbl_transaction = pd.read_csv(PATH+'tbl_transaction.csv')\n",
        "df_tbl_transaction"
      ],
      "execution_count": 9,
      "outputs": [
        {
          "output_type": "execute_result",
          "data": {
            "text/html": [
              "<div>\n",
              "<style scoped>\n",
              "    .dataframe tbody tr th:only-of-type {\n",
              "        vertical-align: middle;\n",
              "    }\n",
              "\n",
              "    .dataframe tbody tr th {\n",
              "        vertical-align: top;\n",
              "    }\n",
              "\n",
              "    .dataframe thead th {\n",
              "        text-align: right;\n",
              "    }\n",
              "</style>\n",
              "<table border=\"1\" class=\"dataframe\">\n",
              "  <thead>\n",
              "    <tr style=\"text-align: right;\">\n",
              "      <th></th>\n",
              "      <th>TRID</th>\n",
              "      <th>TransactionDate</th>\n",
              "      <th>ToFC</th>\n",
              "      <th>FromWH</th>\n",
              "      <th>Quantity</th>\n",
              "    </tr>\n",
              "  </thead>\n",
              "  <tbody>\n",
              "    <tr>\n",
              "      <th>0</th>\n",
              "      <td>0</td>\n",
              "      <td>2019-01-01 02:11:10</td>\n",
              "      <td>FC00004</td>\n",
              "      <td>WH00003</td>\n",
              "      <td>33</td>\n",
              "    </tr>\n",
              "    <tr>\n",
              "      <th>1</th>\n",
              "      <td>1</td>\n",
              "      <td>2019-01-01 06:12:42</td>\n",
              "      <td>FC00007</td>\n",
              "      <td>WH00006</td>\n",
              "      <td>19</td>\n",
              "    </tr>\n",
              "    <tr>\n",
              "      <th>2</th>\n",
              "      <td>2</td>\n",
              "      <td>2019-01-01 06:32:32</td>\n",
              "      <td>FC00006</td>\n",
              "      <td>WH00004</td>\n",
              "      <td>31</td>\n",
              "    </tr>\n",
              "    <tr>\n",
              "      <th>3</th>\n",
              "      <td>3</td>\n",
              "      <td>2019-01-01 07:17:06</td>\n",
              "      <td>FC00002</td>\n",
              "      <td>WH00003</td>\n",
              "      <td>18</td>\n",
              "    </tr>\n",
              "    <tr>\n",
              "      <th>4</th>\n",
              "      <td>4</td>\n",
              "      <td>2019-01-01 07:52:18</td>\n",
              "      <td>FC00001</td>\n",
              "      <td>WH00002</td>\n",
              "      <td>30</td>\n",
              "    </tr>\n",
              "    <tr>\n",
              "      <th>...</th>\n",
              "      <td>...</td>\n",
              "      <td>...</td>\n",
              "      <td>...</td>\n",
              "      <td>...</td>\n",
              "      <td>...</td>\n",
              "    </tr>\n",
              "    <tr>\n",
              "      <th>3995</th>\n",
              "      <td>3995</td>\n",
              "      <td>2019-12-31 11:27:51</td>\n",
              "      <td>FC00007</td>\n",
              "      <td>WH00006</td>\n",
              "      <td>29</td>\n",
              "    </tr>\n",
              "    <tr>\n",
              "      <th>3996</th>\n",
              "      <td>3996</td>\n",
              "      <td>2019-12-31 17:10:21</td>\n",
              "      <td>FC00002</td>\n",
              "      <td>WH00003</td>\n",
              "      <td>35</td>\n",
              "    </tr>\n",
              "    <tr>\n",
              "      <th>3997</th>\n",
              "      <td>3997</td>\n",
              "      <td>2019-12-31 19:35:07</td>\n",
              "      <td>FC00003</td>\n",
              "      <td>WH00001</td>\n",
              "      <td>36</td>\n",
              "    </tr>\n",
              "    <tr>\n",
              "      <th>3998</th>\n",
              "      <td>3998</td>\n",
              "      <td>2019-12-31 21:45:07</td>\n",
              "      <td>FC00005</td>\n",
              "      <td>WH00005</td>\n",
              "      <td>34</td>\n",
              "    </tr>\n",
              "    <tr>\n",
              "      <th>3999</th>\n",
              "      <td>3999</td>\n",
              "      <td>2019-12-31 23:19:37</td>\n",
              "      <td>FC00005</td>\n",
              "      <td>WH00005</td>\n",
              "      <td>16</td>\n",
              "    </tr>\n",
              "  </tbody>\n",
              "</table>\n",
              "<p>4000 rows × 5 columns</p>\n",
              "</div>"
            ],
            "text/plain": [
              "      TRID      TransactionDate     ToFC   FromWH  Quantity\n",
              "0        0  2019-01-01 02:11:10  FC00004  WH00003        33\n",
              "1        1  2019-01-01 06:12:42  FC00007  WH00006        19\n",
              "2        2  2019-01-01 06:32:32  FC00006  WH00004        31\n",
              "3        3  2019-01-01 07:17:06  FC00002  WH00003        18\n",
              "4        4  2019-01-01 07:52:18  FC00001  WH00002        30\n",
              "...    ...                  ...      ...      ...       ...\n",
              "3995  3995  2019-12-31 11:27:51  FC00007  WH00006        29\n",
              "3996  3996  2019-12-31 17:10:21  FC00002  WH00003        35\n",
              "3997  3997  2019-12-31 19:35:07  FC00003  WH00001        36\n",
              "3998  3998  2019-12-31 21:45:07  FC00005  WH00005        34\n",
              "3999  3999  2019-12-31 23:19:37  FC00005  WH00005        16\n",
              "\n",
              "[4000 rows x 5 columns]"
            ]
          },
          "metadata": {
            "tags": []
          },
          "execution_count": 9
        }
      ]
    },
    {
      "cell_type": "code",
      "metadata": {
        "id": "v2mJ04XdhvzV",
        "outputId": "5b5916bd-f13f-4e32-ac1b-d1060e5a81e5",
        "colab": {
          "base_uri": "https://localhost:8080/",
          "height": 737
        }
      },
      "source": [
        "# 倉庫と工場間の輸送コスト\n",
        "df_rel_cost = pd.read_csv(PATH+'rel_cost.csv')\n",
        "df_rel_cost"
      ],
      "execution_count": 10,
      "outputs": [
        {
          "output_type": "execute_result",
          "data": {
            "text/html": [
              "<div>\n",
              "<style scoped>\n",
              "    .dataframe tbody tr th:only-of-type {\n",
              "        vertical-align: middle;\n",
              "    }\n",
              "\n",
              "    .dataframe tbody tr th {\n",
              "        vertical-align: top;\n",
              "    }\n",
              "\n",
              "    .dataframe thead th {\n",
              "        text-align: right;\n",
              "    }\n",
              "</style>\n",
              "<table border=\"1\" class=\"dataframe\">\n",
              "  <thead>\n",
              "    <tr style=\"text-align: right;\">\n",
              "      <th></th>\n",
              "      <th>RCostID</th>\n",
              "      <th>FCID</th>\n",
              "      <th>WHID</th>\n",
              "      <th>Cost</th>\n",
              "    </tr>\n",
              "  </thead>\n",
              "  <tbody>\n",
              "    <tr>\n",
              "      <th>0</th>\n",
              "      <td>1</td>\n",
              "      <td>FC00001</td>\n",
              "      <td>WH00001</td>\n",
              "      <td>0.4</td>\n",
              "    </tr>\n",
              "    <tr>\n",
              "      <th>1</th>\n",
              "      <td>2</td>\n",
              "      <td>FC00001</td>\n",
              "      <td>WH00002</td>\n",
              "      <td>0.8</td>\n",
              "    </tr>\n",
              "    <tr>\n",
              "      <th>2</th>\n",
              "      <td>3</td>\n",
              "      <td>FC00001</td>\n",
              "      <td>WH00003</td>\n",
              "      <td>1.5</td>\n",
              "    </tr>\n",
              "    <tr>\n",
              "      <th>3</th>\n",
              "      <td>4</td>\n",
              "      <td>FC00002</td>\n",
              "      <td>WH00001</td>\n",
              "      <td>0.9</td>\n",
              "    </tr>\n",
              "    <tr>\n",
              "      <th>4</th>\n",
              "      <td>5</td>\n",
              "      <td>FC00002</td>\n",
              "      <td>WH00002</td>\n",
              "      <td>0.8</td>\n",
              "    </tr>\n",
              "    <tr>\n",
              "      <th>5</th>\n",
              "      <td>6</td>\n",
              "      <td>FC00002</td>\n",
              "      <td>WH00003</td>\n",
              "      <td>1.6</td>\n",
              "    </tr>\n",
              "    <tr>\n",
              "      <th>6</th>\n",
              "      <td>7</td>\n",
              "      <td>FC00003</td>\n",
              "      <td>WH00001</td>\n",
              "      <td>1.2</td>\n",
              "    </tr>\n",
              "    <tr>\n",
              "      <th>7</th>\n",
              "      <td>8</td>\n",
              "      <td>FC00003</td>\n",
              "      <td>WH00002</td>\n",
              "      <td>1.3</td>\n",
              "    </tr>\n",
              "    <tr>\n",
              "      <th>8</th>\n",
              "      <td>9</td>\n",
              "      <td>FC00003</td>\n",
              "      <td>WH00003</td>\n",
              "      <td>1.5</td>\n",
              "    </tr>\n",
              "    <tr>\n",
              "      <th>9</th>\n",
              "      <td>10</td>\n",
              "      <td>FC00004</td>\n",
              "      <td>WH00001</td>\n",
              "      <td>0.8</td>\n",
              "    </tr>\n",
              "    <tr>\n",
              "      <th>10</th>\n",
              "      <td>11</td>\n",
              "      <td>FC00004</td>\n",
              "      <td>WH00002</td>\n",
              "      <td>1.0</td>\n",
              "    </tr>\n",
              "    <tr>\n",
              "      <th>11</th>\n",
              "      <td>12</td>\n",
              "      <td>FC00004</td>\n",
              "      <td>WH00003</td>\n",
              "      <td>1.1</td>\n",
              "    </tr>\n",
              "    <tr>\n",
              "      <th>12</th>\n",
              "      <td>13</td>\n",
              "      <td>FC00005</td>\n",
              "      <td>WH00004</td>\n",
              "      <td>0.8</td>\n",
              "    </tr>\n",
              "    <tr>\n",
              "      <th>13</th>\n",
              "      <td>14</td>\n",
              "      <td>FC00005</td>\n",
              "      <td>WH00005</td>\n",
              "      <td>0.3</td>\n",
              "    </tr>\n",
              "    <tr>\n",
              "      <th>14</th>\n",
              "      <td>15</td>\n",
              "      <td>FC00005</td>\n",
              "      <td>WH00006</td>\n",
              "      <td>1.4</td>\n",
              "    </tr>\n",
              "    <tr>\n",
              "      <th>15</th>\n",
              "      <td>16</td>\n",
              "      <td>FC00006</td>\n",
              "      <td>WH00004</td>\n",
              "      <td>0.9</td>\n",
              "    </tr>\n",
              "    <tr>\n",
              "      <th>16</th>\n",
              "      <td>17</td>\n",
              "      <td>FC00006</td>\n",
              "      <td>WH00005</td>\n",
              "      <td>1.1</td>\n",
              "    </tr>\n",
              "    <tr>\n",
              "      <th>17</th>\n",
              "      <td>18</td>\n",
              "      <td>FC00006</td>\n",
              "      <td>WH00006</td>\n",
              "      <td>0.7</td>\n",
              "    </tr>\n",
              "    <tr>\n",
              "      <th>18</th>\n",
              "      <td>19</td>\n",
              "      <td>FC00007</td>\n",
              "      <td>WH00004</td>\n",
              "      <td>0.9</td>\n",
              "    </tr>\n",
              "    <tr>\n",
              "      <th>19</th>\n",
              "      <td>20</td>\n",
              "      <td>FC00007</td>\n",
              "      <td>WH00005</td>\n",
              "      <td>1.2</td>\n",
              "    </tr>\n",
              "    <tr>\n",
              "      <th>20</th>\n",
              "      <td>21</td>\n",
              "      <td>FC00007</td>\n",
              "      <td>WH00006</td>\n",
              "      <td>1.3</td>\n",
              "    </tr>\n",
              "    <tr>\n",
              "      <th>21</th>\n",
              "      <td>22</td>\n",
              "      <td>FC00008</td>\n",
              "      <td>WH00004</td>\n",
              "      <td>1.5</td>\n",
              "    </tr>\n",
              "    <tr>\n",
              "      <th>22</th>\n",
              "      <td>23</td>\n",
              "      <td>FC00008</td>\n",
              "      <td>WH00005</td>\n",
              "      <td>1.2</td>\n",
              "    </tr>\n",
              "    <tr>\n",
              "      <th>23</th>\n",
              "      <td>24</td>\n",
              "      <td>FC00008</td>\n",
              "      <td>WH00006</td>\n",
              "      <td>1.3</td>\n",
              "    </tr>\n",
              "  </tbody>\n",
              "</table>\n",
              "</div>"
            ],
            "text/plain": [
              "    RCostID     FCID     WHID  Cost\n",
              "0         1  FC00001  WH00001   0.4\n",
              "1         2  FC00001  WH00002   0.8\n",
              "2         3  FC00001  WH00003   1.5\n",
              "3         4  FC00002  WH00001   0.9\n",
              "4         5  FC00002  WH00002   0.8\n",
              "5         6  FC00002  WH00003   1.6\n",
              "6         7  FC00003  WH00001   1.2\n",
              "7         8  FC00003  WH00002   1.3\n",
              "8         9  FC00003  WH00003   1.5\n",
              "9        10  FC00004  WH00001   0.8\n",
              "10       11  FC00004  WH00002   1.0\n",
              "11       12  FC00004  WH00003   1.1\n",
              "12       13  FC00005  WH00004   0.8\n",
              "13       14  FC00005  WH00005   0.3\n",
              "14       15  FC00005  WH00006   1.4\n",
              "15       16  FC00006  WH00004   0.9\n",
              "16       17  FC00006  WH00005   1.1\n",
              "17       18  FC00006  WH00006   0.7\n",
              "18       19  FC00007  WH00004   0.9\n",
              "19       20  FC00007  WH00005   1.2\n",
              "20       21  FC00007  WH00006   1.3\n",
              "21       22  FC00008  WH00004   1.5\n",
              "22       23  FC00008  WH00005   1.2\n",
              "23       24  FC00008  WH00006   1.3"
            ]
          },
          "metadata": {
            "tags": []
          },
          "execution_count": 10
        }
      ]
    },
    {
      "cell_type": "code",
      "metadata": {
        "id": "_mCD8qwphPov",
        "outputId": "5641c1d6-2321-46cb-b663-194e9234e27d",
        "colab": {
          "base_uri": "https://localhost:8080/",
          "height": 76
        }
      },
      "source": [
        "df_demand = pd.read_csv(PATH+'demand.csv')\n",
        "df_demand"
      ],
      "execution_count": 11,
      "outputs": [
        {
          "output_type": "execute_result",
          "data": {
            "text/html": [
              "<div>\n",
              "<style scoped>\n",
              "    .dataframe tbody tr th:only-of-type {\n",
              "        vertical-align: middle;\n",
              "    }\n",
              "\n",
              "    .dataframe tbody tr th {\n",
              "        vertical-align: top;\n",
              "    }\n",
              "\n",
              "    .dataframe thead th {\n",
              "        text-align: right;\n",
              "    }\n",
              "</style>\n",
              "<table border=\"1\" class=\"dataframe\">\n",
              "  <thead>\n",
              "    <tr style=\"text-align: right;\">\n",
              "      <th></th>\n",
              "      <th>F1</th>\n",
              "      <th>F2</th>\n",
              "      <th>F3</th>\n",
              "      <th>F4</th>\n",
              "    </tr>\n",
              "  </thead>\n",
              "  <tbody>\n",
              "    <tr>\n",
              "      <th>0</th>\n",
              "      <td>28</td>\n",
              "      <td>29</td>\n",
              "      <td>31</td>\n",
              "      <td>25</td>\n",
              "    </tr>\n",
              "  </tbody>\n",
              "</table>\n",
              "</div>"
            ],
            "text/plain": [
              "   F1  F2  F3  F4\n",
              "0  28  29  31  25"
            ]
          },
          "metadata": {
            "tags": []
          },
          "execution_count": 11
        }
      ]
    },
    {
      "cell_type": "code",
      "metadata": {
        "id": "IESbhYz4hWpG",
        "outputId": "569ce51c-aea7-46db-85a7-19fa6b128ea9",
        "colab": {
          "base_uri": "https://localhost:8080/",
          "height": 105
        }
      },
      "source": [
        "# グラフの座標\n",
        "df_network_pos = pd.read_csv(PATH+'network_pos.csv')\n",
        "df_network_pos"
      ],
      "execution_count": 12,
      "outputs": [
        {
          "output_type": "execute_result",
          "data": {
            "text/html": [
              "<div>\n",
              "<style scoped>\n",
              "    .dataframe tbody tr th:only-of-type {\n",
              "        vertical-align: middle;\n",
              "    }\n",
              "\n",
              "    .dataframe tbody tr th {\n",
              "        vertical-align: top;\n",
              "    }\n",
              "\n",
              "    .dataframe thead th {\n",
              "        text-align: right;\n",
              "    }\n",
              "</style>\n",
              "<table border=\"1\" class=\"dataframe\">\n",
              "  <thead>\n",
              "    <tr style=\"text-align: right;\">\n",
              "      <th></th>\n",
              "      <th>A</th>\n",
              "      <th>B</th>\n",
              "      <th>C</th>\n",
              "      <th>D</th>\n",
              "      <th>E</th>\n",
              "    </tr>\n",
              "  </thead>\n",
              "  <tbody>\n",
              "    <tr>\n",
              "      <th>0</th>\n",
              "      <td>0</td>\n",
              "      <td>0</td>\n",
              "      <td>2</td>\n",
              "      <td>2</td>\n",
              "      <td>1</td>\n",
              "    </tr>\n",
              "    <tr>\n",
              "      <th>1</th>\n",
              "      <td>0</td>\n",
              "      <td>2</td>\n",
              "      <td>0</td>\n",
              "      <td>2</td>\n",
              "      <td>1</td>\n",
              "    </tr>\n",
              "  </tbody>\n",
              "</table>\n",
              "</div>"
            ],
            "text/plain": [
              "   A  B  C  D  E\n",
              "0  0  0  2  2  1\n",
              "1  0  2  0  2  1"
            ]
          },
          "metadata": {
            "tags": []
          },
          "execution_count": 12
        }
      ]
    },
    {
      "cell_type": "code",
      "metadata": {
        "id": "NmrCQY9WhmGz",
        "outputId": "dc25ec05-b721-45dc-b864-0160a59977b7",
        "colab": {
          "base_uri": "https://localhost:8080/",
          "height": 191
        }
      },
      "source": [
        "# グラフの重み\n",
        "df_network_weight = pd.read_csv(PATH+'network_weight.csv')\n",
        "df_network_weight"
      ],
      "execution_count": 13,
      "outputs": [
        {
          "output_type": "execute_result",
          "data": {
            "text/html": [
              "<div>\n",
              "<style scoped>\n",
              "    .dataframe tbody tr th:only-of-type {\n",
              "        vertical-align: middle;\n",
              "    }\n",
              "\n",
              "    .dataframe tbody tr th {\n",
              "        vertical-align: top;\n",
              "    }\n",
              "\n",
              "    .dataframe thead th {\n",
              "        text-align: right;\n",
              "    }\n",
              "</style>\n",
              "<table border=\"1\" class=\"dataframe\">\n",
              "  <thead>\n",
              "    <tr style=\"text-align: right;\">\n",
              "      <th></th>\n",
              "      <th>A</th>\n",
              "      <th>B</th>\n",
              "      <th>C</th>\n",
              "      <th>D</th>\n",
              "      <th>E</th>\n",
              "    </tr>\n",
              "  </thead>\n",
              "  <tbody>\n",
              "    <tr>\n",
              "      <th>0</th>\n",
              "      <td>0.639921</td>\n",
              "      <td>0.143353</td>\n",
              "      <td>0.944669</td>\n",
              "      <td>0.521848</td>\n",
              "      <td>0.000000</td>\n",
              "    </tr>\n",
              "    <tr>\n",
              "      <th>1</th>\n",
              "      <td>0.264556</td>\n",
              "      <td>0.000000</td>\n",
              "      <td>0.456150</td>\n",
              "      <td>0.568434</td>\n",
              "      <td>0.000000</td>\n",
              "    </tr>\n",
              "    <tr>\n",
              "      <th>2</th>\n",
              "      <td>0.617635</td>\n",
              "      <td>0.612096</td>\n",
              "      <td>0.616934</td>\n",
              "      <td>0.943748</td>\n",
              "      <td>0.000000</td>\n",
              "    </tr>\n",
              "    <tr>\n",
              "      <th>3</th>\n",
              "      <td>0.000000</td>\n",
              "      <td>0.000000</td>\n",
              "      <td>0.697631</td>\n",
              "      <td>0.060225</td>\n",
              "      <td>0.666767</td>\n",
              "    </tr>\n",
              "    <tr>\n",
              "      <th>4</th>\n",
              "      <td>0.670638</td>\n",
              "      <td>0.210383</td>\n",
              "      <td>0.000000</td>\n",
              "      <td>0.315428</td>\n",
              "      <td>0.000000</td>\n",
              "    </tr>\n",
              "  </tbody>\n",
              "</table>\n",
              "</div>"
            ],
            "text/plain": [
              "          A         B         C         D         E\n",
              "0  0.639921  0.143353  0.944669  0.521848  0.000000\n",
              "1  0.264556  0.000000  0.456150  0.568434  0.000000\n",
              "2  0.617635  0.612096  0.616934  0.943748  0.000000\n",
              "3  0.000000  0.000000  0.697631  0.060225  0.666767\n",
              "4  0.670638  0.210383  0.000000  0.315428  0.000000"
            ]
          },
          "metadata": {
            "tags": []
          },
          "execution_count": 13
        }
      ]
    },
    {
      "cell_type": "code",
      "metadata": {
        "id": "tPZDn5eGh4Nl",
        "outputId": "876199ce-7dca-4969-b0da-bbeb8ccec1d2",
        "colab": {
          "base_uri": "https://localhost:8080/",
          "height": 76
        }
      },
      "source": [
        "df_supply= pd.read_csv(PATH+'supply.csv')\n",
        "df_supply"
      ],
      "execution_count": 14,
      "outputs": [
        {
          "output_type": "execute_result",
          "data": {
            "text/html": [
              "<div>\n",
              "<style scoped>\n",
              "    .dataframe tbody tr th:only-of-type {\n",
              "        vertical-align: middle;\n",
              "    }\n",
              "\n",
              "    .dataframe tbody tr th {\n",
              "        vertical-align: top;\n",
              "    }\n",
              "\n",
              "    .dataframe thead th {\n",
              "        text-align: right;\n",
              "    }\n",
              "</style>\n",
              "<table border=\"1\" class=\"dataframe\">\n",
              "  <thead>\n",
              "    <tr style=\"text-align: right;\">\n",
              "      <th></th>\n",
              "      <th>W1</th>\n",
              "      <th>W2</th>\n",
              "      <th>W3</th>\n",
              "    </tr>\n",
              "  </thead>\n",
              "  <tbody>\n",
              "    <tr>\n",
              "      <th>0</th>\n",
              "      <td>35</td>\n",
              "      <td>41</td>\n",
              "      <td>42</td>\n",
              "    </tr>\n",
              "  </tbody>\n",
              "</table>\n",
              "</div>"
            ],
            "text/plain": [
              "   W1  W2  W3\n",
              "0  35  41  42"
            ]
          },
          "metadata": {
            "tags": []
          },
          "execution_count": 14
        }
      ]
    },
    {
      "cell_type": "code",
      "metadata": {
        "id": "qENz6i00Xq6-",
        "outputId": "75aae5e7-316c-4e9a-d28b-60aca3d8cdc8",
        "colab": {
          "base_uri": "https://localhost:8080/",
          "height": 133
        }
      },
      "source": [
        "df_trans_cost = pd.read_csv(PATH+'trans_cost.csv')\n",
        "df_trans_cost"
      ],
      "execution_count": 15,
      "outputs": [
        {
          "output_type": "execute_result",
          "data": {
            "text/html": [
              "<div>\n",
              "<style scoped>\n",
              "    .dataframe tbody tr th:only-of-type {\n",
              "        vertical-align: middle;\n",
              "    }\n",
              "\n",
              "    .dataframe tbody tr th {\n",
              "        vertical-align: top;\n",
              "    }\n",
              "\n",
              "    .dataframe thead th {\n",
              "        text-align: right;\n",
              "    }\n",
              "</style>\n",
              "<table border=\"1\" class=\"dataframe\">\n",
              "  <thead>\n",
              "    <tr style=\"text-align: right;\">\n",
              "      <th></th>\n",
              "      <th>工場</th>\n",
              "      <th>F1</th>\n",
              "      <th>F2</th>\n",
              "      <th>F3</th>\n",
              "      <th>F4</th>\n",
              "    </tr>\n",
              "  </thead>\n",
              "  <tbody>\n",
              "    <tr>\n",
              "      <th>0</th>\n",
              "      <td>W1</td>\n",
              "      <td>10</td>\n",
              "      <td>10</td>\n",
              "      <td>11</td>\n",
              "      <td>27</td>\n",
              "    </tr>\n",
              "    <tr>\n",
              "      <th>1</th>\n",
              "      <td>W2</td>\n",
              "      <td>18</td>\n",
              "      <td>21</td>\n",
              "      <td>12</td>\n",
              "      <td>14</td>\n",
              "    </tr>\n",
              "    <tr>\n",
              "      <th>2</th>\n",
              "      <td>W3</td>\n",
              "      <td>15</td>\n",
              "      <td>12</td>\n",
              "      <td>14</td>\n",
              "      <td>12</td>\n",
              "    </tr>\n",
              "  </tbody>\n",
              "</table>\n",
              "</div>"
            ],
            "text/plain": [
              "   工場  F1  F2  F3  F4\n",
              "0  W1  10  10  11  27\n",
              "1  W2  18  21  12  14\n",
              "2  W3  15  12  14  12"
            ]
          },
          "metadata": {
            "tags": []
          },
          "execution_count": 15
        }
      ]
    },
    {
      "cell_type": "code",
      "metadata": {
        "id": "DwS2koQsXwcW",
        "outputId": "3adab49d-fc06-456d-b33d-a0c84841ea82",
        "colab": {
          "base_uri": "https://localhost:8080/",
          "height": 133
        }
      },
      "source": [
        "df_trans_route = pd.read_csv(PATH+'trans_route.csv')\n",
        "df_trans_route"
      ],
      "execution_count": 16,
      "outputs": [
        {
          "output_type": "execute_result",
          "data": {
            "text/html": [
              "<div>\n",
              "<style scoped>\n",
              "    .dataframe tbody tr th:only-of-type {\n",
              "        vertical-align: middle;\n",
              "    }\n",
              "\n",
              "    .dataframe tbody tr th {\n",
              "        vertical-align: top;\n",
              "    }\n",
              "\n",
              "    .dataframe thead th {\n",
              "        text-align: right;\n",
              "    }\n",
              "</style>\n",
              "<table border=\"1\" class=\"dataframe\">\n",
              "  <thead>\n",
              "    <tr style=\"text-align: right;\">\n",
              "      <th></th>\n",
              "      <th>工場</th>\n",
              "      <th>F1</th>\n",
              "      <th>F2</th>\n",
              "      <th>F3</th>\n",
              "      <th>F4</th>\n",
              "    </tr>\n",
              "  </thead>\n",
              "  <tbody>\n",
              "    <tr>\n",
              "      <th>0</th>\n",
              "      <td>W1</td>\n",
              "      <td>15</td>\n",
              "      <td>15</td>\n",
              "      <td>0</td>\n",
              "      <td>5</td>\n",
              "    </tr>\n",
              "    <tr>\n",
              "      <th>1</th>\n",
              "      <td>W2</td>\n",
              "      <td>5</td>\n",
              "      <td>0</td>\n",
              "      <td>30</td>\n",
              "      <td>5</td>\n",
              "    </tr>\n",
              "    <tr>\n",
              "      <th>2</th>\n",
              "      <td>W3</td>\n",
              "      <td>10</td>\n",
              "      <td>15</td>\n",
              "      <td>2</td>\n",
              "      <td>15</td>\n",
              "    </tr>\n",
              "  </tbody>\n",
              "</table>\n",
              "</div>"
            ],
            "text/plain": [
              "   工場  F1  F2  F3  F4\n",
              "0  W1  15  15   0   5\n",
              "1  W2   5   0  30   5\n",
              "2  W3  10  15   2  15"
            ]
          },
          "metadata": {
            "tags": []
          },
          "execution_count": 16
        }
      ]
    },
    {
      "cell_type": "code",
      "metadata": {
        "id": "YtETFbs_YEGU",
        "outputId": "e71907ad-8de7-401b-9f19-3ec71ffa3a56",
        "colab": {
          "base_uri": "https://localhost:8080/",
          "height": 133
        }
      },
      "source": [
        "df_trans_route_new = pd.read_csv(PATH+'trans_route_new.csv')\n",
        "df_trans_route_new"
      ],
      "execution_count": 17,
      "outputs": [
        {
          "output_type": "execute_result",
          "data": {
            "text/html": [
              "<div>\n",
              "<style scoped>\n",
              "    .dataframe tbody tr th:only-of-type {\n",
              "        vertical-align: middle;\n",
              "    }\n",
              "\n",
              "    .dataframe tbody tr th {\n",
              "        vertical-align: top;\n",
              "    }\n",
              "\n",
              "    .dataframe thead th {\n",
              "        text-align: right;\n",
              "    }\n",
              "</style>\n",
              "<table border=\"1\" class=\"dataframe\">\n",
              "  <thead>\n",
              "    <tr style=\"text-align: right;\">\n",
              "      <th></th>\n",
              "      <th>工場</th>\n",
              "      <th>F1</th>\n",
              "      <th>F2</th>\n",
              "      <th>F3</th>\n",
              "      <th>F4</th>\n",
              "    </tr>\n",
              "  </thead>\n",
              "  <tbody>\n",
              "    <tr>\n",
              "      <th>0</th>\n",
              "      <td>W1</td>\n",
              "      <td>15</td>\n",
              "      <td>15</td>\n",
              "      <td>0</td>\n",
              "      <td>0</td>\n",
              "    </tr>\n",
              "    <tr>\n",
              "      <th>1</th>\n",
              "      <td>W2</td>\n",
              "      <td>5</td>\n",
              "      <td>0</td>\n",
              "      <td>30</td>\n",
              "      <td>10</td>\n",
              "    </tr>\n",
              "    <tr>\n",
              "      <th>2</th>\n",
              "      <td>W3</td>\n",
              "      <td>10</td>\n",
              "      <td>15</td>\n",
              "      <td>2</td>\n",
              "      <td>15</td>\n",
              "    </tr>\n",
              "  </tbody>\n",
              "</table>\n",
              "</div>"
            ],
            "text/plain": [
              "   工場  F1  F2  F3  F4\n",
              "0  W1  15  15   0   0\n",
              "1  W2   5   0  30  10\n",
              "2  W3  10  15   2  15"
            ]
          },
          "metadata": {
            "tags": []
          },
          "execution_count": 17
        }
      ]
    },
    {
      "cell_type": "code",
      "metadata": {
        "id": "kBFw-R8dYYFl",
        "outputId": "6a56f60e-655e-49f5-b29a-7e7eea8e0664",
        "colab": {
          "base_uri": "https://localhost:8080/",
          "height": 105
        }
      },
      "source": [
        "df_trans_route_pos = pd.read_csv(PATH+'trans_route_pos.csv')\n",
        "df_trans_route_pos"
      ],
      "execution_count": 18,
      "outputs": [
        {
          "output_type": "execute_result",
          "data": {
            "text/html": [
              "<div>\n",
              "<style scoped>\n",
              "    .dataframe tbody tr th:only-of-type {\n",
              "        vertical-align: middle;\n",
              "    }\n",
              "\n",
              "    .dataframe tbody tr th {\n",
              "        vertical-align: top;\n",
              "    }\n",
              "\n",
              "    .dataframe thead th {\n",
              "        text-align: right;\n",
              "    }\n",
              "</style>\n",
              "<table border=\"1\" class=\"dataframe\">\n",
              "  <thead>\n",
              "    <tr style=\"text-align: right;\">\n",
              "      <th></th>\n",
              "      <th>W1</th>\n",
              "      <th>W2</th>\n",
              "      <th>W3</th>\n",
              "      <th>F1</th>\n",
              "      <th>F2</th>\n",
              "      <th>F3</th>\n",
              "      <th>F4</th>\n",
              "    </tr>\n",
              "  </thead>\n",
              "  <tbody>\n",
              "    <tr>\n",
              "      <th>0</th>\n",
              "      <td>0</td>\n",
              "      <td>0</td>\n",
              "      <td>0</td>\n",
              "      <td>4.0</td>\n",
              "      <td>4.0</td>\n",
              "      <td>4.0</td>\n",
              "      <td>4.0</td>\n",
              "    </tr>\n",
              "    <tr>\n",
              "      <th>1</th>\n",
              "      <td>1</td>\n",
              "      <td>2</td>\n",
              "      <td>3</td>\n",
              "      <td>0.5</td>\n",
              "      <td>1.5</td>\n",
              "      <td>2.5</td>\n",
              "      <td>3.5</td>\n",
              "    </tr>\n",
              "  </tbody>\n",
              "</table>\n",
              "</div>"
            ],
            "text/plain": [
              "   W1  W2  W3   F1   F2   F3   F4\n",
              "0   0   0   0  4.0  4.0  4.0  4.0\n",
              "1   1   2   3  0.5  1.5  2.5  3.5"
            ]
          },
          "metadata": {
            "tags": []
          },
          "execution_count": 18
        }
      ]
    },
    {
      "cell_type": "code",
      "metadata": {
        "id": "8cT6dPXEhMSh"
      },
      "source": [
        "# 輸送実績, 輸送コスト, 工場データ, 倉庫データ の４つをマージ\n",
        "df_joint = pd.merge(df_tbl_transaction, df_rel_cost, left_on=['ToFC', 'FromWH'], right_on=['FCID', 'WHID'], how='left')\n",
        "df_joint = pd.merge(df_joint, df_tbl_factory, on='FCID', how='left')\n",
        "df_joint = pd.merge(df_joint, df_tbl_warehouse, on='WHID', how='left')"
      ],
      "execution_count": 19,
      "outputs": []
    },
    {
      "cell_type": "code",
      "metadata": {
        "id": "iGQNMLoDjZMK",
        "outputId": "445aefe3-91b5-4051-87c1-21504b8da11e",
        "colab": {
          "base_uri": "https://localhost:8080/",
          "height": 191
        }
      },
      "source": [
        "df_joint = df_joint[['TRID', 'TransactionDate', 'Cost', 'Quantity', 'ToFC', 'FCName',  'FCRegion', 'FCDemand', 'WHID', 'WHName', 'WHRegion', 'WHSupply']]\n",
        "df_joint.head()"
      ],
      "execution_count": 20,
      "outputs": [
        {
          "output_type": "execute_result",
          "data": {
            "text/html": [
              "<div>\n",
              "<style scoped>\n",
              "    .dataframe tbody tr th:only-of-type {\n",
              "        vertical-align: middle;\n",
              "    }\n",
              "\n",
              "    .dataframe tbody tr th {\n",
              "        vertical-align: top;\n",
              "    }\n",
              "\n",
              "    .dataframe thead th {\n",
              "        text-align: right;\n",
              "    }\n",
              "</style>\n",
              "<table border=\"1\" class=\"dataframe\">\n",
              "  <thead>\n",
              "    <tr style=\"text-align: right;\">\n",
              "      <th></th>\n",
              "      <th>TRID</th>\n",
              "      <th>TransactionDate</th>\n",
              "      <th>Cost</th>\n",
              "      <th>Quantity</th>\n",
              "      <th>ToFC</th>\n",
              "      <th>FCName</th>\n",
              "      <th>FCRegion</th>\n",
              "      <th>FCDemand</th>\n",
              "      <th>WHID</th>\n",
              "      <th>WHName</th>\n",
              "      <th>WHRegion</th>\n",
              "      <th>WHSupply</th>\n",
              "    </tr>\n",
              "  </thead>\n",
              "  <tbody>\n",
              "    <tr>\n",
              "      <th>0</th>\n",
              "      <td>0</td>\n",
              "      <td>2019-01-01 02:11:10</td>\n",
              "      <td>1.1</td>\n",
              "      <td>33</td>\n",
              "      <td>FC00004</td>\n",
              "      <td>横須賀工場</td>\n",
              "      <td>関東</td>\n",
              "      <td>25</td>\n",
              "      <td>WH00003</td>\n",
              "      <td>豊洲倉庫</td>\n",
              "      <td>関東</td>\n",
              "      <td>42</td>\n",
              "    </tr>\n",
              "    <tr>\n",
              "      <th>1</th>\n",
              "      <td>1</td>\n",
              "      <td>2019-01-01 06:12:42</td>\n",
              "      <td>1.3</td>\n",
              "      <td>19</td>\n",
              "      <td>FC00007</td>\n",
              "      <td>那須工場</td>\n",
              "      <td>東北</td>\n",
              "      <td>25</td>\n",
              "      <td>WH00006</td>\n",
              "      <td>山形倉庫</td>\n",
              "      <td>東北</td>\n",
              "      <td>65</td>\n",
              "    </tr>\n",
              "    <tr>\n",
              "      <th>2</th>\n",
              "      <td>2</td>\n",
              "      <td>2019-01-01 06:32:32</td>\n",
              "      <td>0.9</td>\n",
              "      <td>31</td>\n",
              "      <td>FC00006</td>\n",
              "      <td>山形工場</td>\n",
              "      <td>東北</td>\n",
              "      <td>30</td>\n",
              "      <td>WH00004</td>\n",
              "      <td>郡山倉庫</td>\n",
              "      <td>東北</td>\n",
              "      <td>60</td>\n",
              "    </tr>\n",
              "    <tr>\n",
              "      <th>3</th>\n",
              "      <td>3</td>\n",
              "      <td>2019-01-01 07:17:06</td>\n",
              "      <td>1.6</td>\n",
              "      <td>18</td>\n",
              "      <td>FC00002</td>\n",
              "      <td>木更津工場</td>\n",
              "      <td>関東</td>\n",
              "      <td>29</td>\n",
              "      <td>WH00003</td>\n",
              "      <td>豊洲倉庫</td>\n",
              "      <td>関東</td>\n",
              "      <td>42</td>\n",
              "    </tr>\n",
              "    <tr>\n",
              "      <th>4</th>\n",
              "      <td>4</td>\n",
              "      <td>2019-01-01 07:52:18</td>\n",
              "      <td>0.8</td>\n",
              "      <td>30</td>\n",
              "      <td>FC00001</td>\n",
              "      <td>東京工場</td>\n",
              "      <td>関東</td>\n",
              "      <td>28</td>\n",
              "      <td>WH00002</td>\n",
              "      <td>品川倉庫</td>\n",
              "      <td>関東</td>\n",
              "      <td>41</td>\n",
              "    </tr>\n",
              "  </tbody>\n",
              "</table>\n",
              "</div>"
            ],
            "text/plain": [
              "   TRID      TransactionDate  Cost  Quantity  ...     WHID WHName WHRegion  WHSupply\n",
              "0     0  2019-01-01 02:11:10   1.1        33  ...  WH00003   豊洲倉庫       関東        42\n",
              "1     1  2019-01-01 06:12:42   1.3        19  ...  WH00006   山形倉庫       東北        65\n",
              "2     2  2019-01-01 06:32:32   0.9        31  ...  WH00004   郡山倉庫       東北        60\n",
              "3     3  2019-01-01 07:17:06   1.6        18  ...  WH00003   豊洲倉庫       関東        42\n",
              "4     4  2019-01-01 07:52:18   0.8        30  ...  WH00002   品川倉庫       関東        41\n",
              "\n",
              "[5 rows x 12 columns]"
            ]
          },
          "metadata": {
            "tags": []
          },
          "execution_count": 20
        }
      ]
    },
    {
      "cell_type": "code",
      "metadata": {
        "id": "ET3QW74owaBK",
        "outputId": "e2af7ccb-345d-4091-bb99-bad251313200",
        "colab": {
          "base_uri": "https://localhost:8080/",
          "height": 50
        }
      },
      "source": [
        "# 計測期間を確認\n",
        "print(df_joint['TransactionDate'].min())\n",
        "print(df_joint['TransactionDate'].max())"
      ],
      "execution_count": 21,
      "outputs": [
        {
          "output_type": "stream",
          "text": [
            "2019-01-01 02:11:10\n",
            "2019-12-31 23:19:37\n"
          ],
          "name": "stdout"
        }
      ]
    },
    {
      "cell_type": "code",
      "metadata": {
        "id": "wgAei2K9uuaX",
        "outputId": "7744d802-875a-4bcb-fa8c-25f304c07044",
        "colab": {
          "base_uri": "https://localhost:8080/",
          "height": 277
        }
      },
      "source": [
        "# 数値データの確認\n",
        "df_joint.describe()"
      ],
      "execution_count": 22,
      "outputs": [
        {
          "output_type": "execute_result",
          "data": {
            "text/html": [
              "<div>\n",
              "<style scoped>\n",
              "    .dataframe tbody tr th:only-of-type {\n",
              "        vertical-align: middle;\n",
              "    }\n",
              "\n",
              "    .dataframe tbody tr th {\n",
              "        vertical-align: top;\n",
              "    }\n",
              "\n",
              "    .dataframe thead th {\n",
              "        text-align: right;\n",
              "    }\n",
              "</style>\n",
              "<table border=\"1\" class=\"dataframe\">\n",
              "  <thead>\n",
              "    <tr style=\"text-align: right;\">\n",
              "      <th></th>\n",
              "      <th>TRID</th>\n",
              "      <th>Cost</th>\n",
              "      <th>Quantity</th>\n",
              "      <th>FCDemand</th>\n",
              "      <th>WHSupply</th>\n",
              "    </tr>\n",
              "  </thead>\n",
              "  <tbody>\n",
              "    <tr>\n",
              "      <th>count</th>\n",
              "      <td>4000.000000</td>\n",
              "      <td>4000.000000</td>\n",
              "      <td>4000.000000</td>\n",
              "      <td>4000.000000</td>\n",
              "      <td>4000.000000</td>\n",
              "    </tr>\n",
              "    <tr>\n",
              "      <th>mean</th>\n",
              "      <td>1999.500000</td>\n",
              "      <td>1.062825</td>\n",
              "      <td>24.840000</td>\n",
              "      <td>25.740500</td>\n",
              "      <td>52.521250</td>\n",
              "    </tr>\n",
              "    <tr>\n",
              "      <th>std</th>\n",
              "      <td>1154.844867</td>\n",
              "      <td>0.342615</td>\n",
              "      <td>8.717218</td>\n",
              "      <td>4.581311</td>\n",
              "      <td>13.810856</td>\n",
              "    </tr>\n",
              "    <tr>\n",
              "      <th>min</th>\n",
              "      <td>0.000000</td>\n",
              "      <td>0.300000</td>\n",
              "      <td>10.000000</td>\n",
              "      <td>16.000000</td>\n",
              "      <td>35.000000</td>\n",
              "    </tr>\n",
              "    <tr>\n",
              "      <th>25%</th>\n",
              "      <td>999.750000</td>\n",
              "      <td>0.800000</td>\n",
              "      <td>17.000000</td>\n",
              "      <td>25.000000</td>\n",
              "      <td>41.000000</td>\n",
              "    </tr>\n",
              "    <tr>\n",
              "      <th>50%</th>\n",
              "      <td>1999.500000</td>\n",
              "      <td>1.100000</td>\n",
              "      <td>25.000000</td>\n",
              "      <td>28.000000</td>\n",
              "      <td>51.000000</td>\n",
              "    </tr>\n",
              "    <tr>\n",
              "      <th>75%</th>\n",
              "      <td>2999.250000</td>\n",
              "      <td>1.300000</td>\n",
              "      <td>32.000000</td>\n",
              "      <td>30.000000</td>\n",
              "      <td>65.000000</td>\n",
              "    </tr>\n",
              "    <tr>\n",
              "      <th>max</th>\n",
              "      <td>3999.000000</td>\n",
              "      <td>1.600000</td>\n",
              "      <td>48.000000</td>\n",
              "      <td>31.000000</td>\n",
              "      <td>72.000000</td>\n",
              "    </tr>\n",
              "  </tbody>\n",
              "</table>\n",
              "</div>"
            ],
            "text/plain": [
              "              TRID         Cost     Quantity     FCDemand     WHSupply\n",
              "count  4000.000000  4000.000000  4000.000000  4000.000000  4000.000000\n",
              "mean   1999.500000     1.062825    24.840000    25.740500    52.521250\n",
              "std    1154.844867     0.342615     8.717218     4.581311    13.810856\n",
              "min       0.000000     0.300000    10.000000    16.000000    35.000000\n",
              "25%     999.750000     0.800000    17.000000    25.000000    41.000000\n",
              "50%    1999.500000     1.100000    25.000000    28.000000    51.000000\n",
              "75%    2999.250000     1.300000    32.000000    30.000000    65.000000\n",
              "max    3999.000000     1.600000    48.000000    31.000000    72.000000"
            ]
          },
          "metadata": {
            "tags": []
          },
          "execution_count": 22
        }
      ]
    },
    {
      "cell_type": "code",
      "metadata": {
        "id": "-LvPp_jPz7eH",
        "outputId": "fe656cc0-b29a-4c29-dea1-4b1e9ebaff84",
        "colab": {
          "base_uri": "https://localhost:8080/",
          "height": 293
        }
      },
      "source": [
        "# コストの度数分布\n",
        "sns.countplot(df_joint['Cost'])"
      ],
      "execution_count": 23,
      "outputs": [
        {
          "output_type": "execute_result",
          "data": {
            "text/plain": [
              "<matplotlib.axes._subplots.AxesSubplot at 0x7f6905f709b0>"
            ]
          },
          "metadata": {
            "tags": []
          },
          "execution_count": 23
        },
        {
          "output_type": "display_data",
          "data": {
            "image/png": "[encoded data removed]",
            "text/plain": [
              "<Figure size 432x288 with 1 Axes>"
            ]
          },
          "metadata": {
            "tags": [],
            "needs_background": "light"
          }
        }
      ]
    },
    {
      "cell_type": "code",
      "metadata": {
        "id": "asXlPHpB1OiD",
        "outputId": "9d7e565f-e2e6-4ef8-d912-1796834bf27f",
        "colab": {
          "base_uri": "https://localhost:8080/",
          "height": 293
        }
      },
      "source": [
        "#数量の度数分布\n",
        "sns.countplot(df_joint['Quantity'])"
      ],
      "execution_count": 24,
      "outputs": [
        {
          "output_type": "execute_result",
          "data": {
            "text/plain": [
              "<matplotlib.axes._subplots.AxesSubplot at 0x7f6905e8a710>"
            ]
          },
          "metadata": {
            "tags": []
          },
          "execution_count": 24
        },
        {
          "output_type": "display_data",
          "data": {
            "image/png": "[encoded data removed]",
            "text/plain": [
              "<Figure size 432x288 with 1 Axes>"
            ]
          },
          "metadata": {
            "tags": [],
            "needs_background": "light"
          }
        }
      ]
    },
    {
      "cell_type": "code",
      "metadata": {
        "id": "X0qBopQD1TVu",
        "outputId": "d8b31633-64da-491f-d04e-6f78f7ea6cc3",
        "colab": {
          "base_uri": "https://localhost:8080/",
          "height": 293
        }
      },
      "source": [
        "#工場需要量の度数分布\n",
        "sns.countplot(df_joint['FCDemand'])"
      ],
      "execution_count": 25,
      "outputs": [
        {
          "output_type": "execute_result",
          "data": {
            "text/plain": [
              "<matplotlib.axes._subplots.AxesSubplot at 0x7f6905f6a198>"
            ]
          },
          "metadata": {
            "tags": []
          },
          "execution_count": 25
        },
        {
          "output_type": "display_data",
          "data": {
            "image/png": "[encoded data removed]",
            "text/plain": [
              "<Figure size 432x288 with 1 Axes>"
            ]
          },
          "metadata": {
            "tags": [],
            "needs_background": "light"
          }
        }
      ]
    },
    {
      "cell_type": "code",
      "metadata": {
        "id": "99q_6Nn-1X4J",
        "outputId": "0f28efdb-ce56-40c0-8390-f1216355f49c",
        "colab": {
          "base_uri": "https://localhost:8080/",
          "height": 293
        }
      },
      "source": [
        "#倉庫供給量の度数分布\n",
        "sns.countplot(df_joint['WHSupply'])"
      ],
      "execution_count": 26,
      "outputs": [
        {
          "output_type": "execute_result",
          "data": {
            "text/plain": [
              "<matplotlib.axes._subplots.AxesSubplot at 0x7f69058ce748>"
            ]
          },
          "metadata": {
            "tags": []
          },
          "execution_count": 26
        },
        {
          "output_type": "display_data",
          "data": {
            "image/png": "[encoded data removed]",
            "text/plain": [
              "<Figure size 432x288 with 1 Axes>"
            ]
          },
          "metadata": {
            "tags": [],
            "needs_background": "light"
          }
        }
      ]
    },
    {
      "cell_type": "code",
      "metadata": {
        "id": "TBuoKcCRw5eS",
        "outputId": "92a3c23d-e8b8-4747-9ddb-99ffdb76956f",
        "colab": {
          "base_uri": "https://localhost:8080/",
          "height": 180
        }
      },
      "source": [
        "# 工場ごとのデータ数\n",
        "df_joint.groupby('FCName')['TRID'].count()"
      ],
      "execution_count": 27,
      "outputs": [
        {
          "output_type": "execute_result",
          "data": {
            "text/plain": [
              "FCName\n",
              "仙台工場     570\n",
              "多摩工場     497\n",
              "山形工場     509\n",
              "木更津工場    498\n",
              "東京工場     498\n",
              "横須賀工場    507\n",
              "那須工場     502\n",
              "青森工場     419\n",
              "Name: TRID, dtype: int64"
            ]
          },
          "metadata": {
            "tags": []
          },
          "execution_count": 27
        }
      ]
    },
    {
      "cell_type": "code",
      "metadata": {
        "id": "46w5DDSRybK1",
        "outputId": "5dfc4d2b-8b58-478d-c1d9-7888edb61f3b",
        "colab": {
          "base_uri": "https://localhost:8080/",
          "height": 147
        }
      },
      "source": [
        "# 倉庫ごとのデータ数\n",
        "df_joint.groupby('WHName')['TRID'].count()"
      ],
      "execution_count": 28,
      "outputs": [
        {
          "output_type": "execute_result",
          "data": {
            "text/plain": [
              "WHName\n",
              "仙台倉庫    669\n",
              "品川倉庫    605\n",
              "山形倉庫    676\n",
              "杉並倉庫    674\n",
              "豊洲倉庫    721\n",
              "郡山倉庫    655\n",
              "Name: TRID, dtype: int64"
            ]
          },
          "metadata": {
            "tags": []
          },
          "execution_count": 28
        }
      ]
    },
    {
      "cell_type": "code",
      "metadata": {
        "id": "UG4h0fRgyifN",
        "outputId": "9c94f613-16f6-4d2b-9f4f-0d184deea1e2",
        "colab": {
          "base_uri": "https://localhost:8080/",
          "height": 82
        }
      },
      "source": [
        "# 地域ごとの工場データ数\n",
        "df_joint.groupby('FCRegion')['TRID'].count()"
      ],
      "execution_count": 29,
      "outputs": [
        {
          "output_type": "execute_result",
          "data": {
            "text/plain": [
              "FCRegion\n",
              "東北    2000\n",
              "関東    2000\n",
              "Name: TRID, dtype: int64"
            ]
          },
          "metadata": {
            "tags": []
          },
          "execution_count": 29
        }
      ]
    },
    {
      "cell_type": "code",
      "metadata": {
        "id": "aUSTXsNUynCx",
        "outputId": "f99b9dc8-4e3f-4401-cf7d-06d500b772b5",
        "colab": {
          "base_uri": "https://localhost:8080/",
          "height": 82
        }
      },
      "source": [
        "# 地域ごとの倉庫データ数\n",
        "df_joint.groupby('WHRegion')['TRID'].count()"
      ],
      "execution_count": 30,
      "outputs": [
        {
          "output_type": "execute_result",
          "data": {
            "text/plain": [
              "WHRegion\n",
              "東北    2000\n",
              "関東    2000\n",
              "Name: TRID, dtype: int64"
            ]
          },
          "metadata": {
            "tags": []
          },
          "execution_count": 30
        }
      ]
    },
    {
      "cell_type": "code",
      "metadata": {
        "id": "xambXkU_hRyl",
        "outputId": "c78e0cec-ceb1-4cac-bc06-c5806cc2a50b",
        "colab": {
          "base_uri": "https://localhost:8080/",
          "height": 33
        }
      },
      "source": [
        "# 倉庫と工場の地域は全て一致しているよう\n",
        "len(df_joint[df_joint['FCRegion']!=df_joint['WHRegion']])"
      ],
      "execution_count": 31,
      "outputs": [
        {
          "output_type": "execute_result",
          "data": {
            "text/plain": [
              "0"
            ]
          },
          "metadata": {
            "tags": []
          },
          "execution_count": 31
        }
      ]
    },
    {
      "cell_type": "markdown",
      "metadata": {
        "id": "gDKB9uxtpD3l"
      },
      "source": [
        "> ## ノック52:現状の輸送量、コストを確認してみよう"
      ]
    },
    {
      "cell_type": "code",
      "metadata": {
        "id": "mU_CSlvt49AF",
        "outputId": "2c31e7b8-414f-48d8-9695-2893cc8a99c5",
        "colab": {
          "base_uri": "https://localhost:8080/",
          "height": 82
        }
      },
      "source": [
        "# 各地域のトータル輸送量\n",
        "df_joint.groupby('WHRegion')['Quantity'].sum()"
      ],
      "execution_count": 32,
      "outputs": [
        {
          "output_type": "execute_result",
          "data": {
            "text/plain": [
              "WHRegion\n",
              "東北    50214\n",
              "関東    49146\n",
              "Name: Quantity, dtype: int64"
            ]
          },
          "metadata": {
            "tags": []
          },
          "execution_count": 32
        }
      ]
    },
    {
      "cell_type": "code",
      "metadata": {
        "id": "Pnm61d_3YJtH",
        "outputId": "38e38bc1-1f4a-47ef-f179-9cea0efab867",
        "colab": {
          "base_uri": "https://localhost:8080/",
          "height": 82
        }
      },
      "source": [
        "# 各地域のトータルコスト(万円)\n",
        "df_joint.groupby('WHRegion')['Cost'].sum()"
      ],
      "execution_count": 33,
      "outputs": [
        {
          "output_type": "execute_result",
          "data": {
            "text/plain": [
              "WHRegion\n",
              "東北    2062.0\n",
              "関東    2189.3\n",
              "Name: Cost, dtype: float64"
            ]
          },
          "metadata": {
            "tags": []
          },
          "execution_count": 33
        }
      ]
    },
    {
      "cell_type": "code",
      "metadata": {
        "id": "ce3DX8nlaAVd",
        "outputId": "2f85470b-18d6-4207-e50e-492c00ba25c9",
        "colab": {
          "base_uri": "https://localhost:8080/",
          "height": 82
        }
      },
      "source": [
        "# 各地域の１輸送あたりのコスト(万円)\n",
        "df_joint.groupby('WHRegion')['Cost'].mean()"
      ],
      "execution_count": 34,
      "outputs": [
        {
          "output_type": "execute_result",
          "data": {
            "text/plain": [
              "WHRegion\n",
              "東北    1.03100\n",
              "関東    1.09465\n",
              "Name: Cost, dtype: float64"
            ]
          },
          "metadata": {
            "tags": []
          },
          "execution_count": 34
        }
      ]
    },
    {
      "cell_type": "code",
      "metadata": {
        "id": "bEG-nwJ1YjDB",
        "outputId": "185f889c-4ed1-4ea6-bd0d-6c68109ada66",
        "colab": {
          "base_uri": "https://localhost:8080/",
          "height": 82
        }
      },
      "source": [
        "# 各地域の輸送量あたりのコスト(円)\n",
        "df_joint.groupby('WHRegion')['Cost'].sum()/df_joint.groupby('WHRegion')['Quantity'].sum()*10000"
      ],
      "execution_count": 35,
      "outputs": [
        {
          "output_type": "execute_result",
          "data": {
            "text/plain": [
              "WHRegion\n",
              "東北    410.642450\n",
              "関東    445.468604\n",
              "dtype: float64"
            ]
          },
          "metadata": {
            "tags": []
          },
          "execution_count": 35
        }
      ]
    },
    {
      "cell_type": "markdown",
      "metadata": {
        "id": "TLDoZewxaNLp"
      },
      "source": [
        "- 輸送量あたりのコストは関東の方が大きい\n",
        "- 平均コスト(１回輸送あたりのコスト)はほとんど変わらない"
      ]
    },
    {
      "cell_type": "markdown",
      "metadata": {
        "id": "F6tS0QFTpEGe"
      },
      "source": [
        "> ## ノック53:ネットワークを可視化してみよう"
      ]
    },
    {
      "cell_type": "markdown",
      "metadata": {
        "id": "9LMjwDD_h6He"
      },
      "source": [
        "NetworkX でのネットワークの可視化は慣れてないので、基本教科書通りに進めます。\n",
        "https://networkx.github.io/documentation/stable/tutorial.html"
      ]
    },
    {
      "cell_type": "code",
      "metadata": {
        "id": "m6Mq2Vf1hyBA"
      },
      "source": [
        "import networkx as nx"
      ],
      "execution_count": 36,
      "outputs": []
    },
    {
      "cell_type": "code",
      "metadata": {
        "id": "GVo7aAERiF9L",
        "outputId": "910ce061-e31e-4550-f8e4-c7c4c808537f",
        "colab": {
          "base_uri": "https://localhost:8080/",
          "height": 318
        }
      },
      "source": [
        "G = nx.Graph()\n",
        "\n",
        "# 頂点の設定\n",
        "G.add_node('nodeA')\n",
        "G.add_node('nodeB')\n",
        "G.add_node('nodeC')\n",
        "\n",
        "# 辺の設定\n",
        "G.add_edge('nodeA', 'nodeB')\n",
        "G.add_edge('nodeA', 'nodeC')\n",
        "G.add_edge('nodeC', 'nodeB')\n",
        "\n",
        "# 座標の設定\n",
        "pos = {}\n",
        "pos['nodeA'] = (0,0)\n",
        "pos['nodeB'] = (1,1)\n",
        "pos['nodeC'] = (0,1)\n",
        "\n",
        "# 描画\n",
        "nx.draw(G, pos)\n",
        "\n",
        "plt.show()"
      ],
      "execution_count": 37,
      "outputs": [
        {
          "output_type": "display_data",
          "data": {
            "image/png": "[encoded data removed]",
            "text/plain": [
              "<Figure size 432x288 with 1 Axes>"
            ]
          },
          "metadata": {
            "tags": []
          }
        }
      ]
    },
    {
      "cell_type": "markdown",
      "metadata": {
        "id": "ej80D7iQpEN9"
      },
      "source": [
        "> ## ノック54:ネットワークにノード(頂点)を追加してみよう"
      ]
    },
    {
      "cell_type": "code",
      "metadata": {
        "id": "w5Kvv-44jhf5",
        "outputId": "d9310290-c6ef-4d32-c9d3-c746380089ae",
        "colab": {
          "base_uri": "https://localhost:8080/",
          "height": 318
        }
      },
      "source": [
        "G.add_node('nodeD')\n",
        "G.add_edge('nodeD', 'nodeA')\n",
        "pos['nodeD'] = (1, 0)\n",
        "nx.draw(G, pos, with_labels=True)\n",
        "plt.show()"
      ],
      "execution_count": 38,
      "outputs": [
        {
          "output_type": "display_data",
          "data": {
            "image/png": "[encoded data removed]",
            "text/plain": [
              "<Figure size 432x288 with 1 Axes>"
            ]
          },
          "metadata": {
            "tags": []
          }
        }
      ]
    },
    {
      "cell_type": "markdown",
      "metadata": {
        "id": "eCd57F8tpERE"
      },
      "source": [
        "> ## ノック55:ルートの重みづけを実施しよう"
      ]
    },
    {
      "cell_type": "code",
      "metadata": {
        "id": "cw_c9a_2zsMc",
        "outputId": "b6d8faae-c0a0-4b76-c44c-250d68dab841",
        "colab": {
          "base_uri": "https://localhost:8080/",
          "height": 105
        }
      },
      "source": [
        "df_network_pos"
      ],
      "execution_count": 39,
      "outputs": [
        {
          "output_type": "execute_result",
          "data": {
            "text/html": [
              "<div>\n",
              "<style scoped>\n",
              "    .dataframe tbody tr th:only-of-type {\n",
              "        vertical-align: middle;\n",
              "    }\n",
              "\n",
              "    .dataframe tbody tr th {\n",
              "        vertical-align: top;\n",
              "    }\n",
              "\n",
              "    .dataframe thead th {\n",
              "        text-align: right;\n",
              "    }\n",
              "</style>\n",
              "<table border=\"1\" class=\"dataframe\">\n",
              "  <thead>\n",
              "    <tr style=\"text-align: right;\">\n",
              "      <th></th>\n",
              "      <th>A</th>\n",
              "      <th>B</th>\n",
              "      <th>C</th>\n",
              "      <th>D</th>\n",
              "      <th>E</th>\n",
              "    </tr>\n",
              "  </thead>\n",
              "  <tbody>\n",
              "    <tr>\n",
              "      <th>0</th>\n",
              "      <td>0</td>\n",
              "      <td>0</td>\n",
              "      <td>2</td>\n",
              "      <td>2</td>\n",
              "      <td>1</td>\n",
              "    </tr>\n",
              "    <tr>\n",
              "      <th>1</th>\n",
              "      <td>0</td>\n",
              "      <td>2</td>\n",
              "      <td>0</td>\n",
              "      <td>2</td>\n",
              "      <td>1</td>\n",
              "    </tr>\n",
              "  </tbody>\n",
              "</table>\n",
              "</div>"
            ],
            "text/plain": [
              "   A  B  C  D  E\n",
              "0  0  0  2  2  1\n",
              "1  0  2  0  2  1"
            ]
          },
          "metadata": {
            "tags": []
          },
          "execution_count": 39
        }
      ]
    },
    {
      "cell_type": "code",
      "metadata": {
        "id": "US6AzoeQzuMA",
        "outputId": "1d039cd6-8731-4202-8044-ed66dd65118a",
        "colab": {
          "base_uri": "https://localhost:8080/",
          "height": 191
        }
      },
      "source": [
        "df_network_weight"
      ],
      "execution_count": 40,
      "outputs": [
        {
          "output_type": "execute_result",
          "data": {
            "text/html": [
              "<div>\n",
              "<style scoped>\n",
              "    .dataframe tbody tr th:only-of-type {\n",
              "        vertical-align: middle;\n",
              "    }\n",
              "\n",
              "    .dataframe tbody tr th {\n",
              "        vertical-align: top;\n",
              "    }\n",
              "\n",
              "    .dataframe thead th {\n",
              "        text-align: right;\n",
              "    }\n",
              "</style>\n",
              "<table border=\"1\" class=\"dataframe\">\n",
              "  <thead>\n",
              "    <tr style=\"text-align: right;\">\n",
              "      <th></th>\n",
              "      <th>A</th>\n",
              "      <th>B</th>\n",
              "      <th>C</th>\n",
              "      <th>D</th>\n",
              "      <th>E</th>\n",
              "    </tr>\n",
              "  </thead>\n",
              "  <tbody>\n",
              "    <tr>\n",
              "      <th>0</th>\n",
              "      <td>0.639921</td>\n",
              "      <td>0.143353</td>\n",
              "      <td>0.944669</td>\n",
              "      <td>0.521848</td>\n",
              "      <td>0.000000</td>\n",
              "    </tr>\n",
              "    <tr>\n",
              "      <th>1</th>\n",
              "      <td>0.264556</td>\n",
              "      <td>0.000000</td>\n",
              "      <td>0.456150</td>\n",
              "      <td>0.568434</td>\n",
              "      <td>0.000000</td>\n",
              "    </tr>\n",
              "    <tr>\n",
              "      <th>2</th>\n",
              "      <td>0.617635</td>\n",
              "      <td>0.612096</td>\n",
              "      <td>0.616934</td>\n",
              "      <td>0.943748</td>\n",
              "      <td>0.000000</td>\n",
              "    </tr>\n",
              "    <tr>\n",
              "      <th>3</th>\n",
              "      <td>0.000000</td>\n",
              "      <td>0.000000</td>\n",
              "      <td>0.697631</td>\n",
              "      <td>0.060225</td>\n",
              "      <td>0.666767</td>\n",
              "    </tr>\n",
              "    <tr>\n",
              "      <th>4</th>\n",
              "      <td>0.670638</td>\n",
              "      <td>0.210383</td>\n",
              "      <td>0.000000</td>\n",
              "      <td>0.315428</td>\n",
              "      <td>0.000000</td>\n",
              "    </tr>\n",
              "  </tbody>\n",
              "</table>\n",
              "</div>"
            ],
            "text/plain": [
              "          A         B         C         D         E\n",
              "0  0.639921  0.143353  0.944669  0.521848  0.000000\n",
              "1  0.264556  0.000000  0.456150  0.568434  0.000000\n",
              "2  0.617635  0.612096  0.616934  0.943748  0.000000\n",
              "3  0.000000  0.000000  0.697631  0.060225  0.666767\n",
              "4  0.670638  0.210383  0.000000  0.315428  0.000000"
            ]
          },
          "metadata": {
            "tags": []
          },
          "execution_count": 40
        }
      ]
    },
    {
      "cell_type": "code",
      "metadata": {
        "id": "Amu1TGjGlySn",
        "outputId": "9a1b63bd-a797-4868-b9a1-c8fb8184ba16",
        "colab": {
          "base_uri": "https://localhost:8080/",
          "height": 318
        }
      },
      "source": [
        "# 読み込んだデータからグラフを作成する\n",
        "import itertools\n",
        "\n",
        "# 重みをリスト化する\n",
        "nodes = df_network_weight.columns\n",
        "size = 10\n",
        "list_edge_weights = []\n",
        "for i in range(len(df_network_weight)):\n",
        "  for j in range(len(nodes)):\n",
        "    list_edge_weights.append(df_network_weight.iloc[i][j]*size)\n",
        "\n",
        "# グラフオブジェクトを作成する\n",
        "G = nx.Graph()\n",
        "\n",
        "# 頂点の追加と座標の設定\n",
        "pos = {}\n",
        "for node in nodes:\n",
        "    G.add_node(node)\n",
        "    pos[node] = (df_network_pos[node][0], df_network_pos[node][1])\n",
        "\n",
        "# 辺の設定\n",
        "for node1, node2 in itertools.combinations(nodes, 2):\n",
        "  G.add_edge(node1, node2)\n",
        "\n",
        "# 描画\n",
        "fig = plt.figure(figsize=(5, 4))\n",
        "nx.draw(G, pos, with_labels=True, font_size=16, node_size=1000, node_color='b', font_color='w', width=list_edge_weights)\n",
        "plt.show()"
      ],
      "execution_count": 41,
      "outputs": [
        {
          "output_type": "display_data",
          "data": {
            "image/png": "[encoded data removed]",
            "text/plain": [
              "<Figure size 360x288 with 1 Axes>"
            ]
          },
          "metadata": {
            "tags": []
          }
        }
      ]
    },
    {
      "cell_type": "markdown",
      "metadata": {
        "id": "C-zlFixlpKSZ"
      },
      "source": [
        "> ## ノック56:輸送ルート情報を読み込んでみよう"
      ]
    },
    {
      "cell_type": "code",
      "metadata": {
        "id": "Q8iCaQtUuWQ3"
      },
      "source": [
        "df_trans_route.set_index('工場', drop=True, inplace=True)"
      ],
      "execution_count": 42,
      "outputs": []
    },
    {
      "cell_type": "code",
      "metadata": {
        "id": "dT_VUTpDz3F_",
        "outputId": "88a280e1-bfaf-4017-dde9-74dfd96ad135",
        "colab": {
          "base_uri": "https://localhost:8080/",
          "height": 162
        }
      },
      "source": [
        "# 工場と倉庫間の重み\n",
        "df_trans_route"
      ],
      "execution_count": 43,
      "outputs": [
        {
          "output_type": "execute_result",
          "data": {
            "text/html": [
              "<div>\n",
              "<style scoped>\n",
              "    .dataframe tbody tr th:only-of-type {\n",
              "        vertical-align: middle;\n",
              "    }\n",
              "\n",
              "    .dataframe tbody tr th {\n",
              "        vertical-align: top;\n",
              "    }\n",
              "\n",
              "    .dataframe thead th {\n",
              "        text-align: right;\n",
              "    }\n",
              "</style>\n",
              "<table border=\"1\" class=\"dataframe\">\n",
              "  <thead>\n",
              "    <tr style=\"text-align: right;\">\n",
              "      <th></th>\n",
              "      <th>F1</th>\n",
              "      <th>F2</th>\n",
              "      <th>F3</th>\n",
              "      <th>F4</th>\n",
              "    </tr>\n",
              "    <tr>\n",
              "      <th>工場</th>\n",
              "      <th></th>\n",
              "      <th></th>\n",
              "      <th></th>\n",
              "      <th></th>\n",
              "    </tr>\n",
              "  </thead>\n",
              "  <tbody>\n",
              "    <tr>\n",
              "      <th>W1</th>\n",
              "      <td>15</td>\n",
              "      <td>15</td>\n",
              "      <td>0</td>\n",
              "      <td>5</td>\n",
              "    </tr>\n",
              "    <tr>\n",
              "      <th>W2</th>\n",
              "      <td>5</td>\n",
              "      <td>0</td>\n",
              "      <td>30</td>\n",
              "      <td>5</td>\n",
              "    </tr>\n",
              "    <tr>\n",
              "      <th>W3</th>\n",
              "      <td>10</td>\n",
              "      <td>15</td>\n",
              "      <td>2</td>\n",
              "      <td>15</td>\n",
              "    </tr>\n",
              "  </tbody>\n",
              "</table>\n",
              "</div>"
            ],
            "text/plain": [
              "    F1  F2  F3  F4\n",
              "工場                \n",
              "W1  15  15   0   5\n",
              "W2   5   0  30   5\n",
              "W3  10  15   2  15"
            ]
          },
          "metadata": {
            "tags": []
          },
          "execution_count": 43
        }
      ]
    },
    {
      "cell_type": "code",
      "metadata": {
        "id": "Jc5IwslT0His",
        "outputId": "f7b88fca-c077-4528-f1d6-31b1fef7fda7",
        "colab": {
          "base_uri": "https://localhost:8080/",
          "height": 105
        }
      },
      "source": [
        "# 工場と倉庫の座標\n",
        "df_trans_route_pos"
      ],
      "execution_count": 44,
      "outputs": [
        {
          "output_type": "execute_result",
          "data": {
            "text/html": [
              "<div>\n",
              "<style scoped>\n",
              "    .dataframe tbody tr th:only-of-type {\n",
              "        vertical-align: middle;\n",
              "    }\n",
              "\n",
              "    .dataframe tbody tr th {\n",
              "        vertical-align: top;\n",
              "    }\n",
              "\n",
              "    .dataframe thead th {\n",
              "        text-align: right;\n",
              "    }\n",
              "</style>\n",
              "<table border=\"1\" class=\"dataframe\">\n",
              "  <thead>\n",
              "    <tr style=\"text-align: right;\">\n",
              "      <th></th>\n",
              "      <th>W1</th>\n",
              "      <th>W2</th>\n",
              "      <th>W3</th>\n",
              "      <th>F1</th>\n",
              "      <th>F2</th>\n",
              "      <th>F3</th>\n",
              "      <th>F4</th>\n",
              "    </tr>\n",
              "  </thead>\n",
              "  <tbody>\n",
              "    <tr>\n",
              "      <th>0</th>\n",
              "      <td>0</td>\n",
              "      <td>0</td>\n",
              "      <td>0</td>\n",
              "      <td>4.0</td>\n",
              "      <td>4.0</td>\n",
              "      <td>4.0</td>\n",
              "      <td>4.0</td>\n",
              "    </tr>\n",
              "    <tr>\n",
              "      <th>1</th>\n",
              "      <td>1</td>\n",
              "      <td>2</td>\n",
              "      <td>3</td>\n",
              "      <td>0.5</td>\n",
              "      <td>1.5</td>\n",
              "      <td>2.5</td>\n",
              "      <td>3.5</td>\n",
              "    </tr>\n",
              "  </tbody>\n",
              "</table>\n",
              "</div>"
            ],
            "text/plain": [
              "   W1  W2  W3   F1   F2   F3   F4\n",
              "0   0   0   0  4.0  4.0  4.0  4.0\n",
              "1   1   2   3  0.5  1.5  2.5  3.5"
            ]
          },
          "metadata": {
            "tags": []
          },
          "execution_count": 44
        }
      ]
    },
    {
      "cell_type": "markdown",
      "metadata": {
        "id": "gNLqh0x7pKa3"
      },
      "source": [
        "> ## ノック57:輸送ルート情報からネットワークを可視化してみよう"
      ]
    },
    {
      "cell_type": "code",
      "metadata": {
        "id": "N-Mhe5pB0VNc",
        "outputId": "6b6367d8-44eb-492a-ad1b-8e6bcd8452b1",
        "colab": {
          "base_uri": "https://localhost:8080/",
          "height": 318
        }
      },
      "source": [
        "# 可視化してみる\n",
        "\n",
        "nodes = df_trans_route_pos.columns\n",
        "G = nx.Graph()\n",
        "pos = {}\n",
        "\n",
        "# 頂点と座標の設定\n",
        "for node in nodes:\n",
        "  G.add_node(node)\n",
        "  pos[node] = (df_trans_route_pos[node][0], df_trans_route_pos[node][1])\n",
        "\n",
        "# 辺と重みの設定\n",
        "weights_list = []\n",
        "for node_w in df_trans_route.index:\n",
        "  for node_f in df_trans_route.columns:\n",
        "    G.add_edge(node_w, node_f)\n",
        "    weights_list.append(df_trans_route.loc[node_w][node_f]*0.1)\n",
        "\n",
        "# 描写\n",
        "nx.draw(G, pos, with_labels=True, font_size=16, node_size=1000, node_color='b', font_color='w', width=weights_list)\n",
        "plt.show()\n",
        "    \n"
      ],
      "execution_count": 45,
      "outputs": [
        {
          "output_type": "display_data",
          "data": {
            "image/png": "[encoded data removed]",
            "text/plain": [
              "<Figure size 432x288 with 1 Axes>"
            ]
          },
          "metadata": {
            "tags": []
          }
        }
      ]
    },
    {
      "cell_type": "markdown",
      "metadata": {
        "id": "r45a4MAXpKe-"
      },
      "source": [
        "> ## ノック58:輸送コスト関数を作成しよう\n"
      ]
    },
    {
      "cell_type": "code",
      "metadata": {
        "id": "GTfnvJ5m5RjY",
        "outputId": "b6087e55-0044-451e-8fff-1123b447e8b7",
        "colab": {
          "base_uri": "https://localhost:8080/",
          "height": 162
        }
      },
      "source": [
        "df_trans_route"
      ],
      "execution_count": 46,
      "outputs": [
        {
          "output_type": "execute_result",
          "data": {
            "text/html": [
              "<div>\n",
              "<style scoped>\n",
              "    .dataframe tbody tr th:only-of-type {\n",
              "        vertical-align: middle;\n",
              "    }\n",
              "\n",
              "    .dataframe tbody tr th {\n",
              "        vertical-align: top;\n",
              "    }\n",
              "\n",
              "    .dataframe thead th {\n",
              "        text-align: right;\n",
              "    }\n",
              "</style>\n",
              "<table border=\"1\" class=\"dataframe\">\n",
              "  <thead>\n",
              "    <tr style=\"text-align: right;\">\n",
              "      <th></th>\n",
              "      <th>F1</th>\n",
              "      <th>F2</th>\n",
              "      <th>F3</th>\n",
              "      <th>F4</th>\n",
              "    </tr>\n",
              "    <tr>\n",
              "      <th>工場</th>\n",
              "      <th></th>\n",
              "      <th></th>\n",
              "      <th></th>\n",
              "      <th></th>\n",
              "    </tr>\n",
              "  </thead>\n",
              "  <tbody>\n",
              "    <tr>\n",
              "      <th>W1</th>\n",
              "      <td>15</td>\n",
              "      <td>15</td>\n",
              "      <td>0</td>\n",
              "      <td>5</td>\n",
              "    </tr>\n",
              "    <tr>\n",
              "      <th>W2</th>\n",
              "      <td>5</td>\n",
              "      <td>0</td>\n",
              "      <td>30</td>\n",
              "      <td>5</td>\n",
              "    </tr>\n",
              "    <tr>\n",
              "      <th>W3</th>\n",
              "      <td>10</td>\n",
              "      <td>15</td>\n",
              "      <td>2</td>\n",
              "      <td>15</td>\n",
              "    </tr>\n",
              "  </tbody>\n",
              "</table>\n",
              "</div>"
            ],
            "text/plain": [
              "    F1  F2  F3  F4\n",
              "工場                \n",
              "W1  15  15   0   5\n",
              "W2   5   0  30   5\n",
              "W3  10  15   2  15"
            ]
          },
          "metadata": {
            "tags": []
          },
          "execution_count": 46
        }
      ]
    },
    {
      "cell_type": "code",
      "metadata": {
        "id": "mtJ-w1wf5gDd",
        "outputId": "68831d25-0ad1-416d-e257-cb2410d59f32",
        "colab": {
          "base_uri": "https://localhost:8080/",
          "height": 162
        }
      },
      "source": [
        "df_trans_cost.set_index('工場', drop=True, inplace=True)\n",
        "df_trans_cost"
      ],
      "execution_count": 47,
      "outputs": [
        {
          "output_type": "execute_result",
          "data": {
            "text/html": [
              "<div>\n",
              "<style scoped>\n",
              "    .dataframe tbody tr th:only-of-type {\n",
              "        vertical-align: middle;\n",
              "    }\n",
              "\n",
              "    .dataframe tbody tr th {\n",
              "        vertical-align: top;\n",
              "    }\n",
              "\n",
              "    .dataframe thead th {\n",
              "        text-align: right;\n",
              "    }\n",
              "</style>\n",
              "<table border=\"1\" class=\"dataframe\">\n",
              "  <thead>\n",
              "    <tr style=\"text-align: right;\">\n",
              "      <th></th>\n",
              "      <th>F1</th>\n",
              "      <th>F2</th>\n",
              "      <th>F3</th>\n",
              "      <th>F4</th>\n",
              "    </tr>\n",
              "    <tr>\n",
              "      <th>工場</th>\n",
              "      <th></th>\n",
              "      <th></th>\n",
              "      <th></th>\n",
              "      <th></th>\n",
              "    </tr>\n",
              "  </thead>\n",
              "  <tbody>\n",
              "    <tr>\n",
              "      <th>W1</th>\n",
              "      <td>10</td>\n",
              "      <td>10</td>\n",
              "      <td>11</td>\n",
              "      <td>27</td>\n",
              "    </tr>\n",
              "    <tr>\n",
              "      <th>W2</th>\n",
              "      <td>18</td>\n",
              "      <td>21</td>\n",
              "      <td>12</td>\n",
              "      <td>14</td>\n",
              "    </tr>\n",
              "    <tr>\n",
              "      <th>W3</th>\n",
              "      <td>15</td>\n",
              "      <td>12</td>\n",
              "      <td>14</td>\n",
              "      <td>12</td>\n",
              "    </tr>\n",
              "  </tbody>\n",
              "</table>\n",
              "</div>"
            ],
            "text/plain": [
              "    F1  F2  F3  F4\n",
              "工場                \n",
              "W1  10  10  11  27\n",
              "W2  18  21  12  14\n",
              "W3  15  12  14  12"
            ]
          },
          "metadata": {
            "tags": []
          },
          "execution_count": 47
        }
      ]
    },
    {
      "cell_type": "code",
      "metadata": {
        "id": "GqgsdqrG5mtL",
        "outputId": "6e371764-7330-449f-bb44-1c648edfe0ad",
        "colab": {
          "base_uri": "https://localhost:8080/",
          "height": 33
        }
      },
      "source": [
        "# 総輸送コストの計算\n",
        "# コストx 重み\n",
        "\n",
        "def calc_trans_cost(df_route, df_cost):\n",
        "  total_cost = 0\n",
        "  for node1 in df_route.index:\n",
        "    for node2 in df_route.columns:\n",
        "      total_cost += df_cost.loc[node1][node2]*df_route.loc[node1][node2]\n",
        "  return total_cost\n",
        "\n",
        "\n",
        "print('総輸送コスト: ', calc_trans_cost(df_trans_route, df_trans_cost))"
      ],
      "execution_count": 48,
      "outputs": [
        {
          "output_type": "stream",
          "text": [
            "総輸送コスト:  1493\n"
          ],
          "name": "stdout"
        }
      ]
    },
    {
      "cell_type": "markdown",
      "metadata": {
        "id": "NHTL8NwGpKhy"
      },
      "source": [
        "> ## ノック59:制約条件を作ってみよう\n"
      ]
    },
    {
      "cell_type": "markdown",
      "metadata": {
        "id": "YllA3FykATN6"
      },
      "source": [
        "ここも教科書通りに進めました。"
      ]
    },
    {
      "cell_type": "code",
      "metadata": {
        "id": "ayTTnGqx7Mh3",
        "outputId": "c96e6295-cb65-429a-9ad9-5fd05cc984a6",
        "colab": {
          "base_uri": "https://localhost:8080/",
          "height": 76
        }
      },
      "source": [
        "# 需要側の制約条件\n",
        "df_demand"
      ],
      "execution_count": 49,
      "outputs": [
        {
          "output_type": "execute_result",
          "data": {
            "text/html": [
              "<div>\n",
              "<style scoped>\n",
              "    .dataframe tbody tr th:only-of-type {\n",
              "        vertical-align: middle;\n",
              "    }\n",
              "\n",
              "    .dataframe tbody tr th {\n",
              "        vertical-align: top;\n",
              "    }\n",
              "\n",
              "    .dataframe thead th {\n",
              "        text-align: right;\n",
              "    }\n",
              "</style>\n",
              "<table border=\"1\" class=\"dataframe\">\n",
              "  <thead>\n",
              "    <tr style=\"text-align: right;\">\n",
              "      <th></th>\n",
              "      <th>F1</th>\n",
              "      <th>F2</th>\n",
              "      <th>F3</th>\n",
              "      <th>F4</th>\n",
              "    </tr>\n",
              "  </thead>\n",
              "  <tbody>\n",
              "    <tr>\n",
              "      <th>0</th>\n",
              "      <td>28</td>\n",
              "      <td>29</td>\n",
              "      <td>31</td>\n",
              "      <td>25</td>\n",
              "    </tr>\n",
              "  </tbody>\n",
              "</table>\n",
              "</div>"
            ],
            "text/plain": [
              "   F1  F2  F3  F4\n",
              "0  28  29  31  25"
            ]
          },
          "metadata": {
            "tags": []
          },
          "execution_count": 49
        }
      ]
    },
    {
      "cell_type": "code",
      "metadata": {
        "id": "k059kmV-7ULL",
        "outputId": "4a10929a-bb3f-45b8-fc7e-14af08ea920f",
        "colab": {
          "base_uri": "https://localhost:8080/",
          "height": 76
        }
      },
      "source": [
        "# 供給側の制約条件\n",
        "df_supply"
      ],
      "execution_count": 50,
      "outputs": [
        {
          "output_type": "execute_result",
          "data": {
            "text/html": [
              "<div>\n",
              "<style scoped>\n",
              "    .dataframe tbody tr th:only-of-type {\n",
              "        vertical-align: middle;\n",
              "    }\n",
              "\n",
              "    .dataframe tbody tr th {\n",
              "        vertical-align: top;\n",
              "    }\n",
              "\n",
              "    .dataframe thead th {\n",
              "        text-align: right;\n",
              "    }\n",
              "</style>\n",
              "<table border=\"1\" class=\"dataframe\">\n",
              "  <thead>\n",
              "    <tr style=\"text-align: right;\">\n",
              "      <th></th>\n",
              "      <th>W1</th>\n",
              "      <th>W2</th>\n",
              "      <th>W3</th>\n",
              "    </tr>\n",
              "  </thead>\n",
              "  <tbody>\n",
              "    <tr>\n",
              "      <th>0</th>\n",
              "      <td>35</td>\n",
              "      <td>41</td>\n",
              "      <td>42</td>\n",
              "    </tr>\n",
              "  </tbody>\n",
              "</table>\n",
              "</div>"
            ],
            "text/plain": [
              "   W1  W2  W3\n",
              "0  35  41  42"
            ]
          },
          "metadata": {
            "tags": []
          },
          "execution_count": 50
        }
      ]
    },
    {
      "cell_type": "code",
      "metadata": {
        "id": "_jhKwHUV7VqO",
        "outputId": "8280efda-db24-4e2f-b5a9-004608bf3615",
        "colab": {
          "base_uri": "https://localhost:8080/",
          "height": 245
        }
      },
      "source": [
        "# 工場からの需要量\n",
        "for i in range(len(df_demand.columns)):\n",
        "  temp_sum = sum(df_trans_route[df_demand.columns[i]])\n",
        "  print(str(df_demand.columns[i]) + 'への輸送量:', str(temp_sum)+ ' (需要量:', str(df_demand.iloc[0][i])+ ')')\n",
        "  if temp_sum>=df_demand.iloc[0][i]:\n",
        "    print('需要量を満たしてます。')\n",
        "  else:\n",
        "    print('需要量を満たしてません。輸送ルートを再計算してください。')\n",
        "\n",
        "# 倉庫からの供給量\n",
        "for i in range(len(df_supply.columns)):\n",
        "  temp_sum = sum(df_trans_route.loc[df_supply.columns[i]])\n",
        "  print(str(df_supply.columns[i])+'からの輸送量:', str(temp_sum)+' (供給量:', str(df_supply.iloc[0][i])+ ')')\n",
        "  if temp_sum<=df_supply.iloc[0][i]:\n",
        "    print('供給限界の範囲内です。')\n",
        "  else:\n",
        "    print('供給限界を超えています。輸送ルートを再計算してください。') \n"
      ],
      "execution_count": 51,
      "outputs": [
        {
          "output_type": "stream",
          "text": [
            "F1への輸送量: 30 (需要量: 28)\n",
            "需要量を満たしてます。\n",
            "F2への輸送量: 30 (需要量: 29)\n",
            "需要量を満たしてます。\n",
            "F3への輸送量: 32 (需要量: 31)\n",
            "需要量を満たしてます。\n",
            "F4への輸送量: 25 (需要量: 25)\n",
            "需要量を満たしてます。\n",
            "W1からの輸送量: 35 (供給量: 35)\n",
            "供給限界の範囲内です。\n",
            "W2からの輸送量: 40 (供給量: 41)\n",
            "供給限界の範囲内です。\n",
            "W3からの輸送量: 42 (供給量: 42)\n",
            "供給限界の範囲内です。\n"
          ],
          "name": "stdout"
        }
      ]
    },
    {
      "cell_type": "markdown",
      "metadata": {
        "id": "ipN6vy5cpPbB"
      },
      "source": [
        "> ## ノック60:輸送ルートを変更して、輸送コスト関数の変化を確認しよう"
      ]
    },
    {
      "cell_type": "code",
      "metadata": {
        "id": "OgZLN72ZpRKy",
        "outputId": "42f80d2c-4371-4988-d999-ef3c19e75f54",
        "colab": {
          "base_uri": "https://localhost:8080/",
          "height": 162
        }
      },
      "source": [
        "# 新しいルート\n",
        "df_trans_route_new.set_index('工場', drop=True, inplace=True)\n",
        "df_trans_route_new"
      ],
      "execution_count": 52,
      "outputs": [
        {
          "output_type": "execute_result",
          "data": {
            "text/html": [
              "<div>\n",
              "<style scoped>\n",
              "    .dataframe tbody tr th:only-of-type {\n",
              "        vertical-align: middle;\n",
              "    }\n",
              "\n",
              "    .dataframe tbody tr th {\n",
              "        vertical-align: top;\n",
              "    }\n",
              "\n",
              "    .dataframe thead th {\n",
              "        text-align: right;\n",
              "    }\n",
              "</style>\n",
              "<table border=\"1\" class=\"dataframe\">\n",
              "  <thead>\n",
              "    <tr style=\"text-align: right;\">\n",
              "      <th></th>\n",
              "      <th>F1</th>\n",
              "      <th>F2</th>\n",
              "      <th>F3</th>\n",
              "      <th>F4</th>\n",
              "    </tr>\n",
              "    <tr>\n",
              "      <th>工場</th>\n",
              "      <th></th>\n",
              "      <th></th>\n",
              "      <th></th>\n",
              "      <th></th>\n",
              "    </tr>\n",
              "  </thead>\n",
              "  <tbody>\n",
              "    <tr>\n",
              "      <th>W1</th>\n",
              "      <td>15</td>\n",
              "      <td>15</td>\n",
              "      <td>0</td>\n",
              "      <td>0</td>\n",
              "    </tr>\n",
              "    <tr>\n",
              "      <th>W2</th>\n",
              "      <td>5</td>\n",
              "      <td>0</td>\n",
              "      <td>30</td>\n",
              "      <td>10</td>\n",
              "    </tr>\n",
              "    <tr>\n",
              "      <th>W3</th>\n",
              "      <td>10</td>\n",
              "      <td>15</td>\n",
              "      <td>2</td>\n",
              "      <td>15</td>\n",
              "    </tr>\n",
              "  </tbody>\n",
              "</table>\n",
              "</div>"
            ],
            "text/plain": [
              "    F1  F2  F3  F4\n",
              "工場                \n",
              "W1  15  15   0   0\n",
              "W2   5   0  30  10\n",
              "W3  10  15   2  15"
            ]
          },
          "metadata": {
            "tags": []
          },
          "execution_count": 52
        }
      ]
    },
    {
      "cell_type": "code",
      "metadata": {
        "id": "_2L7PSygAqdk",
        "outputId": "2d9364a2-34c9-4523-d53d-ee1d9fcd33a1",
        "colab": {
          "base_uri": "https://localhost:8080/",
          "height": 33
        }
      },
      "source": [
        "print('総輸送コスト: ', calc_trans_cost(df_trans_route_new, df_trans_cost))"
      ],
      "execution_count": 53,
      "outputs": [
        {
          "output_type": "stream",
          "text": [
            "総輸送コスト:  1428\n"
          ],
          "name": "stdout"
        }
      ]
    },
    {
      "cell_type": "code",
      "metadata": {
        "id": "KFL7VPRaA4n8"
      },
      "source": [
        "# 工場からの需要量\n",
        "def check_demand_condition(df_trans_route, df_demand):\n",
        "  demand_flag = {}\n",
        "  for i in range(len(df_demand.columns)):\n",
        "    temp_sum = sum(df_trans_route[df_demand.columns[i]])\n",
        "    if temp_sum>=df_demand.iloc[0][i]:\n",
        "      demand_flag[df_demand.columns[i]] = 1\n",
        "    else:\n",
        "      demand_flag[df_demand.columns[i]] = 0\n",
        "  print('需要条件計算結果： ', demand_flag)\n",
        "\n",
        "# 倉庫からの供給量\n",
        "def check_supply_condition(df_trans_route, df_supply):\n",
        "  supply_flag = {}\n",
        "  for i in range(len(df_supply.columns)):\n",
        "    temp_sum = sum(df_trans_route.loc[df_supply.columns[i]])\n",
        "    if temp_sum<=df_supply.iloc[0][i]:\n",
        "      supply_flag[df_supply.columns[i]] = 1\n",
        "    else:\n",
        "      supply_flag[df_supply.columns[i]] = 0\n",
        "  print('供給条件計算結果： ', supply_flag)\n",
        "    "
      ],
      "execution_count": 54,
      "outputs": []
    },
    {
      "cell_type": "code",
      "metadata": {
        "id": "OeVcuYCpCTiy",
        "outputId": "2d31ba20-07c0-4fe0-b356-cdd9728aae20",
        "colab": {
          "base_uri": "https://localhost:8080/",
          "height": 50
        }
      },
      "source": [
        "check_demand_condition(df_trans_route_new, df_demand)\n",
        "check_supply_condition(df_trans_route_new, df_supply)"
      ],
      "execution_count": 55,
      "outputs": [
        {
          "output_type": "stream",
          "text": [
            "需要条件計算結果：  {'F1': 1, 'F2': 1, 'F3': 1, 'F4': 1}\n",
            "供給条件計算結果：  {'W1': 1, 'W2': 0, 'W3': 1}\n"
          ],
          "name": "stdout"
        }
      ]
    }
  ]
}