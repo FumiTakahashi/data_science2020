{
  "nbformat": 4,
  "nbformat_minor": 0,
  "metadata": {
    "colab": {
      "name": "Ch5.ipynb",
      "provenance": [],
      "collapsed_sections": [],
      "toc_visible": true
    },
    "kernelspec": {
      "name": "python3",
      "display_name": "Python 3"
    }
  },
  "cells": [
    {
      "cell_type": "markdown",
      "metadata": {
        "id": "C1U1k1kdogS1",
        "colab_type": "text"
      },
      "source": [
        "> ## 準備"
      ]
    },
    {
      "cell_type": "code",
      "metadata": {
        "id": "rSLa9Tm6nsRy",
        "colab_type": "code",
        "colab": {
          "base_uri": "https://localhost:8080/",
          "height": 33
        },
        "outputId": "e571460c-0002-4820-c512-ec656d1ea656"
      },
      "source": [
        "# フォルダーに移動\n",
        "% cd /content/drive/My Drive/Colab Notebooks/deeplab/data_analysis_100/"
      ],
      "execution_count": 1,
      "outputs": [
        {
          "output_type": "stream",
          "text": [
            "/content/drive/My Drive/Colab Notebooks/deeplab/data_analysis_100\n"
          ],
          "name": "stdout"
        }
      ]
    },
    {
      "cell_type": "code",
      "metadata": {
        "id": "_abNG3Bwofsm",
        "colab_type": "code",
        "colab": {
          "base_uri": "https://localhost:8080/",
          "height": 50
        },
        "outputId": "4284a557-0473-4b2b-ad97-6367166664bb"
      },
      "source": [
        "% ls サンプルコード_20200325/5章"
      ],
      "execution_count": 2,
      "outputs": [
        {
          "output_type": "stream",
          "text": [
            "5章_顧客の退会を予測する１０本ノック_answer.ipynb  customer_join.csv\n",
            "5章_顧客の退会を予測する１０本ノック.ipynb         use_log_months.csv\n"
          ],
          "name": "stdout"
        }
      ]
    },
    {
      "cell_type": "code",
      "metadata": {
        "id": "NbqXtCGbou_J",
        "colab_type": "code",
        "colab": {
          "base_uri": "https://localhost:8080/",
          "height": 147
        },
        "outputId": "8fbf481f-20e0-44d5-e0a1-212b5278e9b3"
      },
      "source": [
        "# 日本語フォント用\n",
        "!pip install japanize-matplotlib"
      ],
      "execution_count": 3,
      "outputs": [
        {
          "output_type": "stream",
          "text": [
            "Requirement already satisfied: japanize-matplotlib in /usr/local/lib/python3.6/dist-packages (1.1.2)\n",
            "Requirement already satisfied: matplotlib in /usr/local/lib/python3.6/dist-packages (from japanize-matplotlib) (3.2.2)\n",
            "Requirement already satisfied: pyparsing!=2.0.4,!=2.1.2,!=2.1.6,>=2.0.1 in /usr/local/lib/python3.6/dist-packages (from matplotlib->japanize-matplotlib) (2.4.7)\n",
            "Requirement already satisfied: kiwisolver>=1.0.1 in /usr/local/lib/python3.6/dist-packages (from matplotlib->japanize-matplotlib) (1.2.0)\n",
            "Requirement already satisfied: cycler>=0.10 in /usr/local/lib/python3.6/dist-packages (from matplotlib->japanize-matplotlib) (0.10.0)\n",
            "Requirement already satisfied: python-dateutil>=2.1 in /usr/local/lib/python3.6/dist-packages (from matplotlib->japanize-matplotlib) (2.8.1)\n",
            "Requirement already satisfied: numpy>=1.11 in /usr/local/lib/python3.6/dist-packages (from matplotlib->japanize-matplotlib) (1.18.5)\n",
            "Requirement already satisfied: six in /usr/local/lib/python3.6/dist-packages (from cycler>=0.10->matplotlib->japanize-matplotlib) (1.15.0)\n"
          ],
          "name": "stdout"
        }
      ]
    },
    {
      "cell_type": "code",
      "metadata": {
        "id": "4s27T44doxmv",
        "colab_type": "code",
        "colab": {
          "base_uri": "https://localhost:8080/",
          "height": 98
        },
        "outputId": "a5cb313f-e1b7-49a8-bbf9-9da592934446"
      },
      "source": [
        "# Load libraries\n",
        "\n",
        "import pandas as pd\n",
        "import numpy as np\n",
        "import matplotlib.pyplot as plt\n",
        "import japanize_matplotlib\n",
        "import seaborn as sns\n",
        "%matplotlib inline"
      ],
      "execution_count": 4,
      "outputs": [
        {
          "output_type": "stream",
          "text": [
            "/usr/local/lib/python3.6/dist-packages/japanize_matplotlib/japanize_matplotlib.py:15: MatplotlibDeprecationWarning: \n",
            "The createFontList function was deprecated in Matplotlib 3.2 and will be removed two minor releases later. Use FontManager.addfont instead.\n",
            "  font_list = font_manager.createFontList(font_files)\n",
            "/usr/local/lib/python3.6/dist-packages/statsmodels/tools/_testing.py:19: FutureWarning: pandas.util.testing is deprecated. Use the functions in the public API at pandas.testing instead.\n",
            "  import pandas.util.testing as tm\n"
          ],
          "name": "stderr"
        }
      ]
    },
    {
      "cell_type": "code",
      "metadata": {
        "id": "uoAbwqzmqMNv",
        "colab_type": "code",
        "colab": {}
      },
      "source": [
        "# Ignore warnings\n",
        "import warnings\n",
        "warnings.filterwarnings('ignore')"
      ],
      "execution_count": 5,
      "outputs": []
    },
    {
      "cell_type": "code",
      "metadata": {
        "id": "b29zzUciozcl",
        "colab_type": "code",
        "colab": {}
      },
      "source": [
        "# Config\n",
        "PATH = './サンプルコード_20200325/5章/'"
      ],
      "execution_count": 6,
      "outputs": []
    },
    {
      "cell_type": "markdown",
      "metadata": {
        "id": "HFkbazo0o5kH",
        "colab_type": "text"
      },
      "source": [
        "\n",
        "> ## ノック41:データを読み込んで利用データを整形しよう"
      ]
    },
    {
      "cell_type": "code",
      "metadata": {
        "id": "AWKrDhZM6wLU",
        "colab_type": "code",
        "colab": {}
      },
      "source": [
        "# Chapter 4 で生成したデータを再度インポート\n",
        "df_customer_join = pd.read_csv(PATH + 'customer_join.csv')\n",
        "df_use_log_month = pd.read_csv(PATH + 'use_log_months.csv')"
      ],
      "execution_count": 7,
      "outputs": []
    },
    {
      "cell_type": "code",
      "metadata": {
        "id": "e3jcVHx88w2W",
        "colab_type": "code",
        "colab": {
          "base_uri": "https://localhost:8080/",
          "height": 191
        },
        "outputId": "825f0eca-03d6-47cc-d885-09748cf1f832"
      },
      "source": [
        "df_customer_join.head()"
      ],
      "execution_count": 8,
      "outputs": [
        {
          "output_type": "execute_result",
          "data": {
            "text/html": [
              "<div>\n",
              "<style scoped>\n",
              "    .dataframe tbody tr th:only-of-type {\n",
              "        vertical-align: middle;\n",
              "    }\n",
              "\n",
              "    .dataframe tbody tr th {\n",
              "        vertical-align: top;\n",
              "    }\n",
              "\n",
              "    .dataframe thead th {\n",
              "        text-align: right;\n",
              "    }\n",
              "</style>\n",
              "<table border=\"1\" class=\"dataframe\">\n",
              "  <thead>\n",
              "    <tr style=\"text-align: right;\">\n",
              "      <th></th>\n",
              "      <th>customer_id</th>\n",
              "      <th>name</th>\n",
              "      <th>class</th>\n",
              "      <th>gender</th>\n",
              "      <th>start_date</th>\n",
              "      <th>end_date</th>\n",
              "      <th>campaign_id</th>\n",
              "      <th>is_deleted</th>\n",
              "      <th>class_name</th>\n",
              "      <th>price</th>\n",
              "      <th>campaign_name</th>\n",
              "      <th>mean</th>\n",
              "      <th>median</th>\n",
              "      <th>max</th>\n",
              "      <th>min</th>\n",
              "      <th>routine_flg</th>\n",
              "      <th>calc_date</th>\n",
              "      <th>membership_period</th>\n",
              "    </tr>\n",
              "  </thead>\n",
              "  <tbody>\n",
              "    <tr>\n",
              "      <th>0</th>\n",
              "      <td>OA832399</td>\n",
              "      <td>XXXX</td>\n",
              "      <td>C01</td>\n",
              "      <td>F</td>\n",
              "      <td>2015-05-01</td>\n",
              "      <td>NaN</td>\n",
              "      <td>CA1</td>\n",
              "      <td>0</td>\n",
              "      <td>オールタイム</td>\n",
              "      <td>10500</td>\n",
              "      <td>通常</td>\n",
              "      <td>4.833333</td>\n",
              "      <td>5.0</td>\n",
              "      <td>8</td>\n",
              "      <td>2</td>\n",
              "      <td>1</td>\n",
              "      <td>2019-04-30</td>\n",
              "      <td>47</td>\n",
              "    </tr>\n",
              "    <tr>\n",
              "      <th>1</th>\n",
              "      <td>PL270116</td>\n",
              "      <td>XXXXX</td>\n",
              "      <td>C01</td>\n",
              "      <td>M</td>\n",
              "      <td>2015-05-01</td>\n",
              "      <td>NaN</td>\n",
              "      <td>CA1</td>\n",
              "      <td>0</td>\n",
              "      <td>オールタイム</td>\n",
              "      <td>10500</td>\n",
              "      <td>通常</td>\n",
              "      <td>5.083333</td>\n",
              "      <td>5.0</td>\n",
              "      <td>7</td>\n",
              "      <td>3</td>\n",
              "      <td>1</td>\n",
              "      <td>2019-04-30</td>\n",
              "      <td>47</td>\n",
              "    </tr>\n",
              "    <tr>\n",
              "      <th>2</th>\n",
              "      <td>OA974876</td>\n",
              "      <td>XXXXX</td>\n",
              "      <td>C01</td>\n",
              "      <td>M</td>\n",
              "      <td>2015-05-01</td>\n",
              "      <td>NaN</td>\n",
              "      <td>CA1</td>\n",
              "      <td>0</td>\n",
              "      <td>オールタイム</td>\n",
              "      <td>10500</td>\n",
              "      <td>通常</td>\n",
              "      <td>4.583333</td>\n",
              "      <td>5.0</td>\n",
              "      <td>6</td>\n",
              "      <td>3</td>\n",
              "      <td>1</td>\n",
              "      <td>2019-04-30</td>\n",
              "      <td>47</td>\n",
              "    </tr>\n",
              "    <tr>\n",
              "      <th>3</th>\n",
              "      <td>HD024127</td>\n",
              "      <td>XXXXX</td>\n",
              "      <td>C01</td>\n",
              "      <td>F</td>\n",
              "      <td>2015-05-01</td>\n",
              "      <td>NaN</td>\n",
              "      <td>CA1</td>\n",
              "      <td>0</td>\n",
              "      <td>オールタイム</td>\n",
              "      <td>10500</td>\n",
              "      <td>通常</td>\n",
              "      <td>4.833333</td>\n",
              "      <td>4.5</td>\n",
              "      <td>7</td>\n",
              "      <td>2</td>\n",
              "      <td>1</td>\n",
              "      <td>2019-04-30</td>\n",
              "      <td>47</td>\n",
              "    </tr>\n",
              "    <tr>\n",
              "      <th>4</th>\n",
              "      <td>HD661448</td>\n",
              "      <td>XXXXX</td>\n",
              "      <td>C03</td>\n",
              "      <td>F</td>\n",
              "      <td>2015-05-01</td>\n",
              "      <td>NaN</td>\n",
              "      <td>CA1</td>\n",
              "      <td>0</td>\n",
              "      <td>ナイト</td>\n",
              "      <td>6000</td>\n",
              "      <td>通常</td>\n",
              "      <td>3.916667</td>\n",
              "      <td>4.0</td>\n",
              "      <td>6</td>\n",
              "      <td>1</td>\n",
              "      <td>1</td>\n",
              "      <td>2019-04-30</td>\n",
              "      <td>47</td>\n",
              "    </tr>\n",
              "  </tbody>\n",
              "</table>\n",
              "</div>"
            ],
            "text/plain": [
              "  customer_id   name class  ... routine_flg   calc_date membership_period\n",
              "0    OA832399   XXXX   C01  ...           1  2019-04-30                47\n",
              "1    PL270116  XXXXX   C01  ...           1  2019-04-30                47\n",
              "2    OA974876  XXXXX   C01  ...           1  2019-04-30                47\n",
              "3    HD024127  XXXXX   C01  ...           1  2019-04-30                47\n",
              "4    HD661448  XXXXX   C03  ...           1  2019-04-30                47\n",
              "\n",
              "[5 rows x 18 columns]"
            ]
          },
          "metadata": {
            "tags": []
          },
          "execution_count": 8
        }
      ]
    },
    {
      "cell_type": "code",
      "metadata": {
        "id": "cPiV8gj29aMQ",
        "colab_type": "code",
        "colab": {
          "base_uri": "https://localhost:8080/",
          "height": 326
        },
        "outputId": "5ae4ceb5-7182-48b8-bbb8-c8b74c08ced1"
      },
      "source": [
        "df_customer_join.isnull().sum()"
      ],
      "execution_count": 9,
      "outputs": [
        {
          "output_type": "execute_result",
          "data": {
            "text/plain": [
              "customer_id             0\n",
              "name                    0\n",
              "class                   0\n",
              "gender                  0\n",
              "start_date              0\n",
              "end_date             2842\n",
              "campaign_id             0\n",
              "is_deleted              0\n",
              "class_name              0\n",
              "price                   0\n",
              "campaign_name           0\n",
              "mean                    0\n",
              "median                  0\n",
              "max                     0\n",
              "min                     0\n",
              "routine_flg             0\n",
              "calc_date               0\n",
              "membership_period       0\n",
              "dtype: int64"
            ]
          },
          "metadata": {
            "tags": []
          },
          "execution_count": 9
        }
      ]
    },
    {
      "cell_type": "code",
      "metadata": {
        "id": "RBKmitO-8y-a",
        "colab_type": "code",
        "colab": {
          "base_uri": "https://localhost:8080/",
          "height": 191
        },
        "outputId": "b583fabf-15b1-400f-e887-1dbe0795ed54"
      },
      "source": [
        "df_use_log_month.head()"
      ],
      "execution_count": 10,
      "outputs": [
        {
          "output_type": "execute_result",
          "data": {
            "text/html": [
              "<div>\n",
              "<style scoped>\n",
              "    .dataframe tbody tr th:only-of-type {\n",
              "        vertical-align: middle;\n",
              "    }\n",
              "\n",
              "    .dataframe tbody tr th {\n",
              "        vertical-align: top;\n",
              "    }\n",
              "\n",
              "    .dataframe thead th {\n",
              "        text-align: right;\n",
              "    }\n",
              "</style>\n",
              "<table border=\"1\" class=\"dataframe\">\n",
              "  <thead>\n",
              "    <tr style=\"text-align: right;\">\n",
              "      <th></th>\n",
              "      <th>年月</th>\n",
              "      <th>customer_id</th>\n",
              "      <th>count</th>\n",
              "    </tr>\n",
              "  </thead>\n",
              "  <tbody>\n",
              "    <tr>\n",
              "      <th>0</th>\n",
              "      <td>201804</td>\n",
              "      <td>AS002855</td>\n",
              "      <td>4</td>\n",
              "    </tr>\n",
              "    <tr>\n",
              "      <th>1</th>\n",
              "      <td>201804</td>\n",
              "      <td>AS009013</td>\n",
              "      <td>2</td>\n",
              "    </tr>\n",
              "    <tr>\n",
              "      <th>2</th>\n",
              "      <td>201804</td>\n",
              "      <td>AS009373</td>\n",
              "      <td>3</td>\n",
              "    </tr>\n",
              "    <tr>\n",
              "      <th>3</th>\n",
              "      <td>201804</td>\n",
              "      <td>AS015315</td>\n",
              "      <td>6</td>\n",
              "    </tr>\n",
              "    <tr>\n",
              "      <th>4</th>\n",
              "      <td>201804</td>\n",
              "      <td>AS015739</td>\n",
              "      <td>7</td>\n",
              "    </tr>\n",
              "  </tbody>\n",
              "</table>\n",
              "</div>"
            ],
            "text/plain": [
              "       年月 customer_id  count\n",
              "0  201804    AS002855      4\n",
              "1  201804    AS009013      2\n",
              "2  201804    AS009373      3\n",
              "3  201804    AS015315      6\n",
              "4  201804    AS015739      7"
            ]
          },
          "metadata": {
            "tags": []
          },
          "execution_count": 10
        }
      ]
    },
    {
      "cell_type": "code",
      "metadata": {
        "id": "Eccb2rWb9dxz",
        "colab_type": "code",
        "colab": {
          "base_uri": "https://localhost:8080/",
          "height": 82
        },
        "outputId": "886be810-9677-4453-816b-ccd174956c26"
      },
      "source": [
        "df_use_log_month.isnull().sum()"
      ],
      "execution_count": 11,
      "outputs": [
        {
          "output_type": "execute_result",
          "data": {
            "text/plain": [
              "年月             0\n",
              "customer_id    0\n",
              "count          0\n",
              "dtype: int64"
            ]
          },
          "metadata": {
            "tags": []
          },
          "execution_count": 11
        }
      ]
    },
    {
      "cell_type": "code",
      "metadata": {
        "id": "DqhtsO6b9VTc",
        "colab_type": "code",
        "colab": {
          "base_uri": "https://localhost:8080/",
          "height": 191
        },
        "outputId": "98949837-3a09-4a73-b13e-65b3f51d2787"
      },
      "source": [
        "# １ヶ月前のデータを使って予測する \n",
        "# ４章と同様の方法でデータを作成\n",
        "\n",
        "year_months = list(df_use_log_month['年月'].unique())\n",
        "df_use_log = pd.DataFrame()\n",
        "for i in range(1, len(year_months)):\n",
        "  tmp = df_use_log_month[df_use_log_month['年月']==year_months[i]]\n",
        "  tmp.rename(columns={'count':'count_0'}, inplace=True)\n",
        "  # 基準月の前月も取得\n",
        "  tmp_before = df_use_log_month[df_use_log_month['年月']==year_months[i-1]]\n",
        "  del tmp_before['年月']\n",
        "  tmp_before.rename(columns={'count':'count_1'}, inplace=True)\n",
        "  # 基準月と前月をまとめる\n",
        "  tmp = pd.merge(tmp, tmp_before, on='customer_id', how='left')\n",
        "  df_use_log = pd.concat([df_use_log, tmp], ignore_index=True)\n",
        "df_use_log.head()"
      ],
      "execution_count": 12,
      "outputs": [
        {
          "output_type": "execute_result",
          "data": {
            "text/html": [
              "<div>\n",
              "<style scoped>\n",
              "    .dataframe tbody tr th:only-of-type {\n",
              "        vertical-align: middle;\n",
              "    }\n",
              "\n",
              "    .dataframe tbody tr th {\n",
              "        vertical-align: top;\n",
              "    }\n",
              "\n",
              "    .dataframe thead th {\n",
              "        text-align: right;\n",
              "    }\n",
              "</style>\n",
              "<table border=\"1\" class=\"dataframe\">\n",
              "  <thead>\n",
              "    <tr style=\"text-align: right;\">\n",
              "      <th></th>\n",
              "      <th>年月</th>\n",
              "      <th>customer_id</th>\n",
              "      <th>count_0</th>\n",
              "      <th>count_1</th>\n",
              "    </tr>\n",
              "  </thead>\n",
              "  <tbody>\n",
              "    <tr>\n",
              "      <th>0</th>\n",
              "      <td>201805</td>\n",
              "      <td>AS002855</td>\n",
              "      <td>5</td>\n",
              "      <td>4.0</td>\n",
              "    </tr>\n",
              "    <tr>\n",
              "      <th>1</th>\n",
              "      <td>201805</td>\n",
              "      <td>AS009373</td>\n",
              "      <td>4</td>\n",
              "      <td>3.0</td>\n",
              "    </tr>\n",
              "    <tr>\n",
              "      <th>2</th>\n",
              "      <td>201805</td>\n",
              "      <td>AS015233</td>\n",
              "      <td>7</td>\n",
              "      <td>NaN</td>\n",
              "    </tr>\n",
              "    <tr>\n",
              "      <th>3</th>\n",
              "      <td>201805</td>\n",
              "      <td>AS015315</td>\n",
              "      <td>3</td>\n",
              "      <td>6.0</td>\n",
              "    </tr>\n",
              "    <tr>\n",
              "      <th>4</th>\n",
              "      <td>201805</td>\n",
              "      <td>AS015739</td>\n",
              "      <td>5</td>\n",
              "      <td>7.0</td>\n",
              "    </tr>\n",
              "  </tbody>\n",
              "</table>\n",
              "</div>"
            ],
            "text/plain": [
              "       年月 customer_id  count_0  count_1\n",
              "0  201805    AS002855        5      4.0\n",
              "1  201805    AS009373        4      3.0\n",
              "2  201805    AS015233        7      NaN\n",
              "3  201805    AS015315        3      6.0\n",
              "4  201805    AS015739        5      7.0"
            ]
          },
          "metadata": {
            "tags": []
          },
          "execution_count": 12
        }
      ]
    },
    {
      "cell_type": "code",
      "metadata": {
        "id": "aPXqeyDpAxCk",
        "colab_type": "code",
        "colab": {
          "base_uri": "https://localhost:8080/",
          "height": 98
        },
        "outputId": "61ee9022-fc26-4e8a-96ac-ad6d4614461b"
      },
      "source": [
        "df_use_log.isnull().sum()"
      ],
      "execution_count": 13,
      "outputs": [
        {
          "output_type": "execute_result",
          "data": {
            "text/plain": [
              "年月                0\n",
              "customer_id       0\n",
              "count_0           0\n",
              "count_1        1201\n",
              "dtype: int64"
            ]
          },
          "metadata": {
            "tags": []
          },
          "execution_count": 13
        }
      ]
    },
    {
      "cell_type": "markdown",
      "metadata": {
        "colab_type": "text",
        "id": "gDKB9uxtpD3l"
      },
      "source": [
        "> ## ノック42:退会前月の退会顧客データを作成しよう"
      ]
    },
    {
      "cell_type": "markdown",
      "metadata": {
        "id": "LcX-BKaT-JV0",
        "colab_type": "text"
      },
      "source": [
        "退会月を予測していては手遅れなので、その前月を予測したい。ということで、退会者の退会前月データを作成する。"
      ]
    },
    {
      "cell_type": "code",
      "metadata": {
        "id": "j4YBBYIpvVQY",
        "colab_type": "code",
        "colab": {
          "base_uri": "https://localhost:8080/",
          "height": 326
        },
        "outputId": "c1428b66-7c13-47df-8c87-68957275042d"
      },
      "source": [
        "# まず各データフレームの日時関連のカラムをまとめて datetime に変換しておく\n",
        "df_customer_join.dtypes"
      ],
      "execution_count": 14,
      "outputs": [
        {
          "output_type": "execute_result",
          "data": {
            "text/plain": [
              "customer_id           object\n",
              "name                  object\n",
              "class                 object\n",
              "gender                object\n",
              "start_date            object\n",
              "end_date              object\n",
              "campaign_id           object\n",
              "is_deleted             int64\n",
              "class_name            object\n",
              "price                  int64\n",
              "campaign_name         object\n",
              "mean                 float64\n",
              "median               float64\n",
              "max                    int64\n",
              "min                    int64\n",
              "routine_flg            int64\n",
              "calc_date             object\n",
              "membership_period      int64\n",
              "dtype: object"
            ]
          },
          "metadata": {
            "tags": []
          },
          "execution_count": 14
        }
      ]
    },
    {
      "cell_type": "code",
      "metadata": {
        "id": "WXW7b9FjvNXu",
        "colab_type": "code",
        "colab": {}
      },
      "source": [
        "datetime_list = ['start_date', 'end_date', 'calc_date']\n",
        "for feat in datetime_list:\n",
        "  df_customer_join[feat] = pd.to_datetime(df_customer_join[feat])"
      ],
      "execution_count": 15,
      "outputs": []
    },
    {
      "cell_type": "code",
      "metadata": {
        "id": "b2olTBPoC67q",
        "colab_type": "code",
        "colab": {
          "base_uri": "https://localhost:8080/",
          "height": 243
        },
        "outputId": "9dc0ef97-6743-42e6-dd9f-db7c0efebe42"
      },
      "source": [
        "# 退会前月の情報を取得していく\n",
        "from dateutil.relativedelta import relativedelta\n",
        "df_exit_customer = df_customer_join[df_customer_join['is_deleted']==True]\n",
        "df_exit_customer['exit_date'] = df_exit_customer.apply(lambda x:  x['end_date'] - relativedelta(month=1), axis=1)\n",
        "df_exit_customer['exit_年月'] =  df_exit_customer['exit_date'].dt.strftime('%Y%m')\n",
        "\n",
        "# 元のデータに退会前月をマージする\n",
        "df_exit_customer_log = pd.merge(df_use_log, df_exit_customer, on=['customer_id'], how='left')\n",
        "print('Total rows:  ', len(df_exit_customer_log))\n",
        "df_exit_customer_log.head()"
      ],
      "execution_count": 16,
      "outputs": [
        {
          "output_type": "stream",
          "text": [
            "Total rows:   33851\n"
          ],
          "name": "stdout"
        },
        {
          "output_type": "execute_result",
          "data": {
            "text/html": [
              "<div>\n",
              "<style scoped>\n",
              "    .dataframe tbody tr th:only-of-type {\n",
              "        vertical-align: middle;\n",
              "    }\n",
              "\n",
              "    .dataframe tbody tr th {\n",
              "        vertical-align: top;\n",
              "    }\n",
              "\n",
              "    .dataframe thead th {\n",
              "        text-align: right;\n",
              "    }\n",
              "</style>\n",
              "<table border=\"1\" class=\"dataframe\">\n",
              "  <thead>\n",
              "    <tr style=\"text-align: right;\">\n",
              "      <th></th>\n",
              "      <th>年月</th>\n",
              "      <th>customer_id</th>\n",
              "      <th>count_0</th>\n",
              "      <th>count_1</th>\n",
              "      <th>name</th>\n",
              "      <th>class</th>\n",
              "      <th>gender</th>\n",
              "      <th>start_date</th>\n",
              "      <th>end_date</th>\n",
              "      <th>campaign_id</th>\n",
              "      <th>is_deleted</th>\n",
              "      <th>class_name</th>\n",
              "      <th>price</th>\n",
              "      <th>campaign_name</th>\n",
              "      <th>mean</th>\n",
              "      <th>median</th>\n",
              "      <th>max</th>\n",
              "      <th>min</th>\n",
              "      <th>routine_flg</th>\n",
              "      <th>calc_date</th>\n",
              "      <th>membership_period</th>\n",
              "      <th>exit_date</th>\n",
              "      <th>exit_年月</th>\n",
              "    </tr>\n",
              "  </thead>\n",
              "  <tbody>\n",
              "    <tr>\n",
              "      <th>0</th>\n",
              "      <td>201805</td>\n",
              "      <td>AS002855</td>\n",
              "      <td>5</td>\n",
              "      <td>4.0</td>\n",
              "      <td>NaN</td>\n",
              "      <td>NaN</td>\n",
              "      <td>NaN</td>\n",
              "      <td>NaT</td>\n",
              "      <td>NaT</td>\n",
              "      <td>NaN</td>\n",
              "      <td>NaN</td>\n",
              "      <td>NaN</td>\n",
              "      <td>NaN</td>\n",
              "      <td>NaN</td>\n",
              "      <td>NaN</td>\n",
              "      <td>NaN</td>\n",
              "      <td>NaN</td>\n",
              "      <td>NaN</td>\n",
              "      <td>NaN</td>\n",
              "      <td>NaT</td>\n",
              "      <td>NaN</td>\n",
              "      <td>NaT</td>\n",
              "      <td>NaN</td>\n",
              "    </tr>\n",
              "    <tr>\n",
              "      <th>1</th>\n",
              "      <td>201805</td>\n",
              "      <td>AS009373</td>\n",
              "      <td>4</td>\n",
              "      <td>3.0</td>\n",
              "      <td>NaN</td>\n",
              "      <td>NaN</td>\n",
              "      <td>NaN</td>\n",
              "      <td>NaT</td>\n",
              "      <td>NaT</td>\n",
              "      <td>NaN</td>\n",
              "      <td>NaN</td>\n",
              "      <td>NaN</td>\n",
              "      <td>NaN</td>\n",
              "      <td>NaN</td>\n",
              "      <td>NaN</td>\n",
              "      <td>NaN</td>\n",
              "      <td>NaN</td>\n",
              "      <td>NaN</td>\n",
              "      <td>NaN</td>\n",
              "      <td>NaT</td>\n",
              "      <td>NaN</td>\n",
              "      <td>NaT</td>\n",
              "      <td>NaN</td>\n",
              "    </tr>\n",
              "    <tr>\n",
              "      <th>2</th>\n",
              "      <td>201805</td>\n",
              "      <td>AS015233</td>\n",
              "      <td>7</td>\n",
              "      <td>NaN</td>\n",
              "      <td>NaN</td>\n",
              "      <td>NaN</td>\n",
              "      <td>NaN</td>\n",
              "      <td>NaT</td>\n",
              "      <td>NaT</td>\n",
              "      <td>NaN</td>\n",
              "      <td>NaN</td>\n",
              "      <td>NaN</td>\n",
              "      <td>NaN</td>\n",
              "      <td>NaN</td>\n",
              "      <td>NaN</td>\n",
              "      <td>NaN</td>\n",
              "      <td>NaN</td>\n",
              "      <td>NaN</td>\n",
              "      <td>NaN</td>\n",
              "      <td>NaT</td>\n",
              "      <td>NaN</td>\n",
              "      <td>NaT</td>\n",
              "      <td>NaN</td>\n",
              "    </tr>\n",
              "    <tr>\n",
              "      <th>3</th>\n",
              "      <td>201805</td>\n",
              "      <td>AS015315</td>\n",
              "      <td>3</td>\n",
              "      <td>6.0</td>\n",
              "      <td>NaN</td>\n",
              "      <td>NaN</td>\n",
              "      <td>NaN</td>\n",
              "      <td>NaT</td>\n",
              "      <td>NaT</td>\n",
              "      <td>NaN</td>\n",
              "      <td>NaN</td>\n",
              "      <td>NaN</td>\n",
              "      <td>NaN</td>\n",
              "      <td>NaN</td>\n",
              "      <td>NaN</td>\n",
              "      <td>NaN</td>\n",
              "      <td>NaN</td>\n",
              "      <td>NaN</td>\n",
              "      <td>NaN</td>\n",
              "      <td>NaT</td>\n",
              "      <td>NaN</td>\n",
              "      <td>NaT</td>\n",
              "      <td>NaN</td>\n",
              "    </tr>\n",
              "    <tr>\n",
              "      <th>4</th>\n",
              "      <td>201805</td>\n",
              "      <td>AS015739</td>\n",
              "      <td>5</td>\n",
              "      <td>7.0</td>\n",
              "      <td>NaN</td>\n",
              "      <td>NaN</td>\n",
              "      <td>NaN</td>\n",
              "      <td>NaT</td>\n",
              "      <td>NaT</td>\n",
              "      <td>NaN</td>\n",
              "      <td>NaN</td>\n",
              "      <td>NaN</td>\n",
              "      <td>NaN</td>\n",
              "      <td>NaN</td>\n",
              "      <td>NaN</td>\n",
              "      <td>NaN</td>\n",
              "      <td>NaN</td>\n",
              "      <td>NaN</td>\n",
              "      <td>NaN</td>\n",
              "      <td>NaT</td>\n",
              "      <td>NaN</td>\n",
              "      <td>NaT</td>\n",
              "      <td>NaN</td>\n",
              "    </tr>\n",
              "  </tbody>\n",
              "</table>\n",
              "</div>"
            ],
            "text/plain": [
              "       年月 customer_id  count_0  ...  membership_period exit_date exit_年月\n",
              "0  201805    AS002855        5  ...                NaN       NaT     NaN\n",
              "1  201805    AS009373        4  ...                NaN       NaT     NaN\n",
              "2  201805    AS015233        7  ...                NaN       NaT     NaN\n",
              "3  201805    AS015315        3  ...                NaN       NaT     NaN\n",
              "4  201805    AS015739        5  ...                NaN       NaT     NaN\n",
              "\n",
              "[5 rows x 23 columns]"
            ]
          },
          "metadata": {
            "tags": []
          },
          "execution_count": 16
        }
      ]
    },
    {
      "cell_type": "code",
      "metadata": {
        "id": "gT-RyWXpx85R",
        "colab_type": "code",
        "colab": {
          "base_uri": "https://localhost:8080/",
          "height": 33
        },
        "outputId": "dd05a07b-a1ed-4be0-aaa5-ffc70c3a47ef"
      },
      "source": [
        "# 退会者のログ以外は欠損値となっているよう\n",
        "df_exit_customer_log[df_exit_customer_log['is_deleted']==1].shape"
      ],
      "execution_count": 17,
      "outputs": [
        {
          "output_type": "execute_result",
          "data": {
            "text/plain": [
              "(6429, 23)"
            ]
          },
          "metadata": {
            "tags": []
          },
          "execution_count": 17
        }
      ]
    },
    {
      "cell_type": "code",
      "metadata": {
        "id": "nOH9CRwvBO56",
        "colab_type": "code",
        "colab": {
          "base_uri": "https://localhost:8080/",
          "height": 325
        },
        "outputId": "dc7ea28f-76d3-44ff-be0d-a12b63a1ba46"
      },
      "source": [
        "# 欠損のある行は削除\n",
        "# 先ほどの値と一致していることを確認\n",
        "df_exit_customer_log = df_exit_customer_log.dropna(subset=['name'])\n",
        "print('Total rows:  ', len(df_exit_customer_log))\n",
        "df_exit_customer_log.head()"
      ],
      "execution_count": 18,
      "outputs": [
        {
          "output_type": "stream",
          "text": [
            "Total rows:   6429\n"
          ],
          "name": "stdout"
        },
        {
          "output_type": "execute_result",
          "data": {
            "text/html": [
              "<div>\n",
              "<style scoped>\n",
              "    .dataframe tbody tr th:only-of-type {\n",
              "        vertical-align: middle;\n",
              "    }\n",
              "\n",
              "    .dataframe tbody tr th {\n",
              "        vertical-align: top;\n",
              "    }\n",
              "\n",
              "    .dataframe thead th {\n",
              "        text-align: right;\n",
              "    }\n",
              "</style>\n",
              "<table border=\"1\" class=\"dataframe\">\n",
              "  <thead>\n",
              "    <tr style=\"text-align: right;\">\n",
              "      <th></th>\n",
              "      <th>年月</th>\n",
              "      <th>customer_id</th>\n",
              "      <th>count_0</th>\n",
              "      <th>count_1</th>\n",
              "      <th>name</th>\n",
              "      <th>class</th>\n",
              "      <th>gender</th>\n",
              "      <th>start_date</th>\n",
              "      <th>end_date</th>\n",
              "      <th>campaign_id</th>\n",
              "      <th>is_deleted</th>\n",
              "      <th>class_name</th>\n",
              "      <th>price</th>\n",
              "      <th>campaign_name</th>\n",
              "      <th>mean</th>\n",
              "      <th>median</th>\n",
              "      <th>max</th>\n",
              "      <th>min</th>\n",
              "      <th>routine_flg</th>\n",
              "      <th>calc_date</th>\n",
              "      <th>membership_period</th>\n",
              "      <th>exit_date</th>\n",
              "      <th>exit_年月</th>\n",
              "    </tr>\n",
              "  </thead>\n",
              "  <tbody>\n",
              "    <tr>\n",
              "      <th>5</th>\n",
              "      <td>201805</td>\n",
              "      <td>AS015746</td>\n",
              "      <td>1</td>\n",
              "      <td>4.0</td>\n",
              "      <td>XXXXX</td>\n",
              "      <td>C01</td>\n",
              "      <td>M</td>\n",
              "      <td>2017-12-01</td>\n",
              "      <td>2018-08-31</td>\n",
              "      <td>CA3</td>\n",
              "      <td>1.0</td>\n",
              "      <td>オールタイム</td>\n",
              "      <td>10500.0</td>\n",
              "      <td>入会費無料</td>\n",
              "      <td>2.600000</td>\n",
              "      <td>3.0</td>\n",
              "      <td>4.0</td>\n",
              "      <td>1.0</td>\n",
              "      <td>0.0</td>\n",
              "      <td>2018-08-31</td>\n",
              "      <td>8.0</td>\n",
              "      <td>2018-01-31</td>\n",
              "      <td>201801</td>\n",
              "    </tr>\n",
              "    <tr>\n",
              "      <th>8</th>\n",
              "      <td>201805</td>\n",
              "      <td>AS025956</td>\n",
              "      <td>6</td>\n",
              "      <td>NaN</td>\n",
              "      <td>XXXXXX</td>\n",
              "      <td>C01</td>\n",
              "      <td>M</td>\n",
              "      <td>2018-05-09</td>\n",
              "      <td>2019-02-28</td>\n",
              "      <td>CA2</td>\n",
              "      <td>1.0</td>\n",
              "      <td>オールタイム</td>\n",
              "      <td>10500.0</td>\n",
              "      <td>入会費半額</td>\n",
              "      <td>4.400000</td>\n",
              "      <td>4.5</td>\n",
              "      <td>7.0</td>\n",
              "      <td>1.0</td>\n",
              "      <td>1.0</td>\n",
              "      <td>2019-02-28</td>\n",
              "      <td>9.0</td>\n",
              "      <td>2019-01-28</td>\n",
              "      <td>201901</td>\n",
              "    </tr>\n",
              "    <tr>\n",
              "      <th>9</th>\n",
              "      <td>201805</td>\n",
              "      <td>AS029624</td>\n",
              "      <td>8</td>\n",
              "      <td>NaN</td>\n",
              "      <td>XXXXX</td>\n",
              "      <td>C01</td>\n",
              "      <td>M</td>\n",
              "      <td>2018-05-08</td>\n",
              "      <td>2019-01-31</td>\n",
              "      <td>CA2</td>\n",
              "      <td>1.0</td>\n",
              "      <td>オールタイム</td>\n",
              "      <td>10500.0</td>\n",
              "      <td>入会費半額</td>\n",
              "      <td>4.777778</td>\n",
              "      <td>5.0</td>\n",
              "      <td>8.0</td>\n",
              "      <td>1.0</td>\n",
              "      <td>1.0</td>\n",
              "      <td>2019-01-31</td>\n",
              "      <td>8.0</td>\n",
              "      <td>2019-01-31</td>\n",
              "      <td>201901</td>\n",
              "    </tr>\n",
              "    <tr>\n",
              "      <th>10</th>\n",
              "      <td>201805</td>\n",
              "      <td>AS030404</td>\n",
              "      <td>1</td>\n",
              "      <td>1.0</td>\n",
              "      <td>XXXX</td>\n",
              "      <td>C01</td>\n",
              "      <td>M</td>\n",
              "      <td>2017-05-01</td>\n",
              "      <td>2018-05-31</td>\n",
              "      <td>CA1</td>\n",
              "      <td>1.0</td>\n",
              "      <td>オールタイム</td>\n",
              "      <td>10500.0</td>\n",
              "      <td>通常</td>\n",
              "      <td>1.000000</td>\n",
              "      <td>1.0</td>\n",
              "      <td>1.0</td>\n",
              "      <td>1.0</td>\n",
              "      <td>0.0</td>\n",
              "      <td>2018-05-31</td>\n",
              "      <td>12.0</td>\n",
              "      <td>2018-01-31</td>\n",
              "      <td>201801</td>\n",
              "    </tr>\n",
              "    <tr>\n",
              "      <th>17</th>\n",
              "      <td>201805</td>\n",
              "      <td>AS047907</td>\n",
              "      <td>4</td>\n",
              "      <td>3.0</td>\n",
              "      <td>XXX</td>\n",
              "      <td>C01</td>\n",
              "      <td>M</td>\n",
              "      <td>2016-10-01</td>\n",
              "      <td>2018-08-31</td>\n",
              "      <td>CA1</td>\n",
              "      <td>1.0</td>\n",
              "      <td>オールタイム</td>\n",
              "      <td>10500.0</td>\n",
              "      <td>通常</td>\n",
              "      <td>4.000000</td>\n",
              "      <td>4.0</td>\n",
              "      <td>5.0</td>\n",
              "      <td>3.0</td>\n",
              "      <td>1.0</td>\n",
              "      <td>2018-08-31</td>\n",
              "      <td>22.0</td>\n",
              "      <td>2018-01-31</td>\n",
              "      <td>201801</td>\n",
              "    </tr>\n",
              "  </tbody>\n",
              "</table>\n",
              "</div>"
            ],
            "text/plain": [
              "        年月 customer_id  count_0  ...  membership_period  exit_date exit_年月\n",
              "5   201805    AS015746        1  ...                8.0 2018-01-31  201801\n",
              "8   201805    AS025956        6  ...                9.0 2019-01-28  201901\n",
              "9   201805    AS029624        8  ...                8.0 2019-01-31  201901\n",
              "10  201805    AS030404        1  ...               12.0 2018-01-31  201801\n",
              "17  201805    AS047907        4  ...               22.0 2018-01-31  201801\n",
              "\n",
              "[5 rows x 23 columns]"
            ]
          },
          "metadata": {
            "tags": []
          },
          "execution_count": 18
        }
      ]
    },
    {
      "cell_type": "markdown",
      "metadata": {
        "colab_type": "text",
        "id": "F6tS0QFTpEGe"
      },
      "source": [
        "> ## ノック43:継続顧客のデータを作成しよう"
      ]
    },
    {
      "cell_type": "markdown",
      "metadata": {
        "id": "5S7gJiGfzZdy",
        "colab_type": "text"
      },
      "source": [
        "続いて継続者のデータも作成する。"
      ]
    },
    {
      "cell_type": "code",
      "metadata": {
        "id": "TznLCivMCxvA",
        "colab_type": "code",
        "colab": {
          "base_uri": "https://localhost:8080/",
          "height": 211
        },
        "outputId": "39d9110c-a06a-4a27-d2a8-fddbd04e9896"
      },
      "source": [
        "df_conti_customer = df_customer_join.loc[df_customer_join['is_deleted']==0]\n",
        "df_conti_customer_log = pd.merge(df_use_log, df_conti_customer, on='customer_id', how='left')\n",
        "\n",
        "# 欠損のある行を削除\n",
        "df_conti_customer_log.dropna(subset=['name'], inplace=True)\n",
        "df_conti_customer_log.head()"
      ],
      "execution_count": 19,
      "outputs": [
        {
          "output_type": "execute_result",
          "data": {
            "text/html": [
              "<div>\n",
              "<style scoped>\n",
              "    .dataframe tbody tr th:only-of-type {\n",
              "        vertical-align: middle;\n",
              "    }\n",
              "\n",
              "    .dataframe tbody tr th {\n",
              "        vertical-align: top;\n",
              "    }\n",
              "\n",
              "    .dataframe thead th {\n",
              "        text-align: right;\n",
              "    }\n",
              "</style>\n",
              "<table border=\"1\" class=\"dataframe\">\n",
              "  <thead>\n",
              "    <tr style=\"text-align: right;\">\n",
              "      <th></th>\n",
              "      <th>年月</th>\n",
              "      <th>customer_id</th>\n",
              "      <th>count_0</th>\n",
              "      <th>count_1</th>\n",
              "      <th>name</th>\n",
              "      <th>class</th>\n",
              "      <th>gender</th>\n",
              "      <th>start_date</th>\n",
              "      <th>end_date</th>\n",
              "      <th>campaign_id</th>\n",
              "      <th>is_deleted</th>\n",
              "      <th>class_name</th>\n",
              "      <th>price</th>\n",
              "      <th>campaign_name</th>\n",
              "      <th>mean</th>\n",
              "      <th>median</th>\n",
              "      <th>max</th>\n",
              "      <th>min</th>\n",
              "      <th>routine_flg</th>\n",
              "      <th>calc_date</th>\n",
              "      <th>membership_period</th>\n",
              "    </tr>\n",
              "  </thead>\n",
              "  <tbody>\n",
              "    <tr>\n",
              "      <th>0</th>\n",
              "      <td>201805</td>\n",
              "      <td>AS002855</td>\n",
              "      <td>5</td>\n",
              "      <td>4.0</td>\n",
              "      <td>XXXX</td>\n",
              "      <td>C03</td>\n",
              "      <td>F</td>\n",
              "      <td>2016-11-01</td>\n",
              "      <td>NaT</td>\n",
              "      <td>CA1</td>\n",
              "      <td>0.0</td>\n",
              "      <td>ナイト</td>\n",
              "      <td>6000.0</td>\n",
              "      <td>通常</td>\n",
              "      <td>4.500000</td>\n",
              "      <td>5.0</td>\n",
              "      <td>7.0</td>\n",
              "      <td>2.0</td>\n",
              "      <td>1.0</td>\n",
              "      <td>2019-04-30</td>\n",
              "      <td>29.0</td>\n",
              "    </tr>\n",
              "    <tr>\n",
              "      <th>1</th>\n",
              "      <td>201805</td>\n",
              "      <td>AS009373</td>\n",
              "      <td>4</td>\n",
              "      <td>3.0</td>\n",
              "      <td>XX</td>\n",
              "      <td>C01</td>\n",
              "      <td>F</td>\n",
              "      <td>2015-11-01</td>\n",
              "      <td>NaT</td>\n",
              "      <td>CA1</td>\n",
              "      <td>0.0</td>\n",
              "      <td>オールタイム</td>\n",
              "      <td>10500.0</td>\n",
              "      <td>通常</td>\n",
              "      <td>5.083333</td>\n",
              "      <td>5.0</td>\n",
              "      <td>7.0</td>\n",
              "      <td>3.0</td>\n",
              "      <td>1.0</td>\n",
              "      <td>2019-04-30</td>\n",
              "      <td>41.0</td>\n",
              "    </tr>\n",
              "    <tr>\n",
              "      <th>2</th>\n",
              "      <td>201805</td>\n",
              "      <td>AS015233</td>\n",
              "      <td>7</td>\n",
              "      <td>NaN</td>\n",
              "      <td>XXXXX</td>\n",
              "      <td>C01</td>\n",
              "      <td>M</td>\n",
              "      <td>2018-05-13</td>\n",
              "      <td>NaT</td>\n",
              "      <td>CA2</td>\n",
              "      <td>0.0</td>\n",
              "      <td>オールタイム</td>\n",
              "      <td>10500.0</td>\n",
              "      <td>入会費半額</td>\n",
              "      <td>7.545455</td>\n",
              "      <td>7.0</td>\n",
              "      <td>11.0</td>\n",
              "      <td>4.0</td>\n",
              "      <td>1.0</td>\n",
              "      <td>2019-04-30</td>\n",
              "      <td>11.0</td>\n",
              "    </tr>\n",
              "    <tr>\n",
              "      <th>3</th>\n",
              "      <td>201805</td>\n",
              "      <td>AS015315</td>\n",
              "      <td>3</td>\n",
              "      <td>6.0</td>\n",
              "      <td>XXXXX</td>\n",
              "      <td>C01</td>\n",
              "      <td>M</td>\n",
              "      <td>2015-07-01</td>\n",
              "      <td>NaT</td>\n",
              "      <td>CA1</td>\n",
              "      <td>0.0</td>\n",
              "      <td>オールタイム</td>\n",
              "      <td>10500.0</td>\n",
              "      <td>通常</td>\n",
              "      <td>4.833333</td>\n",
              "      <td>5.0</td>\n",
              "      <td>7.0</td>\n",
              "      <td>3.0</td>\n",
              "      <td>1.0</td>\n",
              "      <td>2019-04-30</td>\n",
              "      <td>45.0</td>\n",
              "    </tr>\n",
              "    <tr>\n",
              "      <th>4</th>\n",
              "      <td>201805</td>\n",
              "      <td>AS015739</td>\n",
              "      <td>5</td>\n",
              "      <td>7.0</td>\n",
              "      <td>XXXXX</td>\n",
              "      <td>C03</td>\n",
              "      <td>M</td>\n",
              "      <td>2017-06-01</td>\n",
              "      <td>NaT</td>\n",
              "      <td>CA1</td>\n",
              "      <td>0.0</td>\n",
              "      <td>ナイト</td>\n",
              "      <td>6000.0</td>\n",
              "      <td>通常</td>\n",
              "      <td>5.583333</td>\n",
              "      <td>5.5</td>\n",
              "      <td>8.0</td>\n",
              "      <td>4.0</td>\n",
              "      <td>1.0</td>\n",
              "      <td>2019-04-30</td>\n",
              "      <td>22.0</td>\n",
              "    </tr>\n",
              "  </tbody>\n",
              "</table>\n",
              "</div>"
            ],
            "text/plain": [
              "       年月 customer_id  count_0  ...  routine_flg  calc_date membership_period\n",
              "0  201805    AS002855        5  ...          1.0 2019-04-30              29.0\n",
              "1  201805    AS009373        4  ...          1.0 2019-04-30              41.0\n",
              "2  201805    AS015233        7  ...          1.0 2019-04-30              11.0\n",
              "3  201805    AS015315        3  ...          1.0 2019-04-30              45.0\n",
              "4  201805    AS015739        5  ...          1.0 2019-04-30              22.0\n",
              "\n",
              "[5 rows x 21 columns]"
            ]
          },
          "metadata": {
            "tags": []
          },
          "execution_count": 19
        }
      ]
    },
    {
      "cell_type": "code",
      "metadata": {
        "id": "Zkq03mcYYKb4",
        "colab_type": "code",
        "colab": {
          "base_uri": "https://localhost:8080/",
          "height": 33
        },
        "outputId": "2eda6b53-6e98-48e0-bf15-b5c0ca2f3e51"
      },
      "source": [
        "print(len(df_conti_customer_log))"
      ],
      "execution_count": 20,
      "outputs": [
        {
          "output_type": "stream",
          "text": [
            "27422\n"
          ],
          "name": "stdout"
        }
      ]
    },
    {
      "cell_type": "code",
      "metadata": {
        "id": "iQxRVE-m1vCj",
        "colab_type": "code",
        "colab": {
          "base_uri": "https://localhost:8080/",
          "height": 66
        },
        "outputId": "1dc4f9da-0fe5-4055-89e8-b29ae554d779"
      },
      "source": [
        "# データ数を確認\n",
        "assert((len(df_conti_customer_log)+len(df_exit_customer_log))==len(df_use_log))\n",
        "print(len(df_conti_customer_log))\n",
        "print(len(df_exit_customer_log))\n",
        "print(len(df_use_log))"
      ],
      "execution_count": 21,
      "outputs": [
        {
          "output_type": "stream",
          "text": [
            "27422\n",
            "6429\n",
            "33851\n"
          ],
          "name": "stdout"
        }
      ]
    },
    {
      "cell_type": "code",
      "metadata": {
        "id": "9eSg5U0_5kT8",
        "colab_type": "code",
        "colab": {
          "base_uri": "https://localhost:8080/",
          "height": 211
        },
        "outputId": "26cd5b2b-7b11-4ca7-8766-82c48abcd3fe"
      },
      "source": [
        "# 継続者のデータは、各 customer_id につきランダムな年月を１つ残す\n",
        "# sample() を使ったシャッフリング方法は初めて知りました\n",
        "# https://note.nkmk.me/python-pandas-random-sort-shuffle/\n",
        "\n",
        "df_conti_customer_log = df_conti_customer_log.sample(frac=1).reset_index(drop=True)\n",
        "df_conti_customer_log.drop_duplicates(subset='customer_id', inplace=True)\n",
        "df_conti_customer_log.head()"
      ],
      "execution_count": 22,
      "outputs": [
        {
          "output_type": "execute_result",
          "data": {
            "text/html": [
              "<div>\n",
              "<style scoped>\n",
              "    .dataframe tbody tr th:only-of-type {\n",
              "        vertical-align: middle;\n",
              "    }\n",
              "\n",
              "    .dataframe tbody tr th {\n",
              "        vertical-align: top;\n",
              "    }\n",
              "\n",
              "    .dataframe thead th {\n",
              "        text-align: right;\n",
              "    }\n",
              "</style>\n",
              "<table border=\"1\" class=\"dataframe\">\n",
              "  <thead>\n",
              "    <tr style=\"text-align: right;\">\n",
              "      <th></th>\n",
              "      <th>年月</th>\n",
              "      <th>customer_id</th>\n",
              "      <th>count_0</th>\n",
              "      <th>count_1</th>\n",
              "      <th>name</th>\n",
              "      <th>class</th>\n",
              "      <th>gender</th>\n",
              "      <th>start_date</th>\n",
              "      <th>end_date</th>\n",
              "      <th>campaign_id</th>\n",
              "      <th>is_deleted</th>\n",
              "      <th>class_name</th>\n",
              "      <th>price</th>\n",
              "      <th>campaign_name</th>\n",
              "      <th>mean</th>\n",
              "      <th>median</th>\n",
              "      <th>max</th>\n",
              "      <th>min</th>\n",
              "      <th>routine_flg</th>\n",
              "      <th>calc_date</th>\n",
              "      <th>membership_period</th>\n",
              "    </tr>\n",
              "  </thead>\n",
              "  <tbody>\n",
              "    <tr>\n",
              "      <th>0</th>\n",
              "      <td>201811</td>\n",
              "      <td>PL753720</td>\n",
              "      <td>4</td>\n",
              "      <td>2.0</td>\n",
              "      <td>XXXX</td>\n",
              "      <td>C01</td>\n",
              "      <td>F</td>\n",
              "      <td>2015-09-01</td>\n",
              "      <td>NaT</td>\n",
              "      <td>CA1</td>\n",
              "      <td>0.0</td>\n",
              "      <td>オールタイム</td>\n",
              "      <td>10500.0</td>\n",
              "      <td>通常</td>\n",
              "      <td>4.333333</td>\n",
              "      <td>4.0</td>\n",
              "      <td>7.0</td>\n",
              "      <td>2.0</td>\n",
              "      <td>1.0</td>\n",
              "      <td>2019-04-30</td>\n",
              "      <td>43.0</td>\n",
              "    </tr>\n",
              "    <tr>\n",
              "      <th>1</th>\n",
              "      <td>201807</td>\n",
              "      <td>HI777712</td>\n",
              "      <td>4</td>\n",
              "      <td>7.0</td>\n",
              "      <td>XXXXX</td>\n",
              "      <td>C01</td>\n",
              "      <td>M</td>\n",
              "      <td>2016-12-01</td>\n",
              "      <td>NaT</td>\n",
              "      <td>CA1</td>\n",
              "      <td>0.0</td>\n",
              "      <td>オールタイム</td>\n",
              "      <td>10500.0</td>\n",
              "      <td>通常</td>\n",
              "      <td>5.666667</td>\n",
              "      <td>6.0</td>\n",
              "      <td>9.0</td>\n",
              "      <td>3.0</td>\n",
              "      <td>1.0</td>\n",
              "      <td>2019-04-30</td>\n",
              "      <td>28.0</td>\n",
              "    </tr>\n",
              "    <tr>\n",
              "      <th>2</th>\n",
              "      <td>201808</td>\n",
              "      <td>HI878806</td>\n",
              "      <td>5</td>\n",
              "      <td>9.0</td>\n",
              "      <td>XXX</td>\n",
              "      <td>C01</td>\n",
              "      <td>M</td>\n",
              "      <td>2017-11-01</td>\n",
              "      <td>NaT</td>\n",
              "      <td>CA1</td>\n",
              "      <td>0.0</td>\n",
              "      <td>オールタイム</td>\n",
              "      <td>10500.0</td>\n",
              "      <td>通常</td>\n",
              "      <td>6.583333</td>\n",
              "      <td>6.5</td>\n",
              "      <td>9.0</td>\n",
              "      <td>5.0</td>\n",
              "      <td>1.0</td>\n",
              "      <td>2019-04-30</td>\n",
              "      <td>17.0</td>\n",
              "    </tr>\n",
              "    <tr>\n",
              "      <th>3</th>\n",
              "      <td>201811</td>\n",
              "      <td>OA252665</td>\n",
              "      <td>8</td>\n",
              "      <td>NaN</td>\n",
              "      <td>XXXXX</td>\n",
              "      <td>C01</td>\n",
              "      <td>F</td>\n",
              "      <td>2018-11-15</td>\n",
              "      <td>NaT</td>\n",
              "      <td>CA1</td>\n",
              "      <td>0.0</td>\n",
              "      <td>オールタイム</td>\n",
              "      <td>10500.0</td>\n",
              "      <td>通常</td>\n",
              "      <td>7.200000</td>\n",
              "      <td>8.0</td>\n",
              "      <td>8.0</td>\n",
              "      <td>5.0</td>\n",
              "      <td>1.0</td>\n",
              "      <td>2019-04-30</td>\n",
              "      <td>5.0</td>\n",
              "    </tr>\n",
              "    <tr>\n",
              "      <th>4</th>\n",
              "      <td>201809</td>\n",
              "      <td>GD172600</td>\n",
              "      <td>6</td>\n",
              "      <td>9.0</td>\n",
              "      <td>XX</td>\n",
              "      <td>C02</td>\n",
              "      <td>M</td>\n",
              "      <td>2017-02-01</td>\n",
              "      <td>NaT</td>\n",
              "      <td>CA1</td>\n",
              "      <td>0.0</td>\n",
              "      <td>デイタイム</td>\n",
              "      <td>7500.0</td>\n",
              "      <td>通常</td>\n",
              "      <td>5.416667</td>\n",
              "      <td>5.5</td>\n",
              "      <td>9.0</td>\n",
              "      <td>3.0</td>\n",
              "      <td>1.0</td>\n",
              "      <td>2019-04-30</td>\n",
              "      <td>26.0</td>\n",
              "    </tr>\n",
              "  </tbody>\n",
              "</table>\n",
              "</div>"
            ],
            "text/plain": [
              "       年月 customer_id  count_0  ...  routine_flg  calc_date membership_period\n",
              "0  201811    PL753720        4  ...          1.0 2019-04-30              43.0\n",
              "1  201807    HI777712        4  ...          1.0 2019-04-30              28.0\n",
              "2  201808    HI878806        5  ...          1.0 2019-04-30              17.0\n",
              "3  201811    OA252665        8  ...          1.0 2019-04-30               5.0\n",
              "4  201809    GD172600        6  ...          1.0 2019-04-30              26.0\n",
              "\n",
              "[5 rows x 21 columns]"
            ]
          },
          "metadata": {
            "tags": []
          },
          "execution_count": 22
        }
      ]
    },
    {
      "cell_type": "code",
      "metadata": {
        "id": "Lam1TSil73SK",
        "colab_type": "code",
        "colab": {
          "base_uri": "https://localhost:8080/",
          "height": 212
        },
        "outputId": "15fdab09-ce09-43c3-c1fd-3a19a976e0ae"
      },
      "source": [
        "# ユニークになっているか確認\n",
        "df_conti_customer_log['customer_id'].value_counts()"
      ],
      "execution_count": 23,
      "outputs": [
        {
          "output_type": "execute_result",
          "data": {
            "text/plain": [
              "GD629291    1\n",
              "IK577493    1\n",
              "TS982817    1\n",
              "GD763218    1\n",
              "OA124956    1\n",
              "           ..\n",
              "HD482972    1\n",
              "TS146087    1\n",
              "HI995135    1\n",
              "HD320060    1\n",
              "AS193568    1\n",
              "Name: customer_id, Length: 2842, dtype: int64"
            ]
          },
          "metadata": {
            "tags": []
          },
          "execution_count": 23
        }
      ]
    },
    {
      "cell_type": "code",
      "metadata": {
        "id": "H4CHjoKw8JuS",
        "colab_type": "code",
        "colab": {
          "base_uri": "https://localhost:8080/",
          "height": 212
        },
        "outputId": "00b7ea47-d899-4282-96db-973f2972a711"
      },
      "source": [
        "# 直近のデータが多いのは、最近入会して残ってる人の方が多いため\n",
        "df_conti_customer_log['年月'].value_counts()"
      ],
      "execution_count": 24,
      "outputs": [
        {
          "output_type": "execute_result",
          "data": {
            "text/plain": [
              "201903    402\n",
              "201901    305\n",
              "201902    297\n",
              "201812    287\n",
              "201811    235\n",
              "201810    232\n",
              "201808    227\n",
              "201807    225\n",
              "201809    221\n",
              "201806    208\n",
              "201805    203\n",
              "Name: 年月, dtype: int64"
            ]
          },
          "metadata": {
            "tags": []
          },
          "execution_count": 24
        }
      ]
    },
    {
      "cell_type": "code",
      "metadata": {
        "id": "ZolyQSGgALPW",
        "colab_type": "code",
        "colab": {
          "base_uri": "https://localhost:8080/",
          "height": 227
        },
        "outputId": "0d0bae80-a28b-43d8-b2ac-0a1dc9a7dc47"
      },
      "source": [
        "# 結合します\n",
        "df_predict = pd.concat([df_conti_customer_log, df_exit_customer_log], axis=0, ignore_index=True)\n",
        "df_predict.head()"
      ],
      "execution_count": 25,
      "outputs": [
        {
          "output_type": "execute_result",
          "data": {
            "text/html": [
              "<div>\n",
              "<style scoped>\n",
              "    .dataframe tbody tr th:only-of-type {\n",
              "        vertical-align: middle;\n",
              "    }\n",
              "\n",
              "    .dataframe tbody tr th {\n",
              "        vertical-align: top;\n",
              "    }\n",
              "\n",
              "    .dataframe thead th {\n",
              "        text-align: right;\n",
              "    }\n",
              "</style>\n",
              "<table border=\"1\" class=\"dataframe\">\n",
              "  <thead>\n",
              "    <tr style=\"text-align: right;\">\n",
              "      <th></th>\n",
              "      <th>年月</th>\n",
              "      <th>customer_id</th>\n",
              "      <th>count_0</th>\n",
              "      <th>count_1</th>\n",
              "      <th>name</th>\n",
              "      <th>class</th>\n",
              "      <th>gender</th>\n",
              "      <th>start_date</th>\n",
              "      <th>end_date</th>\n",
              "      <th>campaign_id</th>\n",
              "      <th>is_deleted</th>\n",
              "      <th>class_name</th>\n",
              "      <th>price</th>\n",
              "      <th>campaign_name</th>\n",
              "      <th>mean</th>\n",
              "      <th>median</th>\n",
              "      <th>max</th>\n",
              "      <th>min</th>\n",
              "      <th>routine_flg</th>\n",
              "      <th>calc_date</th>\n",
              "      <th>membership_period</th>\n",
              "      <th>exit_date</th>\n",
              "      <th>exit_年月</th>\n",
              "    </tr>\n",
              "  </thead>\n",
              "  <tbody>\n",
              "    <tr>\n",
              "      <th>0</th>\n",
              "      <td>201811</td>\n",
              "      <td>PL753720</td>\n",
              "      <td>4</td>\n",
              "      <td>2.0</td>\n",
              "      <td>XXXX</td>\n",
              "      <td>C01</td>\n",
              "      <td>F</td>\n",
              "      <td>2015-09-01</td>\n",
              "      <td>NaT</td>\n",
              "      <td>CA1</td>\n",
              "      <td>0.0</td>\n",
              "      <td>オールタイム</td>\n",
              "      <td>10500.0</td>\n",
              "      <td>通常</td>\n",
              "      <td>4.333333</td>\n",
              "      <td>4.0</td>\n",
              "      <td>7.0</td>\n",
              "      <td>2.0</td>\n",
              "      <td>1.0</td>\n",
              "      <td>2019-04-30</td>\n",
              "      <td>43.0</td>\n",
              "      <td>NaT</td>\n",
              "      <td>NaN</td>\n",
              "    </tr>\n",
              "    <tr>\n",
              "      <th>1</th>\n",
              "      <td>201807</td>\n",
              "      <td>HI777712</td>\n",
              "      <td>4</td>\n",
              "      <td>7.0</td>\n",
              "      <td>XXXXX</td>\n",
              "      <td>C01</td>\n",
              "      <td>M</td>\n",
              "      <td>2016-12-01</td>\n",
              "      <td>NaT</td>\n",
              "      <td>CA1</td>\n",
              "      <td>0.0</td>\n",
              "      <td>オールタイム</td>\n",
              "      <td>10500.0</td>\n",
              "      <td>通常</td>\n",
              "      <td>5.666667</td>\n",
              "      <td>6.0</td>\n",
              "      <td>9.0</td>\n",
              "      <td>3.0</td>\n",
              "      <td>1.0</td>\n",
              "      <td>2019-04-30</td>\n",
              "      <td>28.0</td>\n",
              "      <td>NaT</td>\n",
              "      <td>NaN</td>\n",
              "    </tr>\n",
              "    <tr>\n",
              "      <th>2</th>\n",
              "      <td>201808</td>\n",
              "      <td>HI878806</td>\n",
              "      <td>5</td>\n",
              "      <td>9.0</td>\n",
              "      <td>XXX</td>\n",
              "      <td>C01</td>\n",
              "      <td>M</td>\n",
              "      <td>2017-11-01</td>\n",
              "      <td>NaT</td>\n",
              "      <td>CA1</td>\n",
              "      <td>0.0</td>\n",
              "      <td>オールタイム</td>\n",
              "      <td>10500.0</td>\n",
              "      <td>通常</td>\n",
              "      <td>6.583333</td>\n",
              "      <td>6.5</td>\n",
              "      <td>9.0</td>\n",
              "      <td>5.0</td>\n",
              "      <td>1.0</td>\n",
              "      <td>2019-04-30</td>\n",
              "      <td>17.0</td>\n",
              "      <td>NaT</td>\n",
              "      <td>NaN</td>\n",
              "    </tr>\n",
              "    <tr>\n",
              "      <th>3</th>\n",
              "      <td>201811</td>\n",
              "      <td>OA252665</td>\n",
              "      <td>8</td>\n",
              "      <td>NaN</td>\n",
              "      <td>XXXXX</td>\n",
              "      <td>C01</td>\n",
              "      <td>F</td>\n",
              "      <td>2018-11-15</td>\n",
              "      <td>NaT</td>\n",
              "      <td>CA1</td>\n",
              "      <td>0.0</td>\n",
              "      <td>オールタイム</td>\n",
              "      <td>10500.0</td>\n",
              "      <td>通常</td>\n",
              "      <td>7.200000</td>\n",
              "      <td>8.0</td>\n",
              "      <td>8.0</td>\n",
              "      <td>5.0</td>\n",
              "      <td>1.0</td>\n",
              "      <td>2019-04-30</td>\n",
              "      <td>5.0</td>\n",
              "      <td>NaT</td>\n",
              "      <td>NaN</td>\n",
              "    </tr>\n",
              "    <tr>\n",
              "      <th>4</th>\n",
              "      <td>201809</td>\n",
              "      <td>GD172600</td>\n",
              "      <td>6</td>\n",
              "      <td>9.0</td>\n",
              "      <td>XX</td>\n",
              "      <td>C02</td>\n",
              "      <td>M</td>\n",
              "      <td>2017-02-01</td>\n",
              "      <td>NaT</td>\n",
              "      <td>CA1</td>\n",
              "      <td>0.0</td>\n",
              "      <td>デイタイム</td>\n",
              "      <td>7500.0</td>\n",
              "      <td>通常</td>\n",
              "      <td>5.416667</td>\n",
              "      <td>5.5</td>\n",
              "      <td>9.0</td>\n",
              "      <td>3.0</td>\n",
              "      <td>1.0</td>\n",
              "      <td>2019-04-30</td>\n",
              "      <td>26.0</td>\n",
              "      <td>NaT</td>\n",
              "      <td>NaN</td>\n",
              "    </tr>\n",
              "  </tbody>\n",
              "</table>\n",
              "</div>"
            ],
            "text/plain": [
              "       年月 customer_id  count_0  ...  membership_period exit_date exit_年月\n",
              "0  201811    PL753720        4  ...               43.0       NaT     NaN\n",
              "1  201807    HI777712        4  ...               28.0       NaT     NaN\n",
              "2  201808    HI878806        5  ...               17.0       NaT     NaN\n",
              "3  201811    OA252665        8  ...                5.0       NaT     NaN\n",
              "4  201809    GD172600        6  ...               26.0       NaT     NaN\n",
              "\n",
              "[5 rows x 23 columns]"
            ]
          },
          "metadata": {
            "tags": []
          },
          "execution_count": 25
        }
      ]
    },
    {
      "cell_type": "code",
      "metadata": {
        "id": "anlOY-nxoZLT",
        "colab_type": "code",
        "colab": {
          "base_uri": "https://localhost:8080/",
          "height": 66
        },
        "outputId": "41750890-9e55-4540-b3e5-7b0cf16d01e3"
      },
      "source": [
        "# 全体  継続者数 退会者数\n",
        "print(len(df_predict))\n",
        "print(len(df_predict[df_predict['exit_date'].isnull()]))\n",
        "print(len(df_predict[~df_predict['exit_date'].isnull()]))"
      ],
      "execution_count": 26,
      "outputs": [
        {
          "output_type": "stream",
          "text": [
            "9271\n",
            "2842\n",
            "6429\n"
          ],
          "name": "stdout"
        }
      ]
    },
    {
      "cell_type": "markdown",
      "metadata": {
        "colab_type": "text",
        "id": "ej80D7iQpEN9"
      },
      "source": [
        "> ## ノック44:予測する月の在籍期間を作成しよう"
      ]
    },
    {
      "cell_type": "code",
      "metadata": {
        "id": "kHQNUgIS5a_4",
        "colab_type": "code",
        "colab": {
          "base_uri": "https://localhost:8080/",
          "height": 308
        },
        "outputId": "95b82857-0a0d-47df-dc40-722f34c6980d"
      },
      "source": [
        "# 在籍期間を特徴量として追加する\n",
        "\n",
        "def delta_to_month(delta):\n",
        "  return delta.years*12 + delta.months\n",
        "\n",
        "df_predict['年月'] = pd.to_datetime(df_predict['年月'], format='%Y%m')\n",
        "df_predict['user_period'] = 0\n",
        "df_predict['user_period'] = df_predict.apply(lambda x: delta_to_month(relativedelta(x['年月'], x['start_date'])), axis=1)\n",
        "df_predict.head()"
      ],
      "execution_count": 27,
      "outputs": [
        {
          "output_type": "execute_result",
          "data": {
            "text/html": [
              "<div>\n",
              "<style scoped>\n",
              "    .dataframe tbody tr th:only-of-type {\n",
              "        vertical-align: middle;\n",
              "    }\n",
              "\n",
              "    .dataframe tbody tr th {\n",
              "        vertical-align: top;\n",
              "    }\n",
              "\n",
              "    .dataframe thead th {\n",
              "        text-align: right;\n",
              "    }\n",
              "</style>\n",
              "<table border=\"1\" class=\"dataframe\">\n",
              "  <thead>\n",
              "    <tr style=\"text-align: right;\">\n",
              "      <th></th>\n",
              "      <th>年月</th>\n",
              "      <th>customer_id</th>\n",
              "      <th>count_0</th>\n",
              "      <th>count_1</th>\n",
              "      <th>name</th>\n",
              "      <th>class</th>\n",
              "      <th>gender</th>\n",
              "      <th>start_date</th>\n",
              "      <th>end_date</th>\n",
              "      <th>campaign_id</th>\n",
              "      <th>is_deleted</th>\n",
              "      <th>class_name</th>\n",
              "      <th>price</th>\n",
              "      <th>campaign_name</th>\n",
              "      <th>mean</th>\n",
              "      <th>median</th>\n",
              "      <th>max</th>\n",
              "      <th>min</th>\n",
              "      <th>routine_flg</th>\n",
              "      <th>calc_date</th>\n",
              "      <th>membership_period</th>\n",
              "      <th>exit_date</th>\n",
              "      <th>exit_年月</th>\n",
              "      <th>user_period</th>\n",
              "    </tr>\n",
              "  </thead>\n",
              "  <tbody>\n",
              "    <tr>\n",
              "      <th>0</th>\n",
              "      <td>2018-11-01</td>\n",
              "      <td>PL753720</td>\n",
              "      <td>4</td>\n",
              "      <td>2.0</td>\n",
              "      <td>XXXX</td>\n",
              "      <td>C01</td>\n",
              "      <td>F</td>\n",
              "      <td>2015-09-01</td>\n",
              "      <td>NaT</td>\n",
              "      <td>CA1</td>\n",
              "      <td>0.0</td>\n",
              "      <td>オールタイム</td>\n",
              "      <td>10500.0</td>\n",
              "      <td>通常</td>\n",
              "      <td>4.333333</td>\n",
              "      <td>4.0</td>\n",
              "      <td>7.0</td>\n",
              "      <td>2.0</td>\n",
              "      <td>1.0</td>\n",
              "      <td>2019-04-30</td>\n",
              "      <td>43.0</td>\n",
              "      <td>NaT</td>\n",
              "      <td>NaN</td>\n",
              "      <td>38</td>\n",
              "    </tr>\n",
              "    <tr>\n",
              "      <th>1</th>\n",
              "      <td>2018-07-01</td>\n",
              "      <td>HI777712</td>\n",
              "      <td>4</td>\n",
              "      <td>7.0</td>\n",
              "      <td>XXXXX</td>\n",
              "      <td>C01</td>\n",
              "      <td>M</td>\n",
              "      <td>2016-12-01</td>\n",
              "      <td>NaT</td>\n",
              "      <td>CA1</td>\n",
              "      <td>0.0</td>\n",
              "      <td>オールタイム</td>\n",
              "      <td>10500.0</td>\n",
              "      <td>通常</td>\n",
              "      <td>5.666667</td>\n",
              "      <td>6.0</td>\n",
              "      <td>9.0</td>\n",
              "      <td>3.0</td>\n",
              "      <td>1.0</td>\n",
              "      <td>2019-04-30</td>\n",
              "      <td>28.0</td>\n",
              "      <td>NaT</td>\n",
              "      <td>NaN</td>\n",
              "      <td>19</td>\n",
              "    </tr>\n",
              "    <tr>\n",
              "      <th>2</th>\n",
              "      <td>2018-08-01</td>\n",
              "      <td>HI878806</td>\n",
              "      <td>5</td>\n",
              "      <td>9.0</td>\n",
              "      <td>XXX</td>\n",
              "      <td>C01</td>\n",
              "      <td>M</td>\n",
              "      <td>2017-11-01</td>\n",
              "      <td>NaT</td>\n",
              "      <td>CA1</td>\n",
              "      <td>0.0</td>\n",
              "      <td>オールタイム</td>\n",
              "      <td>10500.0</td>\n",
              "      <td>通常</td>\n",
              "      <td>6.583333</td>\n",
              "      <td>6.5</td>\n",
              "      <td>9.0</td>\n",
              "      <td>5.0</td>\n",
              "      <td>1.0</td>\n",
              "      <td>2019-04-30</td>\n",
              "      <td>17.0</td>\n",
              "      <td>NaT</td>\n",
              "      <td>NaN</td>\n",
              "      <td>9</td>\n",
              "    </tr>\n",
              "    <tr>\n",
              "      <th>3</th>\n",
              "      <td>2018-11-01</td>\n",
              "      <td>OA252665</td>\n",
              "      <td>8</td>\n",
              "      <td>NaN</td>\n",
              "      <td>XXXXX</td>\n",
              "      <td>C01</td>\n",
              "      <td>F</td>\n",
              "      <td>2018-11-15</td>\n",
              "      <td>NaT</td>\n",
              "      <td>CA1</td>\n",
              "      <td>0.0</td>\n",
              "      <td>オールタイム</td>\n",
              "      <td>10500.0</td>\n",
              "      <td>通常</td>\n",
              "      <td>7.200000</td>\n",
              "      <td>8.0</td>\n",
              "      <td>8.0</td>\n",
              "      <td>5.0</td>\n",
              "      <td>1.0</td>\n",
              "      <td>2019-04-30</td>\n",
              "      <td>5.0</td>\n",
              "      <td>NaT</td>\n",
              "      <td>NaN</td>\n",
              "      <td>0</td>\n",
              "    </tr>\n",
              "    <tr>\n",
              "      <th>4</th>\n",
              "      <td>2018-09-01</td>\n",
              "      <td>GD172600</td>\n",
              "      <td>6</td>\n",
              "      <td>9.0</td>\n",
              "      <td>XX</td>\n",
              "      <td>C02</td>\n",
              "      <td>M</td>\n",
              "      <td>2017-02-01</td>\n",
              "      <td>NaT</td>\n",
              "      <td>CA1</td>\n",
              "      <td>0.0</td>\n",
              "      <td>デイタイム</td>\n",
              "      <td>7500.0</td>\n",
              "      <td>通常</td>\n",
              "      <td>5.416667</td>\n",
              "      <td>5.5</td>\n",
              "      <td>9.0</td>\n",
              "      <td>3.0</td>\n",
              "      <td>1.0</td>\n",
              "      <td>2019-04-30</td>\n",
              "      <td>26.0</td>\n",
              "      <td>NaT</td>\n",
              "      <td>NaN</td>\n",
              "      <td>19</td>\n",
              "    </tr>\n",
              "  </tbody>\n",
              "</table>\n",
              "</div>"
            ],
            "text/plain": [
              "          年月 customer_id  count_0  ...  exit_date exit_年月 user_period\n",
              "0 2018-11-01    PL753720        4  ...        NaT     NaN          38\n",
              "1 2018-07-01    HI777712        4  ...        NaT     NaN          19\n",
              "2 2018-08-01    HI878806        5  ...        NaT     NaN           9\n",
              "3 2018-11-01    OA252665        8  ...        NaT     NaN           0\n",
              "4 2018-09-01    GD172600        6  ...        NaT     NaN          19\n",
              "\n",
              "[5 rows x 24 columns]"
            ]
          },
          "metadata": {
            "tags": []
          },
          "execution_count": 27
        }
      ]
    },
    {
      "cell_type": "markdown",
      "metadata": {
        "colab_type": "text",
        "id": "eCd57F8tpERE"
      },
      "source": [
        "> ## ノック45:欠損値を除去しよう"
      ]
    },
    {
      "cell_type": "code",
      "metadata": {
        "id": "bbQqcFR-mVAC",
        "colab_type": "code",
        "colab": {
          "base_uri": "https://localhost:8080/",
          "height": 440
        },
        "outputId": "5a3cef12-79d2-4592-9adc-48990ed0627c"
      },
      "source": [
        "print(\"データ総数: \", len(df_predict))\n",
        "df_predict.isna().sum()"
      ],
      "execution_count": 28,
      "outputs": [
        {
          "output_type": "stream",
          "text": [
            "データ総数:  9271\n"
          ],
          "name": "stdout"
        },
        {
          "output_type": "execute_result",
          "data": {
            "text/plain": [
              "年月                      0\n",
              "customer_id             0\n",
              "count_0                 0\n",
              "count_1               715\n",
              "name                    0\n",
              "class                   0\n",
              "gender                  0\n",
              "start_date              0\n",
              "end_date             2842\n",
              "campaign_id             0\n",
              "is_deleted              0\n",
              "class_name              0\n",
              "price                   0\n",
              "campaign_name           0\n",
              "mean                    0\n",
              "median                  0\n",
              "max                     0\n",
              "min                     0\n",
              "routine_flg             0\n",
              "calc_date               0\n",
              "membership_period       0\n",
              "exit_date            2842\n",
              "exit_年月              2842\n",
              "user_period             0\n",
              "dtype: int64"
            ]
          },
          "metadata": {
            "tags": []
          },
          "execution_count": 28
        }
      ]
    },
    {
      "cell_type": "code",
      "metadata": {
        "id": "KbGetNXenD2T",
        "colab_type": "code",
        "colab": {
          "base_uri": "https://localhost:8080/",
          "height": 440
        },
        "outputId": "f7654a45-0513-4753-e0e6-31ad021607fa"
      },
      "source": [
        "# count_1以外のカラムは継続ユーザーによるものなので無視\n",
        "# counct_1 の欠損だけ考慮して削除する\n",
        "df_predict.dropna(subset=['count_1'], inplace=True)\n",
        "print(\"データ総数: \", len(df_predict))\n",
        "df_predict.isna().sum()"
      ],
      "execution_count": 29,
      "outputs": [
        {
          "output_type": "stream",
          "text": [
            "データ総数:  8556\n"
          ],
          "name": "stdout"
        },
        {
          "output_type": "execute_result",
          "data": {
            "text/plain": [
              "年月                      0\n",
              "customer_id             0\n",
              "count_0                 0\n",
              "count_1                 0\n",
              "name                    0\n",
              "class                   0\n",
              "gender                  0\n",
              "start_date              0\n",
              "end_date             2640\n",
              "campaign_id             0\n",
              "is_deleted              0\n",
              "class_name              0\n",
              "price                   0\n",
              "campaign_name           0\n",
              "mean                    0\n",
              "median                  0\n",
              "max                     0\n",
              "min                     0\n",
              "routine_flg             0\n",
              "calc_date               0\n",
              "membership_period       0\n",
              "exit_date            2640\n",
              "exit_年月              2640\n",
              "user_period             0\n",
              "dtype: int64"
            ]
          },
          "metadata": {
            "tags": []
          },
          "execution_count": 29
        }
      ]
    },
    {
      "cell_type": "code",
      "metadata": {
        "id": "WCMQz7pRnyqE",
        "colab_type": "code",
        "colab": {
          "base_uri": "https://localhost:8080/",
          "height": 66
        },
        "outputId": "13923d52-4f6a-4dc1-f3aa-1f1728d241cf"
      },
      "source": [
        "# 全体  継続者数  退会者数\n",
        "print(len(df_predict))\n",
        "print(len(df_predict[df_predict['exit_date'].isnull()]))\n",
        "print(len(df_predict[~df_predict['exit_date'].isnull()]))"
      ],
      "execution_count": 30,
      "outputs": [
        {
          "output_type": "stream",
          "text": [
            "8556\n",
            "2640\n",
            "5916\n"
          ],
          "name": "stdout"
        }
      ]
    },
    {
      "cell_type": "markdown",
      "metadata": {
        "id": "krk0hUUFpbmR",
        "colab_type": "text"
      },
      "source": [
        "継続者:退会者 が 1:2 ぐらい"
      ]
    },
    {
      "cell_type": "markdown",
      "metadata": {
        "colab_type": "text",
        "id": "C-zlFixlpKSZ"
      },
      "source": [
        "> ## ノック46:文字列型の変数を処理できるように整形しよう"
      ]
    },
    {
      "cell_type": "code",
      "metadata": {
        "id": "YloZFos5qkZS",
        "colab_type": "code",
        "colab": {
          "base_uri": "https://localhost:8080/",
          "height": 115
        },
        "outputId": "e9a1fd17-4eb8-4aa1-e52e-10b0e478229e"
      },
      "source": [
        "df_predict.columns"
      ],
      "execution_count": 31,
      "outputs": [
        {
          "output_type": "execute_result",
          "data": {
            "text/plain": [
              "Index(['年月', 'customer_id', 'count_0', 'count_1', 'name', 'class', 'gender',\n",
              "       'start_date', 'end_date', 'campaign_id', 'is_deleted', 'class_name',\n",
              "       'price', 'campaign_name', 'mean', 'median', 'max', 'min', 'routine_flg',\n",
              "       'calc_date', 'membership_period', 'exit_date', 'exit_年月',\n",
              "       'user_period'],\n",
              "      dtype='object')"
            ]
          },
          "metadata": {
            "tags": []
          },
          "execution_count": 31
        }
      ]
    },
    {
      "cell_type": "code",
      "metadata": {
        "id": "xI8lYe-_p5mJ",
        "colab_type": "code",
        "colab": {
          "base_uri": "https://localhost:8080/",
          "height": 191
        },
        "outputId": "b5f13f2a-dfc9-473e-c5ba-8b01129f15d5"
      },
      "source": [
        "# 使用するカテゴリカル変数を dummy変数で置き換えていく\n",
        "cat_feat_list = ['gender', 'class_name', 'campaign_name']\n",
        "df_dummies = pd.get_dummies(df_predict[cat_feat_list])\n",
        "df_dummies.head()"
      ],
      "execution_count": 32,
      "outputs": [
        {
          "output_type": "execute_result",
          "data": {
            "text/html": [
              "<div>\n",
              "<style scoped>\n",
              "    .dataframe tbody tr th:only-of-type {\n",
              "        vertical-align: middle;\n",
              "    }\n",
              "\n",
              "    .dataframe tbody tr th {\n",
              "        vertical-align: top;\n",
              "    }\n",
              "\n",
              "    .dataframe thead th {\n",
              "        text-align: right;\n",
              "    }\n",
              "</style>\n",
              "<table border=\"1\" class=\"dataframe\">\n",
              "  <thead>\n",
              "    <tr style=\"text-align: right;\">\n",
              "      <th></th>\n",
              "      <th>gender_F</th>\n",
              "      <th>gender_M</th>\n",
              "      <th>class_name_オールタイム</th>\n",
              "      <th>class_name_デイタイム</th>\n",
              "      <th>class_name_ナイト</th>\n",
              "      <th>campaign_name_入会費半額</th>\n",
              "      <th>campaign_name_入会費無料</th>\n",
              "      <th>campaign_name_通常</th>\n",
              "    </tr>\n",
              "  </thead>\n",
              "  <tbody>\n",
              "    <tr>\n",
              "      <th>0</th>\n",
              "      <td>1</td>\n",
              "      <td>0</td>\n",
              "      <td>1</td>\n",
              "      <td>0</td>\n",
              "      <td>0</td>\n",
              "      <td>0</td>\n",
              "      <td>0</td>\n",
              "      <td>1</td>\n",
              "    </tr>\n",
              "    <tr>\n",
              "      <th>1</th>\n",
              "      <td>0</td>\n",
              "      <td>1</td>\n",
              "      <td>1</td>\n",
              "      <td>0</td>\n",
              "      <td>0</td>\n",
              "      <td>0</td>\n",
              "      <td>0</td>\n",
              "      <td>1</td>\n",
              "    </tr>\n",
              "    <tr>\n",
              "      <th>2</th>\n",
              "      <td>0</td>\n",
              "      <td>1</td>\n",
              "      <td>1</td>\n",
              "      <td>0</td>\n",
              "      <td>0</td>\n",
              "      <td>0</td>\n",
              "      <td>0</td>\n",
              "      <td>1</td>\n",
              "    </tr>\n",
              "    <tr>\n",
              "      <th>4</th>\n",
              "      <td>0</td>\n",
              "      <td>1</td>\n",
              "      <td>0</td>\n",
              "      <td>1</td>\n",
              "      <td>0</td>\n",
              "      <td>0</td>\n",
              "      <td>0</td>\n",
              "      <td>1</td>\n",
              "    </tr>\n",
              "    <tr>\n",
              "      <th>5</th>\n",
              "      <td>0</td>\n",
              "      <td>1</td>\n",
              "      <td>0</td>\n",
              "      <td>0</td>\n",
              "      <td>1</td>\n",
              "      <td>0</td>\n",
              "      <td>1</td>\n",
              "      <td>0</td>\n",
              "    </tr>\n",
              "  </tbody>\n",
              "</table>\n",
              "</div>"
            ],
            "text/plain": [
              "   gender_F  gender_M  ...  campaign_name_入会費無料  campaign_name_通常\n",
              "0         1         0  ...                    0                 1\n",
              "1         0         1  ...                    0                 1\n",
              "2         0         1  ...                    0                 1\n",
              "4         0         1  ...                    0                 1\n",
              "5         0         1  ...                    1                 0\n",
              "\n",
              "[5 rows x 8 columns]"
            ]
          },
          "metadata": {
            "tags": []
          },
          "execution_count": 32
        }
      ]
    },
    {
      "cell_type": "code",
      "metadata": {
        "id": "o2kD_dREtjry",
        "colab_type": "code",
        "colab": {
          "base_uri": "https://localhost:8080/",
          "height": 191
        },
        "outputId": "8bca30b8-6987-4aa5-a25b-b656de9c1f4d"
      },
      "source": [
        "# 必要なカラムだけ抜き出して、予測に使うデータを作成します\n",
        "df_predict_final = pd.concat([df_predict[['is_deleted', 'count_1', 'routine_flg', 'user_period']], df_dummies.drop(columns=['gender_M', 'class_name_ナイト', 'campaign_name_通常'])], axis=1)\n",
        "df_predict_final.head()"
      ],
      "execution_count": 33,
      "outputs": [
        {
          "output_type": "execute_result",
          "data": {
            "text/html": [
              "<div>\n",
              "<style scoped>\n",
              "    .dataframe tbody tr th:only-of-type {\n",
              "        vertical-align: middle;\n",
              "    }\n",
              "\n",
              "    .dataframe tbody tr th {\n",
              "        vertical-align: top;\n",
              "    }\n",
              "\n",
              "    .dataframe thead th {\n",
              "        text-align: right;\n",
              "    }\n",
              "</style>\n",
              "<table border=\"1\" class=\"dataframe\">\n",
              "  <thead>\n",
              "    <tr style=\"text-align: right;\">\n",
              "      <th></th>\n",
              "      <th>is_deleted</th>\n",
              "      <th>count_1</th>\n",
              "      <th>routine_flg</th>\n",
              "      <th>user_period</th>\n",
              "      <th>gender_F</th>\n",
              "      <th>class_name_オールタイム</th>\n",
              "      <th>class_name_デイタイム</th>\n",
              "      <th>campaign_name_入会費半額</th>\n",
              "      <th>campaign_name_入会費無料</th>\n",
              "    </tr>\n",
              "  </thead>\n",
              "  <tbody>\n",
              "    <tr>\n",
              "      <th>0</th>\n",
              "      <td>0.0</td>\n",
              "      <td>2.0</td>\n",
              "      <td>1.0</td>\n",
              "      <td>38</td>\n",
              "      <td>1</td>\n",
              "      <td>1</td>\n",
              "      <td>0</td>\n",
              "      <td>0</td>\n",
              "      <td>0</td>\n",
              "    </tr>\n",
              "    <tr>\n",
              "      <th>1</th>\n",
              "      <td>0.0</td>\n",
              "      <td>7.0</td>\n",
              "      <td>1.0</td>\n",
              "      <td>19</td>\n",
              "      <td>0</td>\n",
              "      <td>1</td>\n",
              "      <td>0</td>\n",
              "      <td>0</td>\n",
              "      <td>0</td>\n",
              "    </tr>\n",
              "    <tr>\n",
              "      <th>2</th>\n",
              "      <td>0.0</td>\n",
              "      <td>9.0</td>\n",
              "      <td>1.0</td>\n",
              "      <td>9</td>\n",
              "      <td>0</td>\n",
              "      <td>1</td>\n",
              "      <td>0</td>\n",
              "      <td>0</td>\n",
              "      <td>0</td>\n",
              "    </tr>\n",
              "    <tr>\n",
              "      <th>4</th>\n",
              "      <td>0.0</td>\n",
              "      <td>9.0</td>\n",
              "      <td>1.0</td>\n",
              "      <td>19</td>\n",
              "      <td>0</td>\n",
              "      <td>0</td>\n",
              "      <td>1</td>\n",
              "      <td>0</td>\n",
              "      <td>0</td>\n",
              "    </tr>\n",
              "    <tr>\n",
              "      <th>5</th>\n",
              "      <td>0.0</td>\n",
              "      <td>5.0</td>\n",
              "      <td>1.0</td>\n",
              "      <td>15</td>\n",
              "      <td>0</td>\n",
              "      <td>0</td>\n",
              "      <td>0</td>\n",
              "      <td>0</td>\n",
              "      <td>1</td>\n",
              "    </tr>\n",
              "  </tbody>\n",
              "</table>\n",
              "</div>"
            ],
            "text/plain": [
              "   is_deleted  count_1  ...  campaign_name_入会費半額  campaign_name_入会費無料\n",
              "0         0.0      2.0  ...                    0                    0\n",
              "1         0.0      7.0  ...                    0                    0\n",
              "2         0.0      9.0  ...                    0                    0\n",
              "4         0.0      9.0  ...                    0                    0\n",
              "5         0.0      5.0  ...                    0                    1\n",
              "\n",
              "[5 rows x 9 columns]"
            ]
          },
          "metadata": {
            "tags": []
          },
          "execution_count": 33
        }
      ]
    },
    {
      "cell_type": "markdown",
      "metadata": {
        "colab_type": "text",
        "id": "gNLqh0x7pKa3"
      },
      "source": [
        "> ## ノック47:決定木を用いて退会予測モデルを作成してみよう"
      ]
    },
    {
      "cell_type": "code",
      "metadata": {
        "id": "w-9syLGxvtKX",
        "colab_type": "code",
        "colab": {}
      },
      "source": [
        "from sklearn.tree import DecisionTreeClassifier\n",
        "from sklearn.model_selection import train_test_split\n",
        "\n",
        "# データの分割\n",
        "\n",
        "X = df_predict_final.drop(columns=['is_deleted'])\n",
        "y = df_predict_final['is_deleted']\n",
        "\n",
        "X_train, X_test, y_train, y_test = train_test_split(X, y, test_size=0.2)\n"
      ],
      "execution_count": 34,
      "outputs": []
    },
    {
      "cell_type": "code",
      "metadata": {
        "id": "MzY6EMGCxSWk",
        "colab_type": "code",
        "colab": {
          "base_uri": "https://localhost:8080/",
          "height": 50
        },
        "outputId": "238a243f-59de-40d9-c023-a08f583c0cec"
      },
      "source": [
        "from sklearn.metrics import accuracy_score\n",
        "model = DecisionTreeClassifier()\n",
        "model.fit(X_train , y_train)\n",
        "y_pred_train = model.predict(X_train)\n",
        "y_pred_test = model.predict(X_test)\n",
        "print('Train accuracy Score: ', accuracy_score(y_pred_train, y_train))\n",
        "print('Test accuracy Score:  ', accuracy_score(y_pred_test, y_test))"
      ],
      "execution_count": 35,
      "outputs": [
        {
          "output_type": "stream",
          "text": [
            "Train accuracy Score:  0.9342489772063121\n",
            "Test accuracy Score:   0.8574766355140186\n"
          ],
          "name": "stdout"
        }
      ]
    },
    {
      "cell_type": "markdown",
      "metadata": {
        "id": "Mf4n20udx_ev",
        "colab_type": "text"
      },
      "source": [
        "ちょっと過学習気味"
      ]
    },
    {
      "cell_type": "markdown",
      "metadata": {
        "colab_type": "text",
        "id": "r45a4MAXpKe-"
      },
      "source": [
        "> ## ノック48:予測モデルの評価を行い、モデルのチューニングをしてみよう\n"
      ]
    },
    {
      "cell_type": "code",
      "metadata": {
        "id": "2SkFUUNEyydR",
        "colab_type": "code",
        "colab": {
          "base_uri": "https://localhost:8080/",
          "height": 82
        },
        "outputId": "4509f09c-7d4f-4bd7-f5a2-09267ffec6fd"
      },
      "source": [
        "# グリッドサーチでパラメターチューニング\n",
        "from sklearn.model_selection import GridSearchCV\n",
        "\n",
        "model_dtc = DecisionTreeClassifier(random_state=0)\n",
        "params = {'criterion': ['gini', 'entropy'],\n",
        "             'max_depth': [1, 2, 3, 4, 5, 6, 7],\n",
        "             'min_samples_split': [2, 3]}\n",
        "\n",
        "model_dtc = GridSearchCV(estimator=model_dtc, \n",
        "                     param_grid=params, \n",
        "                     cv=4,\n",
        "                     verbose=1, \n",
        "                     scoring='accuracy')\n",
        "\n",
        "model_dtc.fit(X_train, y_train)\n",
        "print(model_dtc.best_params_)"
      ],
      "execution_count": 36,
      "outputs": [
        {
          "output_type": "stream",
          "text": [
            "Fitting 4 folds for each of 28 candidates, totalling 112 fits\n"
          ],
          "name": "stdout"
        },
        {
          "output_type": "stream",
          "text": [
            "[Parallel(n_jobs=1)]: Using backend SequentialBackend with 1 concurrent workers.\n"
          ],
          "name": "stderr"
        },
        {
          "output_type": "stream",
          "text": [
            "{'criterion': 'entropy', 'max_depth': 7, 'min_samples_split': 2}\n"
          ],
          "name": "stdout"
        },
        {
          "output_type": "stream",
          "text": [
            "[Parallel(n_jobs=1)]: Done 112 out of 112 | elapsed:    1.1s finished\n"
          ],
          "name": "stderr"
        }
      ]
    },
    {
      "cell_type": "code",
      "metadata": {
        "id": "JUlb2gfI2dXE",
        "colab_type": "code",
        "colab": {
          "base_uri": "https://localhost:8080/",
          "height": 50
        },
        "outputId": "9ef790e4-474d-4675-e15d-a346036bfc46"
      },
      "source": [
        "model = model_dtc.best_estimator_\n",
        "model.fit(X_train, y_train)\n",
        "\n",
        "y_pred_train = model.predict(X_train)\n",
        "y_pred_test = model.predict(X_test)\n",
        "print('Train accuracy Score: ', accuracy_score(y_pred_train, y_train))\n",
        "print('Test accuracy Score:  ', accuracy_score(y_pred_test, y_test))"
      ],
      "execution_count": 37,
      "outputs": [
        {
          "output_type": "stream",
          "text": [
            "Train accuracy Score:  0.8958211572180012\n",
            "Test accuracy Score:   0.8790887850467289\n"
          ],
          "name": "stdout"
        }
      ]
    },
    {
      "cell_type": "markdown",
      "metadata": {
        "id": "o-jEnoSr5ATq",
        "colab_type": "text"
      },
      "source": [
        "さっきよりは上がった"
      ]
    },
    {
      "cell_type": "markdown",
      "metadata": {
        "colab_type": "text",
        "id": "NHTL8NwGpKhy"
      },
      "source": [
        "> ## ノック49:モデルに寄与している変数を確認しよう\n"
      ]
    },
    {
      "cell_type": "code",
      "metadata": {
        "id": "0vTHY8qH34x_",
        "colab_type": "code",
        "colab": {
          "base_uri": "https://localhost:8080/",
          "height": 277
        },
        "outputId": "42b1a73c-cae7-497b-aeab-a62dbfc71f81"
      },
      "source": [
        "importances = pd.DataFrame({'features': X.columns, 'scores': model.feature_importances_})\n",
        "importances.sort_values(by='scores', ascending=False, inplace=True)\n",
        "importances"
      ],
      "execution_count": 42,
      "outputs": [
        {
          "output_type": "execute_result",
          "data": {
            "text/html": [
              "<div>\n",
              "<style scoped>\n",
              "    .dataframe tbody tr th:only-of-type {\n",
              "        vertical-align: middle;\n",
              "    }\n",
              "\n",
              "    .dataframe tbody tr th {\n",
              "        vertical-align: top;\n",
              "    }\n",
              "\n",
              "    .dataframe thead th {\n",
              "        text-align: right;\n",
              "    }\n",
              "</style>\n",
              "<table border=\"1\" class=\"dataframe\">\n",
              "  <thead>\n",
              "    <tr style=\"text-align: right;\">\n",
              "      <th></th>\n",
              "      <th>features</th>\n",
              "      <th>scores</th>\n",
              "    </tr>\n",
              "  </thead>\n",
              "  <tbody>\n",
              "    <tr>\n",
              "      <th>2</th>\n",
              "      <td>user_period</td>\n",
              "      <td>0.647574</td>\n",
              "    </tr>\n",
              "    <tr>\n",
              "      <th>0</th>\n",
              "      <td>count_1</td>\n",
              "      <td>0.223263</td>\n",
              "    </tr>\n",
              "    <tr>\n",
              "      <th>1</th>\n",
              "      <td>routine_flg</td>\n",
              "      <td>0.107615</td>\n",
              "    </tr>\n",
              "    <tr>\n",
              "      <th>6</th>\n",
              "      <td>campaign_name_入会費半額</td>\n",
              "      <td>0.014093</td>\n",
              "    </tr>\n",
              "    <tr>\n",
              "      <th>4</th>\n",
              "      <td>class_name_オールタイム</td>\n",
              "      <td>0.003438</td>\n",
              "    </tr>\n",
              "    <tr>\n",
              "      <th>7</th>\n",
              "      <td>campaign_name_入会費無料</td>\n",
              "      <td>0.001796</td>\n",
              "    </tr>\n",
              "    <tr>\n",
              "      <th>3</th>\n",
              "      <td>gender_F</td>\n",
              "      <td>0.001241</td>\n",
              "    </tr>\n",
              "    <tr>\n",
              "      <th>5</th>\n",
              "      <td>class_name_デイタイム</td>\n",
              "      <td>0.000980</td>\n",
              "    </tr>\n",
              "  </tbody>\n",
              "</table>\n",
              "</div>"
            ],
            "text/plain": [
              "              features    scores\n",
              "2          user_period  0.647574\n",
              "0              count_1  0.223263\n",
              "1          routine_flg  0.107615\n",
              "6  campaign_name_入会費半額  0.014093\n",
              "4    class_name_オールタイム  0.003438\n",
              "7  campaign_name_入会費無料  0.001796\n",
              "3             gender_F  0.001241\n",
              "5     class_name_デイタイム  0.000980"
            ]
          },
          "metadata": {
            "tags": []
          },
          "execution_count": 42
        }
      ]
    },
    {
      "cell_type": "code",
      "metadata": {
        "id": "D8u0ODBL5DUQ",
        "colab_type": "code",
        "colab": {
          "base_uri": "https://localhost:8080/",
          "height": 293
        },
        "outputId": "6ef26a90-05eb-4fb3-ca99-99cf68827ed6"
      },
      "source": [
        "sns.barplot(x=importances['scores'], y=importances['features'], palette='husl')\n",
        "plt.xlabel('FEATURE IMPORTANCE')\n",
        "plt.ylabel('FEATURE NAMES')"
      ],
      "execution_count": 53,
      "outputs": [
        {
          "output_type": "execute_result",
          "data": {
            "text/plain": [
              "Text(0, 0.5, 'FEATURE NAMES')"
            ]
          },
          "metadata": {
            "tags": []
          },
          "execution_count": 53
        },
        {
          "output_type": "display_data",
          "data": {
            "image/png": "[encoded data removed]",
            "text/plain": [
              "<Figure size 432x288 with 1 Axes>"
            ]
          },
          "metadata": {
            "tags": [],
            "needs_background": "light"
          }
        }
      ]
    },
    {
      "cell_type": "markdown",
      "metadata": {
        "id": "je1qSrLS6_m0",
        "colab_type": "text"
      },
      "source": [
        "属性に比べて、利用期間や頻度が強く効いているよう"
      ]
    },
    {
      "cell_type": "markdown",
      "metadata": {
        "colab_type": "text",
        "id": "ipN6vy5cpPbB"
      },
      "source": [
        "> ## ノック50:顧客の退会を予測しよう"
      ]
    },
    {
      "cell_type": "code",
      "metadata": {
        "id": "OgZLN72ZpRKy",
        "colab_type": "code",
        "colab": {
          "base_uri": "https://localhost:8080/",
          "height": 82
        },
        "outputId": "50308b00-c22b-4ee5-bb2a-6eddbd63ffbb"
      },
      "source": [
        "# 教科書を参考に\n",
        "\n",
        "def predict_individual(x):\n",
        "  if x['campaign_name'] == \"入会費半額\":\n",
        "    campaign_name_list = [1, 0]\n",
        "  elif x['campaign_name']  == \"入会費無料\":\n",
        "      campaign_name_list = [0, 1]\n",
        "  elif x['campaign_name'] == \"通常\":\n",
        "      campaign_name_list = [0, 0]\n",
        "  if x['class_name'] == \"オールタイム\":\n",
        "      class_name_list = [1, 0]\n",
        "  elif x['class_name']  == \"デイタイム\":\n",
        "      class_name_list = [0, 1]\n",
        "  elif x['class_name']  == \"ナイト\":\n",
        "      class_name_list = [0, 0]\n",
        "  if x['gender'] == \"F\":\n",
        "      gender_list = [1]\n",
        "  elif x['gender'] == \"M\":\n",
        "      gender_list = [0]\n",
        "  input_data = [x['count_1'], x['routine_flg'], x['user_period']]\n",
        "  input_data.extend(gender_list)\n",
        "  input_data.extend(class_name_list)\n",
        "  input_data.extend(campaign_name_list)\n",
        "  print(model.predict([input_data]))\n",
        "  print(model.predict_proba([input_data]))\n",
        "\n",
        "\n",
        "\n",
        "user = {'campaign_name': '入会費無料',\n",
        "         'class_name':'オールタイム',\n",
        "          'gender':'F',\n",
        "          'count_1':10,\n",
        "          'routine_flg':1,\n",
        "          'user_period':10}\n",
        "\n",
        "user2 = {'campaign_name': '入会費半額',\n",
        "         'class_name':'デイタイム',\n",
        "          'gender':'M',\n",
        "          'count_1':10,\n",
        "          'routine_flg':0,\n",
        "          'user_period':10}\n",
        "\n",
        "\n",
        "predict_individual(user)\n",
        "predict_individual(user2)"
      ],
      "execution_count": 69,
      "outputs": [
        {
          "output_type": "stream",
          "text": [
            "[0.]\n",
            "[[1. 0.]]\n",
            "[1.]\n",
            "[[0. 1.]]\n"
          ],
          "name": "stdout"
        }
      ]
    },
    {
      "cell_type": "code",
      "metadata": {
        "id": "mzj24vzEACOV",
        "colab_type": "code",
        "colab": {
          "base_uri": "https://localhost:8080/",
          "height": 407
        },
        "outputId": "a8141bc9-5828-4036-e320-2d249e052327"
      },
      "source": [
        "! pip install shap"
      ],
      "execution_count": 71,
      "outputs": [
        {
          "output_type": "stream",
          "text": [
            "Collecting shap\n",
            "\u001b[?25l  Downloading https://files.pythonhosted.org/packages/d2/17/37ee6c79cafbd9bb7423b54e55ea90beec66aa7638664d607bcc28de0bae/shap-0.36.0.tar.gz (319kB)\n",
            "\u001b[K     |████████████████████████████████| 327kB 2.8MB/s \n",
            "\u001b[?25hRequirement already satisfied: numpy in /usr/local/lib/python3.6/dist-packages (from shap) (1.18.5)\n",
            "Requirement already satisfied: scipy in /usr/local/lib/python3.6/dist-packages (from shap) (1.4.1)\n",
            "Requirement already satisfied: scikit-learn in /usr/local/lib/python3.6/dist-packages (from shap) (0.22.2.post1)\n",
            "Requirement already satisfied: pandas in /usr/local/lib/python3.6/dist-packages (from shap) (1.0.5)\n",
            "Requirement already satisfied: tqdm>4.25.0 in /usr/local/lib/python3.6/dist-packages (from shap) (4.41.1)\n",
            "Collecting slicer\n",
            "  Downloading https://files.pythonhosted.org/packages/02/a6/c708c5a0f338e99cfbcb6288b88794525548e4fc1b8457feec2c552a81a4/slicer-0.0.3-py3-none-any.whl\n",
            "Requirement already satisfied: numba in /usr/local/lib/python3.6/dist-packages (from shap) (0.48.0)\n",
            "Requirement already satisfied: joblib>=0.11 in /usr/local/lib/python3.6/dist-packages (from scikit-learn->shap) (0.16.0)\n",
            "Requirement already satisfied: python-dateutil>=2.6.1 in /usr/local/lib/python3.6/dist-packages (from pandas->shap) (2.8.1)\n",
            "Requirement already satisfied: pytz>=2017.2 in /usr/local/lib/python3.6/dist-packages (from pandas->shap) (2018.9)\n",
            "Requirement already satisfied: llvmlite<0.32.0,>=0.31.0dev0 in /usr/local/lib/python3.6/dist-packages (from numba->shap) (0.31.0)\n",
            "Requirement already satisfied: setuptools in /usr/local/lib/python3.6/dist-packages (from numba->shap) (49.6.0)\n",
            "Requirement already satisfied: six>=1.5 in /usr/local/lib/python3.6/dist-packages (from python-dateutil>=2.6.1->pandas->shap) (1.15.0)\n",
            "Building wheels for collected packages: shap\n",
            "  Building wheel for shap (setup.py) ... \u001b[?25l\u001b[?25hdone\n",
            "  Created wheel for shap: filename=shap-0.36.0-cp36-cp36m-linux_x86_64.whl size=456456 sha256=805f4da1b3117b497f764144142f14770fc7f08eb953f92ae2ebc250c5f12b4f\n",
            "  Stored in directory: /root/.cache/pip/wheels/fb/15/e1/8f61106790da27e0765aaa6e664550ca2c50ea339099e799f4\n",
            "Successfully built shap\n",
            "Installing collected packages: slicer, shap\n",
            "Successfully installed shap-0.36.0 slicer-0.0.3\n"
          ],
          "name": "stdout"
        }
      ]
    },
    {
      "cell_type": "code",
      "metadata": {
        "id": "Z17Oq0-F_axl",
        "colab_type": "code",
        "colab": {
          "base_uri": "https://localhost:8080/",
          "height": 322
        },
        "outputId": "7a001533-d638-4f99-e16a-c8f8e970aee2"
      },
      "source": [
        "# おまけ\n",
        "# Shap で可視化してみる\n",
        "\n",
        "import shap\n",
        "\n",
        "explainer = shap.TreeExplainer(model=model)\n",
        "shap_values = explainer.shap_values(X=X)\n",
        "shap.summary_plot(shap_values, X)"
      ],
      "execution_count": 74,
      "outputs": [
        {
          "output_type": "display_data",
          "data": {
            "image/png": "[encoded data removed]",
            "text/plain": [
              "<Figure size 576x338.4 with 1 Axes>"
            ]
          },
          "metadata": {
            "tags": [],
            "needs_background": "light"
          }
        }
      ]
    },
    {
      "cell_type": "code",
      "metadata": {
        "id": "2kWha_is__Pz",
        "colab_type": "code",
        "colab": {
          "base_uri": "https://localhost:8080/",
          "height": 342
        },
        "outputId": "d5e37794-56e4-43be-f28a-a65415e3626a"
      },
      "source": [
        "# 利用期間が長いほど離脱しにくい\n",
        "shap.dependence_plot(ind=\"user_period\", shap_values=shap_values[1], features=X)"
      ],
      "execution_count": 85,
      "outputs": [
        {
          "output_type": "display_data",
          "data": {
            "image/png": "[encoded data removed]",
            "text/plain": [
              "<Figure size 540x360 with 2 Axes>"
            ]
          },
          "metadata": {
            "tags": [],
            "needs_background": "light"
          }
        }
      ]
    },
    {
      "cell_type": "code",
      "metadata": {
        "id": "wB_iHYt_Am66",
        "colab_type": "code",
        "colab": {
          "base_uri": "https://localhost:8080/",
          "height": 342
        },
        "outputId": "e44b090f-04e0-403a-d30d-bd2dbb4f7e21"
      },
      "source": [
        "# 利用回数が大きいほど, 離脱しにくい\n",
        "shap.dependence_plot(ind=\"count_1\", shap_values=shap_values[1], features=X)"
      ],
      "execution_count": 84,
      "outputs": [
        {
          "output_type": "display_data",
          "data": {
            "image/png": "[encoded data removed]",
            "text/plain": [
              "<Figure size 540x360 with 2 Axes>"
            ]
          },
          "metadata": {
            "tags": [],
            "needs_background": "light"
          }
        }
      ]
    },
    {
      "cell_type": "code",
      "metadata": {
        "id": "oKIyyKaYBA-1",
        "colab_type": "code",
        "colab": {
          "base_uri": "https://localhost:8080/",
          "height": 342
        },
        "outputId": "abbcab6b-d8d3-454f-afff-619d27cf7bc1"
      },
      "source": [
        "# ルーティーン化してるほど、離脱しにくい\n",
        "shap.dependence_plot(ind=\"routine_flg\", shap_values=shap_values[1], features=X)"
      ],
      "execution_count": 83,
      "outputs": [
        {
          "output_type": "display_data",
          "data": {
            "image/png": "[encoded data removed]",
            "text/plain": [
              "<Figure size 540x360 with 2 Axes>"
            ]
          },
          "metadata": {
            "tags": [],
            "needs_background": "light"
          }
        }
      ]
    }
  ]
}